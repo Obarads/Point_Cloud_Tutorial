{
 "cells": [
  {
   "cell_type": "markdown",
   "source": [
    "# Features\n",
    "## Abstract\n",
    "- ここでは、点群処理に欠かせないfeatureについて紹介します。\n",
    "\n",
    "## Introduction\n",
    "点群を用いたタスクを解くために、点群では特徴を抽出する必要があります。この特徴の背景については[Rusu, 2010]のSection 4冒頭で説明されています。以下は、その文章を丸々引用したものとなります。\n",
    "\n",
    "\n",
    "> In their native representation, points as defined in the concept of 3D mapping systems are simply represented using their Cartesian coordinates $x, y, z$, with respect to a given origin. Assuming that the origin of the coordinate system does not change over time, there could be two points $p_1$ and $p_2$ , acquired at $t_1$ and $t_2$ , having the same coordinates. Comparing these points however is an ill-posed problem, because even though they are equal with respect to some distance measure (e.g. Euclidean metric), they could be sampled on completely different surfaces, and thus represent totally different information when taken together with the other surrounding points in their vicinity. That is because there are no guarantees that the world has not changed between $t_1$ and $t_2$. Some acquisition devices might provide extra information for a sampled point, such as an intensity or surface remission value, or even a color, however that does not solve the problem completely and the comparison remains ambiguous.\n",
    "\n",
    "> Applications which need to compare points for various reasons require better characteristics and metrics to be able to distinguish between geometric surfaces. The concept of a 3D point as a singular entity with Cartesian coordinates therefore disappears, and a new concept, that of local descriptor takes its place. The literature is abundant of different naming schemes describing the same conceptualization, such as shape descriptors or geometric features but for the remaining of this document they will be referred to as point feature representations.\n",
    "\n",
    "上記の引用の要約(重要な点)は以下の通りです。また本チュートリアルでは、これら特徴のことを引用元と同じくpoint feature representationと呼ぶこととします。\n",
    "- 点群中の点を見分けるために識別的な特性を持ったpoint feature representationが必要となる。\n",
    "\n",
    "本sectionでは、点群処理手法ごとにpoint feature representationの獲得とタスクへの利用の各説明と、手法で利用されているアルゴリズムの紹介を行います。点群処理手法を2種類、上から順に説明して行きます。\n",
    "\n",
    "- (1) Methods with handcrafted feature\n",
    "- (2) Methods with Deep learning"
   ],
   "metadata": {}
  },
  {
   "cell_type": "markdown",
   "source": [
    "## Methods with handcrafted feature\n",
    "Handcrafted featureはある点の周りにある点\n"
   ],
   "metadata": {}
  },
  {
   "cell_type": "markdown",
   "source": [
    "## Methods with Deep learning\n",
    "(深層学習に関する優位点を述べながら紹介必要)\n",
    "\n",
    "その一例として、PointNet++を見てみましょう。PointNet++は深層学習モデルの一つであり、点群オブジェクトの分類問題を解くことができます。"
   ],
   "metadata": {}
  },
  {
   "cell_type": "code",
   "execution_count": null,
   "source": [
    "# PointNet++"
   ],
   "outputs": [],
   "metadata": {}
  },
  {
   "cell_type": "markdown",
   "source": [
    "こちらでは、丸々のようなものが使われています.\n",
    "\n",
    "rNN\n",
    "sampling\n",
    "upsampling?\n",
    "conv1D\n",
    "\n",
    "関連資料\n",
    "- 各モジュール\n",
    "- 点群特性\n",
    "\n",
    "\n"
   ],
   "metadata": {}
  },
  {
   "cell_type": "markdown",
   "source": [
    "## References\n",
    "- [Rusu, R.B. Semantic 3D Object Maps for Everyday Manipulation in Human Living Environments. Künstl Intell 24, 345–348 (2010). https://doi.org/10.1007/s13218-010-0059-6](https://link.springer.com/article/10.1007/s13218-010-0059-6#citeas)"
   ],
   "metadata": {}
  }
 ],
 "metadata": {
  "orig_nbformat": 4,
  "language_info": {
   "name": "python",
   "version": "3.7.10"
  },
  "kernelspec": {
   "name": "python3",
   "display_name": "Python 3.7.10 64-bit ('base': conda)"
  },
  "interpreter": {
   "hash": "d4d1e4263499bec80672ea0156c357c1ee493ec2b1c70f0acce89fc37c4a6abe"
  }
 },
 "nbformat": 4,
 "nbformat_minor": 2
}