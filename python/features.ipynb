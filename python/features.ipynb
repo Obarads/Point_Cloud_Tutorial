{
 "cells": [
  {
   "cell_type": "markdown",
   "metadata": {},
   "source": [
    "# Features\n",
    "## Abstract\n",
    "- ここでは、点群処理に欠かせないfeatureについて紹介します。\n",
    "\n",
    "## Introduction\n",
    "点群を用いたタスクをこなす場合、特徴抽出を用いる手法を使うことでより簡易にタスクが解ける可能性があります。\n",
    "\n",
    "特徴抽出を用いる手法を利用する場合、手法は以下の様な流れを持ちます。特徴抽出は、点群の点に含まれている座標値や法線などを点群が持っている情報を参照し、それらの情報からタスクを解くために役立つ情報(特徴)を算出します。その後、特徴は目的のタスクの結果を出力するpostprocessに使用されます。\n",
    "\n",
    "![processing](img/processing.png)\n",
    "\n",
    "この特徴抽出及び特徴の背景については[Rusu, 2010]のSection 4冒頭で説明されています。以下は、その文章を丸々引用したものとなります。\n",
    "\n",
    "> In their native representation, points as defined in the concept of 3D mapping systems are simply represented using their Cartesian coordinates $x, y, z$, with respect to a given origin. Assuming that the origin of the coordinate system does not change over time, there could be two points $p_1$ and $p_2$ , acquired at $t_1$ and $t_2$ , having the same coordinates. Comparing these points however is an ill-posed problem, because even though they are equal with respect to some distance measure (e.g. Euclidean metric), they could be sampled on completely different surfaces, and thus represent totally different information when taken together with the other surrounding points in their vicinity. That is because there are no guarantees that the world has not changed between $t_1$ and $t_2$. Some acquisition devices might provide extra information for a sampled point, such as an intensity or surface remission value, or even a color, however that does not solve the problem completely and the comparison remains ambiguous.\n",
    "\n",
    "> Applications which need to compare points for various reasons require better characteristics and metrics to be able to distinguish between geometric surfaces. The concept of a 3D point as a singular entity with Cartesian coordinates therefore disappears, and a new concept, that of local descriptor takes its place. The literature is abundant of different naming schemes describing the same conceptualization, such as shape descriptors or geometric features but for the remaining of this document they will be referred to as point feature representations.\n",
    "\n",
    "上記の引用の要約(重要な点)は以下の通りです。また本チュートリアルでは、これら特徴のことを引用元と同じくpoint feature representationと呼ぶこととします。\n",
    "- 点群中の点を見分けるために識別的な特性を持ったpoint feature representationが必要となる。\n",
    "\n",
    "本sectionでは、点群処理手法ごとにpoint feature representationの獲得とタスクへの利用の各説明を行います。点群処理手法を2種類、上から順に説明して行きます。\n",
    "\n",
    "- (1) Methods with handcrafted feature\n",
    "- (2) Methods with Deep learning\n"
   ]
  },
  {
   "cell_type": "markdown",
   "metadata": {},
   "source": [
    "## Methods with handcrafted feature\n",
    "Handcrafted featureはある点とその他いくつかの点を一組のグループとして扱い、グループ内の点の関係を特徴として使用します。例えば、Point Feature Histogram (PFH) [Rusu et al, 2008]は、以下の処理がなされています。\n",
    "1. ある点$p_q$を中心として半径$r$以内の点群を近傍点とする。\n",
    "2. 近傍点同士で2点一組の組み合わせをすべて計算する。下図の左では、二点の組み合わせをエッジによって示している。\n",
    "3. 各組で、2点間の特徴計算を行う。下図の右より、$(\\alpha, \\theta, \\phi, p_t - p_s)$が点間の特徴となる。\n",
    "4. 点間の特徴をヒストグラム化する。このヒストグラムがpoint feature representationとなる。\n",
    "5. 1~4までの手順を任意の点に対して行うことで、任意の点ごとにpoint feature representationを取得できる。\n",
    "\n",
    "![region](img/pfh.png)  \n",
    "([Point Cloud Library]より引用と編集)\n",
    "\n",
    "この様に、ある点と他の点の座標や法線の相対値に基づいてpoint feature representationを作成することで、Handcrafted featureの一つであるPFHを作成します。作成したpoint feature representationは、RegistrationやObject detectionに利用されます。\n",
    "\n",
    "実際にどの様にして特徴が作成されてタスクの結果として出力されるか、例として以下に示します。例では、RegistrationタスクでPFHを使っています。\n"
   ]
  },
  {
   "cell_type": "code",
   "execution_count": 1,
   "metadata": {},
   "outputs": [],
   "source": [
    "%load_ext autoreload\n",
    "%autoreload 2"
   ]
  },
  {
   "cell_type": "code",
   "execution_count": 5,
   "metadata": {},
   "outputs": [],
   "source": [
    "import numpy as np\n",
    "from tutlibs.registration import brute_force_matching\n",
    "from tutlibs.normal_estimation import normal_estimation\n",
    "from tutlibs.transformation import translation, rotation\n",
    "from tutlibs.sampling import voxel_grid_sampling\n",
    "from tutlibs.feature import pfh\n",
    "from tutlibs.io import Points as io\n",
    "from tutlibs.visualization import Points as visualizer"
   ]
  },
  {
   "cell_type": "code",
   "execution_count": 13,
   "metadata": {},
   "outputs": [
    {
     "data": {
      "application/vnd.jupyter.widget-view+json": {
       "model_id": "a656bc7348d44c5ab66b81a95d303e43",
       "version_major": 2,
       "version_minor": 0
      },
      "text/plain": [
       "Output()"
      ]
     },
     "metadata": {},
     "output_type": "display_data"
    }
   ],
   "source": [
    "# data acquisition\n",
    "source_xyz, source_colors, _ = io.read('../data/pcl_data/tutorials/correspondence_grouping/milk_cartoon_all_small_clorox.pcd')\n",
    "target_xyz, target_colors, _ = io.read('../data/pcl_data/tutorials/correspondence_grouping/milk.pcd')\n",
    "\n",
    "# target random transformation\n",
    "target_xyz = rotation(translation(target_xyz, np.array([1.5, 0, 0])), 'y', angle=45)\n",
    "\n",
    "# keypoints estimation\n",
    "source_dsxyz = voxel_grid_sampling(source_xyz, 0.05)\n",
    "target_dsxyz = voxel_grid_sampling(target_xyz, 0.05)\n",
    "\n",
    "# feature descriptors estimation\n",
    "source_normals = normal_estimation(source_dsxyz)\n",
    "target_normals = normal_estimation(target_dsxyz)\n",
    "sources_pfh = pfh(source_dsxyz, source_normals)\n",
    "target_pfh = pfh(target_dsxyz, target_normals)\n",
    "\n",
    "# correspondences estiomation (matching)\n",
    "match_idxs = brute_force_matching(source_dsxyz, target_dsxyz)\n",
    "\n",
    "# correspondence rejection method\n",
    "ransac(source_dsxyz, target_dsxyz, sources_pfh, target_pfh)\n",
    "\n"
   ]
  },
  {
   "cell_type": "markdown",
   "metadata": {},
   "source": [
    "## Methods with Deep learning\n",
    "Deep Learningを用いたpoint feature representationの取得では、Deep learningによって特徴抽出に最適なパラメータを自動取得し、そのパラメータに基づいて抽出を行います。この手法は他分野のDeep learning同様、目的のタスクに合うデータを用意する必要があるなどいくつかの制限がありますが、制限をクリアできれば他の手法よりも良い結果を得る可能性があります。そのため、近年(2021年)ではこのDeep learningを用いた手法が盛んに研究されています。\n",
    "\n",
    "例としては、\n",
    "\n",
    "その一例として、PointNet++を使ったRegistrationタスクを行ってみましょう。"
   ]
  },
  {
   "cell_type": "code",
   "execution_count": null,
   "metadata": {},
   "outputs": [],
   "source": [
    "# PointNet++"
   ]
  },
  {
   "cell_type": "markdown",
   "metadata": {},
   "source": [
    "こちらでは、丸々のようなものが使われています.\n",
    "\n",
    "rNN\n",
    "sampling\n",
    "upsampling?\n",
    "conv1D\n",
    "\n",
    "関連資料\n",
    "- 各モジュール\n",
    "- 点群特性\n",
    "\n",
    "\n"
   ]
  },
  {
   "cell_type": "markdown",
   "metadata": {},
   "source": [
    "## References\n",
    "- [Rusu, R.B. Semantic 3D Object Maps for Everyday Manipulation in Human Living Environments. Künstl Intell 24, 345–348 (2010). https://doi.org/10.1007/s13218-010-0059-6](https://link.springer.com/article/10.1007/s13218-010-0059-6#citeas)\n",
    "- [R. B. Rusu, N. Blodow and M. Beetz, \"Fast Point Feature Histograms (FPFH) for 3D registration,\" 2009 IEEE International Conference on Robotics and Automation, 2009, pp. 3212-3217, doi: 10.1109/ROBOT.2009.5152473.](https://www.cvl.iis.u-tokyo.ac.jp/class2016/2016w/papers/6.3DdataProcessing/Rusu_FPFH_ICRA2009.pdf)\n",
    "- [Rusu, Radu Bogdan, Zoltan Csaba Marton, Nico Blodow, and Michael Beetz. 2008. “Learning Informative Point Classes for the Acquisition of Object Model Maps.” In 2008 10th International Conference on Control, Automation, Robotics and Vision. IEEE. https://doi.org/10.1109/icarcv.2008.4795593.](https://citeseerx.ist.psu.edu/viewdoc/download?doi=10.1.1.584.2647&rep=rep1&type=pdf)\n",
    "- [Point Cloud Library. Point Feature Histograms (PFH) descriptors. URL: https://pcl.readthedocs.io/projects/tutorials/en/latest/pfh_estimation.html?highlight=PFH (Access: 2021/09/24)](https://pcl.readthedocs.io/projects/tutorials/en/latest/pfh_estimation.html?highlight=PFH)"
   ]
  },
  {
   "cell_type": "markdown",
   "metadata": {},
   "source": []
  }
 ],
 "metadata": {
  "interpreter": {
   "hash": "949777d72b0d2535278d3dc13498b2535136f6dfe0678499012e853ee9abcab1"
  },
  "kernelspec": {
   "display_name": "Python 3.8.12 64-bit",
   "name": "python3"
  },
  "language_info": {
   "codemirror_mode": {
    "name": "ipython",
    "version": 3
   },
   "file_extension": ".py",
   "mimetype": "text/x-python",
   "name": "python",
   "nbconvert_exporter": "python",
   "pygments_lexer": "ipython3",
   "version": "3.8.12"
  },
  "orig_nbformat": 4
 },
 "nbformat": 4,
 "nbformat_minor": 2
}
