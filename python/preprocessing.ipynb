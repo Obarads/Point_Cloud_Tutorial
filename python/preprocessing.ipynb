{
 "cells": [
  {
   "cell_type": "code",
   "execution_count": 5,
   "metadata": {},
   "outputs": [
    {
     "name": "stdout",
     "output_type": "stream",
     "text": [
      "[[ 0  1  2  3]\n",
      " [ 4  5  6  7]\n",
      " [ 8  9 10 11]\n",
      " [12 13 14 15]\n",
      " [16 17 18 19]\n",
      " [20 21 22 23]]\n",
      "[11 21 18]\n"
     ]
    }
   ],
   "source": [
    "import numpy as np\n",
    "\n",
    "arr = np.arange(24).reshape(6,4)\n",
    "idxs = np.array([\n",
    "    [2, 3],\n",
    "    [5,1],\n",
    "    [4, 2]\n",
    "])\n",
    "\n",
    "print(arr)\n",
    "print(arr[idxs[:, 0], idxs[:, 1]])"
   ]
  },
  {
   "cell_type": "code",
   "execution_count": 6,
   "metadata": {},
   "outputs": [
    {
     "name": "stdout",
     "output_type": "stream",
     "text": [
      "<__main__.Node object at 0x7f3862b69670>\n"
     ]
    }
   ],
   "source": [
    "class Node:pass\n",
    "\n",
    "def kdtree(pointList, depth=0):\n",
    "    if not pointList:\n",
    "        return\n",
    "\n",
    "    # 深さに応じて軸を選択し、軸が順次選択されるようにする\n",
    "    k = len(pointList[0]) # 全ての点が同じ次元を持つと仮定\n",
    "    axis = depth % k\n",
    "\n",
    "    # 点のリストをソートし、中央値の点を選択する\n",
    "    pointList.sort(key=lambda x:x[axis])\n",
    "    median = int(len(pointList)/2) # 中央値を選択\n",
    "\n",
    "    # ノードを作成し、部分木を構築する\n",
    "    node = Node()\n",
    "    node.location = pointList[median]\n",
    "    node.leftChild = kdtree(pointList[0:median], depth+1)\n",
    "    node.rightChild = kdtree(pointList[median+1:], depth+1)\n",
    "    return node\n",
    "\n",
    "import numpy as np\n",
    "pointList = np.arange(24).reshape(8,3).tolist()\n",
    "node = kdtree(pointList, depth=0)\n",
    "print(node.leftChild)"
   ]
  },
  {
   "cell_type": "code",
   "execution_count": 1,
   "metadata": {},
   "outputs": [],
   "source": [
    "import numpy as np\n",
    "from tutlibs.io import Points as io\n",
    "\n",
    "xyz, colors, data = io.read('../data/bunny_pc.ply')\n",
    "data['nx'] = data['nx'] - 1\n",
    "data['ny'] = data['ny'] - 1\n",
    "data['nz'] = data['nz'] - 1\n",
    "io.write('../data/bunny_pca.ply', xyz, colors, color_range=[0,255], additional_data=data)\n"
   ]
  },
  {
   "cell_type": "code",
   "execution_count": 2,
   "metadata": {},
   "outputs": [
    {
     "name": "stdout",
     "output_type": "stream",
     "text": [
      "Testing kdtree in Open3D...\n",
      "Load a point cloud and paint it gray.\n",
      "Find its 200 nearest neighbors, and paint them blue.\n",
      "Paint the 1500th point red.\n",
      "(3903, 3)\n"
     ]
    },
    {
     "data": {
      "application/vnd.jupyter.widget-view+json": {
       "model_id": "cc2ebfaffe47430ea59c1f60b4495159",
       "version_major": 2,
       "version_minor": 0
      },
      "text/plain": [
       "Output()"
      ]
     },
     "metadata": {},
     "output_type": "display_data"
    }
   ],
   "source": [
    "import open3d as o3d\n",
    "import numpy as np\n",
    "from tutlibs.visualization import Points as visualizer\n",
    "\n",
    "print(\"Testing kdtree in Open3D...\")\n",
    "print(\"Load a point cloud and paint it gray.\")\n",
    "pcd = o3d.io.read_point_cloud(\"cloud_bin_0.pcd\")\n",
    "pcd.paint_uniform_color([0.5, 0.5, 0.5])\n",
    "pcd_tree = o3d.geometry.KDTreeFlann(pcd)\n",
    "print(\"Find its 200 nearest neighbors, and paint them blue.\")\n",
    "[k, idx, _] = pcd_tree.search_knn_vector_3d(pcd.points[1500], 200)\n",
    "np.asarray(pcd.colors)[idx[1:], :] = [0, 0, 1]\n",
    "print(\"Paint the 1500th point red.\")\n",
    "pcd.colors[1500] = [1, 0, 0]\n",
    "colors = np.array(pcd.colors)\n",
    "points = np.asarray(pcd.points)\n",
    "\n",
    "print(colors.shape)\n",
    "\n",
    "visualizer.k3d(points, colors)\n"
   ]
  },
  {
   "cell_type": "code",
   "execution_count": null,
   "metadata": {},
   "outputs": [],
   "source": [
    "import numpy as np\n",
    "import k3d\n",
    "import os\n",
    "from tutlibs.normals import normal_estimation\n",
    "from tutlibs.nns import k_nearest_neighbors\n",
    "from tutlibs.utils import grouping\n",
    "\n",
    "from tutlibs.io import Points as io\n",
    "from tutlibs.visualization import Points as visualizer\n",
    "\n",
    "xyz, _, _ = io.read('../data/bunny_pc.ply')\n",
    "\n",
    "# Estimate normals\n",
    "k = 15\n",
    "normals = normal_estimation(xyz, k=k)\n",
    "\n",
    "normal_action = [1]\n",
    "idx_color = [0xff0000, 0x00ff00, 0x0000ff]\n",
    "if 0 in normal_action:\n",
    "    plot = k3d.plot()\n",
    "    line_coords = []\n",
    "    start_index = 0\n",
    "    end_index = 5\n",
    "    for normal_index in list(range(len(xyz)))[start_index:end_index]:\n",
    "        w, v = normals[normal_index]\n",
    "        w_idx = np.argsort(w).astype(np.int32)\n",
    "        for i, wi in enumerate(w_idx):\n",
    "            saki = xyz[normal_index]+v[:, wi]*0.1\n",
    "            plot += k3d.line([xyz[normal_index], saki], width=0.0010, color=idx_color[i])\n",
    "            # plot += k3d.text(\n",
    "            #     '{}, {}'.format(w[wi].tolist(), v[:, wi].tolist()),\n",
    "            #     position=saki.tolist(),\n",
    "            #     color=0xff0000,\n",
    "            #     size=1\n",
    "            # )\n",
    "    # visualizer.k3d(xyz, plot=plot)\n",
    "\n",
    "    idx, _ = k_nearest_neighbors(xyz, xyz, k)\n",
    "    knn_points = grouping(xyz, idx)\n",
    "    normal_knn_points = knn_points[start_index:end_index]\n",
    "    normal_knn_points = normal_knn_points.reshape(len(normal_knn_points)*k, 3)\n",
    "    normal_knn_colors = np.tile(np.array([[0, 1, 1]]), (len(normal_knn_points), 1))\n",
    "\n",
    "    visualizer.k3d(np.vstack([xyz, normal_knn_points]),\n",
    "                   np.vstack([colors, normal_knn_colors]), plot=plot)\n",
    "\n",
    "if 1 in normal_action:\n",
    "    normals_colors = normals\n",
    "    visualizer.k3d(xyz, normals_colors, color_range=[-1, 1])\n",
    "\n",
    "if 2 in normal_action:\n",
    "    os.makedirs('outputs/', exist_ok=True)\n",
    "    io.write('outputs/numpy_normal.ply', xyz, normals_colors)"
   ]
  }
 ],
 "metadata": {
  "interpreter": {
   "hash": "949777d72b0d2535278d3dc13498b2535136f6dfe0678499012e853ee9abcab1"
  },
  "kernelspec": {
   "display_name": "Python 3.8.12 64-bit",
   "name": "python3"
  },
  "language_info": {
   "codemirror_mode": {
    "name": "ipython",
    "version": 3
   },
   "file_extension": ".py",
   "mimetype": "text/x-python",
   "name": "python",
   "nbconvert_exporter": "python",
   "pygments_lexer": "ipython3",
   "version": "3.8.12"
  },
  "orig_nbformat": 4
 },
 "nbformat": 4,
 "nbformat_minor": 2
}
