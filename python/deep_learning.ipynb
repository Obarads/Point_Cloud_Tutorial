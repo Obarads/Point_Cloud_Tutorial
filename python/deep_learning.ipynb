{
 "cells": [
  {
   "cell_type": "markdown",
   "metadata": {},
   "source": [
    "# Deep Learning\n",
    "In the case of feature representation acquisition using Deep Learning, the optimal parameters for feature extraction are automatically obtained by Deep Learning, and extraction is performed based on these parameters. The search for appropriate features, which was necessary in hand crafted features, is now done. \n",
    "\n",
    "As in other areas of deep learning, this method has some limitations, such as the need to prepare data that matches the target task, but if the limitations can be met, it has the potential to achieve better results than other methods. For this reason, methods using this deep learning approach have been actively researched in recent years.\n",
    "\n",
    "Examples include methods such as 3DMatch [Zeng et al, 2016] and PPFNet [Deng et al, 2018].\n"
   ]
  },
  {
   "cell_type": "code",
   "execution_count": 1,
   "metadata": {},
   "outputs": [],
   "source": [
    "%load_ext autoreload\n",
    "%autoreload 2"
   ]
  },
  {
   "cell_type": "markdown",
   "metadata": {},
   "source": []
  },
  {
   "cell_type": "markdown",
   "metadata": {},
   "source": [
    "## References\n",
    "- [Zeng, Andy, Shuran Song, Matthias Nießner, Matthew Fisher, Jianxiong Xiao, and Thomas Funkhouser. 2016. “3DMatch: Learning Local Geometric Descriptors from RGB-D Reconstructions.” arXiv [cs.CV]. arXiv. http://arxiv.org/abs/1603.08182.](http://arxiv.org/abs/1603.08182)\n",
    "- [Deng, Haowen, Tolga Birdal, and Slobodan Ilic. 2018. “Ppfnet: Global Context Aware Local Features for Robust 3d Point Matching.” In Proceedings of the IEEE Conference on Computer Vision and Pattern Recognition, 195–205.](https://openaccess.thecvf.com/content_cvpr_2018/html/Deng_PPFNet_Global_Context_CVPR_2018_paper.html)"
   ]
  },
  {
   "cell_type": "markdown",
   "metadata": {},
   "source": []
  }
 ],
 "metadata": {
  "interpreter": {
   "hash": "949777d72b0d2535278d3dc13498b2535136f6dfe0678499012e853ee9abcab1"
  },
  "kernelspec": {
   "display_name": "Python 3.8.12 64-bit",
   "name": "python3"
  },
  "language_info": {
   "codemirror_mode": {
    "name": "ipython",
    "version": 3
   },
   "file_extension": ".py",
   "mimetype": "text/x-python",
   "name": "python",
   "nbconvert_exporter": "python",
   "pygments_lexer": "ipython3",
   "version": "3.8.11"
  },
  "orig_nbformat": 4
 },
 "nbformat": 4,
 "nbformat_minor": 2
}
