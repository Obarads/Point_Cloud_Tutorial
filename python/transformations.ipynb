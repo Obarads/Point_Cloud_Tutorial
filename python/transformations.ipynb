{
 "cells": [
  {
   "cell_type": "markdown",
   "metadata": {},
   "source": [
    "# Transformations\n",
    "Point cloud processing generally uses transformation (translation, rotation, etc.) since point cloud data is a set of coordinates. In this section, we introduce transformation for a point cloud. Contents in this section are as follows:\n",
    "\n",
    "- Translation, Rotation, Scaling\n",
    "- Transformation matrix\n"
   ]
  },
  {
   "cell_type": "code",
   "execution_count": 1,
   "metadata": {},
   "outputs": [],
   "source": [
    "%load_ext autoreload\n",
    "%autoreload 2"
   ]
  },
  {
   "cell_type": "markdown",
   "metadata": {},
   "source": [
    "## Translation, Rotation, Scaling\n",
    "In this subsection, we introduce simple calculations of transformation. This subsection deals with translation, rotation, and scaling used in transformation. Examples of a transformation are as follows."
   ]
  },
  {
   "cell_type": "code",
   "execution_count": 1,
   "metadata": {},
   "outputs": [
    {
     "name": "stdout",
     "output_type": "stream",
     "text": [
      "Jupyter environment detected. Enabling Open3D WebVisualizer.\n",
      "[Open3D INFO] WebRTC GUI backend enabled.\n",
      "[Open3D INFO] WebRTCWindowSystem: HTTP handshake server disabled.\n"
     ]
    }
   ],
   "source": [
    "# for translation, rotation scaling\n",
    "import numpy as np\n",
    "from tutlibs.transformation import Transformation as tr\n",
    "\n",
    "# for description\n",
    "from tutlibs.visualization import JupyterVisualizer as jv\n",
    "from tutlibs.utils import single_color\n",
    "from tutlibs.io import Points as io\n",
    "import inspect"
   ]
  },
  {
   "cell_type": "code",
   "execution_count": 6,
   "metadata": {},
   "outputs": [
    {
     "data": {
      "application/vnd.jupyter.widget-view+json": {
       "model_id": "0cd97bbbe4e04c6292be855cf4154ef0",
       "version_major": 2,
       "version_minor": 0
      },
      "text/plain": [
       "Output()"
      ]
     },
     "metadata": {},
     "output_type": "display_data"
    }
   ],
   "source": [
    "# load a point cloud.\n",
    "coords, _, _ = io.read('../data/bunny_pc.ply')\n",
    "\n",
    "# translation\n",
    "translated_coords = tr.translation(coords, np.array([0.5, 0.8, 0.2]))\n",
    "\n",
    "# rotation\n",
    "rotated_coords = tr.rotation(coords, \"x\", np.pi/2)\n",
    "\n",
    "# scaling\n",
    "scaled_coords = tr.scaling(coords, np.array([0.5, 0.5, 0.5]))\n",
    "\n",
    "# visualization\n",
    "obj_points = jv.point(coords, single_color('#000000', len(coords)))\n",
    "obj_translated_points = jv.point(translated_coords, single_color('#ff0000', len(translated_coords)))\n",
    "obj_rotated_points = jv.point(rotated_coords, single_color('#00ff00', len(rotated_coords)))\n",
    "obj_scaled_points = jv.point(scaled_coords, single_color('#0000ff', len(scaled_coords)))\n",
    "jv.display([obj_translated_points, obj_rotated_points, obj_scaled_points, obj_points])"
   ]
  },
  {
   "cell_type": "markdown",
   "metadata": {},
   "source": [
    "<!-- 上記の出力では、黒の点群がオリジナル、赤が平行移動、緑が回転、青がスケーリングとなっています。これらの変換は全て原点を中心として処理がなされているため、オブジェクトを中心として変換がなされていないことに注意してください。\n",
    "\n",
    "次に、これらの処理について確認します。 -->\n",
    "\n",
    "In the above output, the black point cloud is the original, red is translated, green is rotated, and blue is scaled. Note that the center coordinates of these transformations are not an object centroid, but the origin. For example, the green point cloud is not rotating around the object centroid.\n",
    "\n",
    "Next, let's check these processes."
   ]
  },
  {
   "cell_type": "code",
   "execution_count": 7,
   "metadata": {},
   "outputs": [
    {
     "name": "stdout",
     "output_type": "stream",
     "text": [
      "    @staticmethod\n",
      "    def translation(xyz: np.ndarray, vector: np.ndarray) -> np.ndarray:\n",
      "        \"\"\"Shift xyz.\n",
      "        Args:\n",
      "            xyz: (N, 3)\n",
      "            vector: (3)\n",
      "\n",
      "        Return:\n",
      "            translation xyz: (N, 3)\n",
      "        \"\"\"\n",
      "        return xyz + vector[np.newaxis, :]\n",
      "\n",
      "    @staticmethod\n",
      "    def rotation(xyz: np.ndarray, axis: str, angle: float) -> np.ndarray:\n",
      "        \"\"\"Rotate xyz.\n",
      "\n",
      "        Args:\n",
      "            xyz: (N, 3)\n",
      "            axis: x, y or z\n",
      "            angle: radian (0 ~ 2pi)\n",
      "\n",
      "        Return:\n",
      "            rotated xyz: (N, 3)\n",
      "        \"\"\"\n",
      "        if axis == \"x\":\n",
      "            rotation_matrix = np.array(\n",
      "                [\n",
      "                    [1, 0, 0],\n",
      "                    [0, np.cos(angle), -np.sin(angle)],\n",
      "                    [0, np.sin(angle), np.cos(angle)],\n",
      "                ]\n",
      "            )\n",
      "        elif axis == \"y\":\n",
      "            rotation_matrix = np.array(\n",
      "                [\n",
      "                    [np.cos(angle), 0, np.sin(angle)],\n",
      "                    [0, 1, 0],\n",
      "                    [-np.sin(angle), 0, np.cos(angle)],\n",
      "                ]\n",
      "            )\n",
      "        elif axis == \"z\":\n",
      "            rotation_matrix = np.array(\n",
      "                [\n",
      "                    [np.cos(angle), -np.sin(angle), 0],\n",
      "                    [np.sin(angle), np.cos(angle), 0],\n",
      "                    [0, 0, 1],\n",
      "                ]\n",
      "            )\n",
      "        else:\n",
      "            raise ValueError()\n",
      "\n",
      "        rotation_xyz = np.matmul(rotation_matrix, xyz.T).T\n",
      "\n",
      "        return rotation_xyz\n",
      "\n",
      "    @staticmethod\n",
      "    def scaling(xyz: np.ndarray, vector: np.ndarray) -> np.ndarray:\n",
      "        \"\"\"Scale xyz.\n",
      "\n",
      "        Args:\n",
      "            xyz: (N, 3)\n",
      "            vector: scaling ratio (3)\n",
      "\n",
      "        Return:\n",
      "            scaled xyz: (N, 3)\n",
      "        \"\"\"\n",
      "        return xyz * vector[np.newaxis, :]\n",
      "\n"
     ]
    }
   ],
   "source": [
    "print(inspect.getsource(tr.translation))\n",
    "print(inspect.getsource(tr.rotation))\n",
    "print(inspect.getsource(tr.scaling))"
   ]
  },
  {
   "cell_type": "markdown",
   "metadata": {},
   "source": [
    "The above transformations for each point are the same as the following equations.\n",
    "\n",
    "- Translation\n",
    "$$\n",
    "\\begin{equation}\n",
    "\\left[\\begin{array}{ccc}\n",
    "p_x' \\\\\n",
    "p_y' \\\\\n",
    "p_z'\n",
    "\\end{array}\\right]\n",
    "=\n",
    "\\left[\\begin{array}{ccc}\n",
    "p_x \\\\\n",
    "p_y \\\\\n",
    "p_z\n",
    "\\end{array}\\right]\n",
    "+\n",
    "\\left[\\begin{array}{ccc}\n",
    "t_x \\\\\n",
    "t_y \\\\\n",
    "t_z\n",
    "\\end{array}\\right] \n",
    "\\end{equation}\n",
    "$$\n",
    "\n",
    "- Rotation\n",
    "\n",
    "$$\n",
    "\\left[\\begin{array}{ccc}\n",
    "p_x' \\\\\n",
    "p_y' \\\\\n",
    "p_z'\n",
    "\\end{array}\\right]\n",
    "=\\left[\\begin{array}{ccc}\n",
    "r_1 & r_2 & r_3 \\\\\n",
    "r_4 & r_5 & r_6 \\\\\n",
    "r_7 & r_8 & r_9\n",
    "\\end{array}\\right]\n",
    "\\left[\\begin{array}{ccc}\n",
    "p_x \\\\\n",
    "p_y \\\\\n",
    "p_z\n",
    "\\end{array}\\right]\n",
    "$$\n",
    "\n",
    "- Scaling ($\\odot$ is hadamard product)\n",
    "$$\n",
    "\\begin{equation}\n",
    "\\left[\\begin{array}{ccc}\n",
    "p_x' \\\\\n",
    "p_y' \\\\\n",
    "p_z'\n",
    "\\end{array}\\right]\n",
    "=\n",
    "\\left[\\begin{array}{ccc}\n",
    "p_x \\\\\n",
    "p_y \\\\\n",
    "p_z\n",
    "\\end{array}\\right]\n",
    "\\odot\n",
    "\\left[\\begin{array}{ccc}\n",
    "t_x \\\\\n",
    "t_y \\\\\n",
    "t_z\n",
    "\\end{array}\\right] \n",
    "\\end{equation}\n",
    "$$\n",
    "\n",
    "As above, translation and scaling are simple ways by adding or multiplying each element.\n",
    "\n",
    "However, Rotation use dot products with the 3x3 rotation matrix. Elements in 3x3 rotation matrix depend on rotation axes."
   ]
  },
  {
   "cell_type": "markdown",
   "metadata": {},
   "source": [
    "## Transformation matrix\n",
    "Except for the above (Translation, Rotation, Scaling), There are transformation methods with 4x4 transformation matrix. These methods compute the dot product for a point cloud and transformation matrix. This transformation matrix can have transformation information that includes translation vectors, scaling values, and rotation matrix. \n",
    "\n",
    "An example of a transformation is as follows.\n"
   ]
  },
  {
   "cell_type": "code",
   "execution_count": 1,
   "metadata": {},
   "outputs": [
    {
     "name": "stdout",
     "output_type": "stream",
     "text": [
      "Jupyter environment detected. Enabling Open3D WebVisualizer.\n",
      "[Open3D INFO] WebRTC GUI backend enabled.\n",
      "[Open3D INFO] WebRTCWindowSystem: HTTP handshake server disabled.\n"
     ]
    }
   ],
   "source": [
    "# for transformation matrix\n",
    "import numpy as np\n",
    "from tutlibs.transformation import (\n",
    "    TransformationMatrix as tm,\n",
    "    Transformation as tr,\n",
    ")\n",
    "\n",
    "# for description\n",
    "from tutlibs.visualization import JupyterVisualizer as jv\n",
    "from tutlibs.utils import single_color\n",
    "from tutlibs.io import Points as io\n",
    "import inspect\n"
   ]
  },
  {
   "cell_type": "code",
   "execution_count": 5,
   "metadata": {},
   "outputs": [
    {
     "name": "stdout",
     "output_type": "stream",
     "text": [
      "transformation_matrix_1: \n",
      " [[ 1.         0.         0.         0.       ]\n",
      " [ 0.         0.5       -0.8660254  0.       ]\n",
      " [ 0.         0.8660254  0.5        0.       ]\n",
      " [ 0.         0.         0.         1.       ]] \n",
      "\n",
      "transformation_matrix_2: \n",
      " [[1.  0.  0.  0.5]\n",
      " [0.  1.  0.  0.8]\n",
      " [0.  0.  1.  0.2]\n",
      " [0.  0.  0.  1. ]] \n",
      "\n",
      "transformation_matrix_3: \n",
      " [[0.5 0.  0.  0. ]\n",
      " [0.  0.5 0.  0. ]\n",
      " [0.  0.  0.5 0. ]\n",
      " [0.  0.  0.  1. ]] \n",
      "\n",
      "transformation matrix: \n",
      " [[ 0.5         0.          0.          0.5       ]\n",
      " [ 0.          0.25       -0.4330127   0.22679492]\n",
      " [ 0.          0.4330127   0.25        0.79282032]\n",
      " [ 0.          0.          0.          1.        ]] \n",
      "\n"
     ]
    },
    {
     "data": {
      "application/vnd.jupyter.widget-view+json": {
       "model_id": "704e101cd225416d9dcb560ded674373",
       "version_major": 2,
       "version_minor": 0
      },
      "text/plain": [
       "Output()"
      ]
     },
     "metadata": {},
     "output_type": "display_data"
    }
   ],
   "source": [
    "# load a point cloud.\n",
    "coords, _, _ = io.read(\"../data/bunny_pc.ply\")\n",
    "\n",
    "angle = np.pi/3\n",
    "rotation_matrix = np.array(\n",
    "    [\n",
    "        [1, 0, 0],\n",
    "        [0, np.cos(angle), -np.sin(angle)],\n",
    "        [0, np.sin(angle), np.cos(angle)],\n",
    "    ]\n",
    ")\n",
    "\n",
    "transformation_matrix_1 = tm.from_translation(np.array([0.5, 0.8, 0.2]))\n",
    "transformation_matrix_2 = tm.from_rotation(rotation_matrix)\n",
    "transformation_matrix_3 = tm.from_scaling(np.array([0.5, 0.5, 0.5]))\n",
    "\n",
    "print(f\"transformation_matrix_1: \\n {transformation_matrix_1} \\n\")\n",
    "print(f\"transformation_matrix_2: \\n {transformation_matrix_2} \\n\")\n",
    "print(f\"transformation_matrix_3: \\n {transformation_matrix_3} \\n\")\n",
    "\n",
    "transformation_matrix = tm.composite(\n",
    "    [transformation_matrix_1, transformation_matrix_2, transformation_matrix_3]\n",
    ")\n",
    "\n",
    "print(f\"transformation matrix: \\n {transformation_matrix} \\n\")\n",
    "\n",
    "tranformed_coords = tm.transformation(coords, transformation_matrix)\n",
    "\n",
    "# visualization\n",
    "obj_points = jv.point(coords, single_color(\"#000000\", len(coords)))\n",
    "obj_transformed_points = jv.point(\n",
    "    tranformed_coords, single_color(\"#ff0000\", len(tranformed_coords))\n",
    ")\n",
    "\n",
    "jv.display([obj_points, obj_transformed_points])\n"
   ]
  },
  {
   "cell_type": "markdown",
   "metadata": {},
   "source": [
    "As shown above, we can integrate the transformation information into single transformation matrix by dot product.\n",
    "Since the transformation matrix is a simple transformation representation, the transformation matrix is used in various cases such as datasets and iterative methods (ex: ICP).\n",
    "\n",
    "Next, let's check the contents of the 4x4 transformation matrix. Relations between a 4x4 transformation matrix and others are as follows.\n",
    "\n",
    "- convert a translation vector $\\mathbf{T}$ to a 4x4 transformation matrix $\\mathbf{TM}$:\n",
    "\n",
    "$$\n",
    "\\mathbf{T}=\\left[\\begin{array}{ccc}\n",
    "t_x \\\\\n",
    "t_y \\\\\n",
    "t_z\n",
    "\\end{array}\\right] , \n",
    "\\mathbf{TM}=\\left[\\begin{array}{ccc}\n",
    "1 & 0 & 0 & t_x \\\\\n",
    "0 & 1 & 0 & t_y \\\\\n",
    "0 & 0 & 1 & t_z \\\\\n",
    "0 & 0 & 0 & 1\n",
    "\\end{array}\\right]\n",
    "$$\n",
    "\n",
    "- convert a 3x3 rotation matrix $\\mathbf{R}$ to a 4x4 transformation matrix $\\mathbf{TM}$:\n",
    "\n",
    "$$\n",
    "\\mathbf{R}=\\left[\\begin{array}{ccc}\n",
    "r_1 & r_2 & r_3 \\\\\n",
    "r_4 & r_5 & r_6 \\\\\n",
    "r_7 & r_8 & r_9\n",
    "\\end{array}\\right] , \n",
    "\\mathbf{TM}=\\left[\\begin{array}{ccc}\n",
    "r_1 & r_2 & r_3 & 0 \\\\\n",
    "r_4 & r_5 & r_6 & 0 \\\\\n",
    "r_7 & r_8 & r_9 & 0 \\\\\n",
    "0 & 0 & 0 & 1\n",
    "\\end{array}\\right]\n",
    "$$\n",
    "\n",
    "- convert a scaling matrix $\\mathbf{S}$ to a 4x4 transformation matrix $\\mathbf{TM}$:\n",
    "$$\n",
    "\\mathbf{S}=\\left[\\begin{array}{ccc}\n",
    "s_x \\\\\n",
    "s_y \\\\\n",
    "s_z\n",
    "\\end{array}\\right] , \n",
    "\\mathbf{TM}=\\left[\\begin{array}{ccc}\n",
    "s_x & 0 & 0 & 0 \\\\\n",
    "0 & s_y & 0 & 0 \\\\\n",
    "0 & 0 & s_z & 0 \\\\\n",
    "0 & 0 & 0 & 1\n",
    "\\end{array}\\right]\n",
    "$$\n"
   ]
  },
  {
   "cell_type": "markdown",
   "metadata": {},
   "source": []
  }
 ],
 "metadata": {
  "interpreter": {
   "hash": "d4d1e4263499bec80672ea0156c357c1ee493ec2b1c70f0acce89fc37c4a6abe"
  },
  "kernelspec": {
   "display_name": "Python 3.7.10 64-bit ('base': conda)",
   "name": "python3"
  },
  "language_info": {
   "codemirror_mode": {
    "name": "ipython",
    "version": 3
   },
   "file_extension": ".py",
   "mimetype": "text/x-python",
   "name": "python",
   "nbconvert_exporter": "python",
   "pygments_lexer": "ipython3",
   "version": "3.8.11"
  },
  "orig_nbformat": 4
 },
 "nbformat": 4,
 "nbformat_minor": 2
}
