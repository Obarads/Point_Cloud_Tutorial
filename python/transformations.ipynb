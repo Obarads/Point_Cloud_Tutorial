{
 "cells": [
  {
   "cell_type": "markdown",
   "metadata": {},
   "source": [
    "# Transformations\n",
    "## Abstract\n",
    "- 本章では、点群に対する変換(平行移動、回転、スケーリング)を説明します。\n",
    "\n",
    "## Introduction\n",
    "点群に対して変換を用いることで、点群の回転や位置の移動を行うことが可能です。このsectionでは、以下の順で説明を行います。\n",
    "\n",
    "- (1) 各変換についてコードメインの説明を行います。変換はsubsectionごとに、以下の順でまとめられています。\n",
    "  - Translation\n",
    "  - Rotation\n",
    "  - Scaling\n",
    "- (2) 上記変換を変換行列に沿って説明します。対応するsubscetion名は以下のとおりです。\n",
    "  - Transformation matrix: 上記変換では扱わなかった応用例とともに、変換行列について説明します。\n"
   ]
  },
  {
   "cell_type": "code",
   "execution_count": 1,
   "metadata": {},
   "outputs": [],
   "source": [
    "%load_ext autoreload\n",
    "%autoreload 2"
   ]
  },
  {
   "cell_type": "markdown",
   "metadata": {},
   "source": [
    "## Translation\n",
    "本subsectionでは、点群に対するtranslationを紹介します。Translationは、ある一つのベクトルを点群に与え、点群に対してベクトル分の平行移動をさせる変換です。\n",
    "\n",
    "本subsectionのコードは以下の通りです。"
   ]
  },
  {
   "cell_type": "code",
   "execution_count": 3,
   "metadata": {},
   "outputs": [],
   "source": [
    "# for translation\n",
    "import numpy as np\n",
    "from tutlibs.transformation import Transformation as tr\n",
    "\n",
    "# for description\n",
    "from tutlibs.visualization import JupyterVisualizer as jv\n",
    "from tutlibs.utils import single_color\n",
    "from tutlibs.io import Points as io\n",
    "import inspect"
   ]
  },
  {
   "cell_type": "code",
   "execution_count": 4,
   "metadata": {},
   "outputs": [
    {
     "data": {
      "application/vnd.jupyter.widget-view+json": {
       "model_id": "6a08e3ef94cf4fe0b2cf6ddbc41e4047",
       "version_major": 2,
       "version_minor": 0
      },
      "text/plain": [
       "Output()"
      ]
     },
     "metadata": {},
     "output_type": "display_data"
    }
   ],
   "source": [
    "# load a point cloud.\n",
    "xyz, _, _ = io.read('../data/bunny_pc.ply')\n",
    "\n",
    "# translation\n",
    "vector = np.array([0.5, 0.05, 0.2])\n",
    "t_xyz = tr.translation(xyz, vector)\n",
    "\n",
    "# visualization\n",
    "obj_points = jv.point(xyz, single_color('#ff0000', len(xyz)))\n",
    "obj_t_points = jv.point(t_xyz, single_color('#00ff00', len(t_xyz)))\n",
    "jv.display([obj_points, obj_t_points])"
   ]
  },
  {
   "cell_type": "markdown",
   "metadata": {},
   "source": [
    "コードの出力では、赤色の点群がオリジナル`xyz`、緑の点群が平行移動後の点群`t_xyz`を示しています。コードでは、関数`translation`に一つのベクトル`vector`を与えることで、そのベクトルの方向に点群全体を移動させた後の点群`t_xyz`を取得しています。\n",
    "\n",
    "次は`translation`の中身を出力し、どのようにして平行移動を行っているか確認します。確認は下のコード実行によって行います。\n"
   ]
  },
  {
   "cell_type": "code",
   "execution_count": 6,
   "metadata": {},
   "outputs": [
    {
     "name": "stdout",
     "output_type": "stream",
     "text": [
      "    @staticmethod\n",
      "    def translation(xyz:np.ndarray, vector:np.ndarray) -> np.ndarray:\n",
      "        \"\"\"Shift xyz.\n",
      "        Args:\n",
      "            xyz: (N, 3)\n",
      "            vector: (3)\n",
      "        \n",
      "        Return:\n",
      "            translation xyz: (N, 3)\n",
      "        \"\"\"\n",
      "        return xyz + vector[np.newaxis, :]\n",
      "\n"
     ]
    }
   ],
   "source": [
    "print(inspect.getsource(tr.translation))"
   ]
  },
  {
   "cell_type": "markdown",
   "metadata": {},
   "source": [
    "上記の確認用の出力からも分かるように、点群中のすべての点の座標値`xyz`に対してベクトル`vecotr`を足すだけで平行移動後の点群は取得することが可能です(`np.newaxis`は点全体にベクトル値を足すために入れています)。\n"
   ]
  },
  {
   "cell_type": "markdown",
   "metadata": {},
   "source": [
    "## Rotation\n",
    "本subsectionでは、点群に対するrotationを紹介します。Rotationは点群をある中心点に基づいて回転させる変換です。このsubsectionの例では、原点を中心点として、中心点から伸びているX軸を回転軸として点群を90度回転させています。\n",
    "\n",
    "本subsectionのコードは以下の通りです。"
   ]
  },
  {
   "cell_type": "code",
   "execution_count": 8,
   "metadata": {},
   "outputs": [],
   "source": [
    "# for Rotation\n",
    "import numpy as np\n",
    "from tutlibs.transformation import Transformation as tr\n",
    "\n",
    "# for description\n",
    "from tutlibs.visualization import JupyterVisualizer as jv\n",
    "from tutlibs.io import Points as io\n",
    "from tutlibs.utils import single_color\n",
    "import inspect"
   ]
  },
  {
   "cell_type": "code",
   "execution_count": 9,
   "metadata": {},
   "outputs": [
    {
     "data": {
      "application/vnd.jupyter.widget-view+json": {
       "model_id": "acefda0b30b349e680578178a98bd124",
       "version_major": 2,
       "version_minor": 0
      },
      "text/plain": [
       "Output()"
      ]
     },
     "metadata": {},
     "output_type": "display_data"
    }
   ],
   "source": [
    "# load a point cloud.\n",
    "xyz, _, _ = io.read('../data/bunny_pc.ply')\n",
    "\n",
    "# rotation\n",
    "axis = 'x'\n",
    "radian = np.pi / 2 # 90\n",
    "t_xyz = tr.rotation(xyz, axis, radian)\n",
    "\n",
    "# visualization\n",
    "obj_points = jv.point(xyz, single_color('#ff0000', len(xyz)))\n",
    "obj_t_points = jv.point(t_xyz, single_color('#00ff00', len(t_xyz)))\n",
    "jv.display([obj_points, obj_t_points])"
   ]
  },
  {
   "cell_type": "markdown",
   "metadata": {},
   "source": [
    "コードの出力では、赤色の点群がオリジナル`xyz`、緑の点群が回転後の点群`t_xyz`を示しています。コードでは、関数`rotation`に回転軸`axis`と回転角度`radian`を与えることで、その回転軸を軸として回転角度分だけ回った点群を取得することができます。\n",
    "\n",
    "`rotation`の中身を出力し、どのようにして回転を行っているか確認します。確認は下のコード実行によって行います。"
   ]
  },
  {
   "cell_type": "code",
   "execution_count": 10,
   "metadata": {},
   "outputs": [
    {
     "name": "stdout",
     "output_type": "stream",
     "text": [
      "    @staticmethod\n",
      "    def rotation(xyz:np.ndarray, axis:str, angle:float) -> np.ndarray:\n",
      "        \"\"\"Rotate xyz.\n",
      "\n",
      "        Args:\n",
      "            xyz: (N, 3)\n",
      "            axis: x, y or z\n",
      "            angle: radian\n",
      "\n",
      "        Return:\n",
      "            rotated xyz: (N, 3)\n",
      "        \"\"\"\n",
      "        if axis == 'x':\n",
      "            rotation_matrix = np.array([\n",
      "                [1, 0, 0],\n",
      "                [0, np.cos(angle), -np.sin(angle)],\n",
      "                [0, np.sin(angle), np.cos(angle)]\n",
      "            ])\n",
      "        elif axis == 'y':\n",
      "            rotation_matrix = np.array([\n",
      "                [np.cos(angle), 0, np.sin(angle)],\n",
      "                [0, 1, 0],\n",
      "                [-np.sin(angle), 0, np.cos(angle)]\n",
      "            ])\n",
      "        elif axis == 'z':\n",
      "            rotation_matrix = np.array([\n",
      "                [np.cos(angle), -np.sin(angle), 0],\n",
      "                [np.sin(angle), np.cos(angle), 0],\n",
      "                [0, 0, 1]\n",
      "            ])\n",
      "        else:\n",
      "            raise ValueError()\n",
      "\n",
      "        rotation_xyz = np.matmul(rotation_matrix, xyz.T).T\n",
      "\n",
      "        return rotation_xyz\n",
      "\n"
     ]
    }
   ],
   "source": [
    "print(inspect.getsource(tr.rotation))"
   ]
  },
  {
   "cell_type": "markdown",
   "metadata": {},
   "source": [
    "回転された点群は、点群と回転行列の内積によって取得できます。上記では、回転行列は`rotation_matrix`に代入されており、代入される回転行列は軸によって変化します。この回転行列は、`xyz`との内積に使われ、内積の出力が回転された点群`rotation_xyz`として取得されます。"
   ]
  },
  {
   "cell_type": "markdown",
   "metadata": {},
   "source": [
    "## Scaling\n",
    "本subsectionでは、点群に対するscalingを紹介します。\n",
    "\n",
    "本subsectionのコードは以下の通りです。\n"
   ]
  },
  {
   "cell_type": "code",
   "execution_count": 12,
   "metadata": {},
   "outputs": [],
   "source": [
    "# for Scaling\n",
    "import numpy as np\n",
    "from tutlibs.transformation import Transformation as tr\n",
    "\n",
    "# for description\n",
    "from tutlibs.visualization import JupyterVisualizer as jv\n",
    "from tutlibs.io import Points as io\n",
    "from tutlibs.utils import single_color\n",
    "import inspect"
   ]
  },
  {
   "cell_type": "code",
   "execution_count": 14,
   "metadata": {},
   "outputs": [
    {
     "data": {
      "application/vnd.jupyter.widget-view+json": {
       "model_id": "532d10566759419aa19813f3cb4156fe",
       "version_major": 2,
       "version_minor": 0
      },
      "text/plain": [
       "Output()"
      ]
     },
     "metadata": {},
     "output_type": "display_data"
    }
   ],
   "source": [
    "# load a point cloud.\n",
    "xyz, _, _ = io.read('../data/bunny_pc.ply')\n",
    "\n",
    "# scaling\n",
    "ratio = np.array([0.5, 0.5, 0.5])\n",
    "t_xyz = tr.scaling(xyz, ratio)\n",
    "\n",
    "# visualization\n",
    "obj_points = jv.point(xyz, single_color('#ff0000', len(xyz)))\n",
    "obj_t_points = jv.point(t_xyz, single_color('#00ff00', len(t_xyz)))\n",
    "jv.display([obj_points, obj_t_points])"
   ]
  },
  {
   "cell_type": "markdown",
   "metadata": {},
   "source": [
    "コードの出力では、赤色の点群がオリジナル`xyz`、緑の点群がスケーリング後の点群`t_xyz`を示しています。コードでは、関数`scaling`に\n",
    "\n",
    "`rotation`の中身を出力し、どのようにして回転を行っているか確認します。確認は下のコード実行によって行います。"
   ]
  },
  {
   "cell_type": "code",
   "execution_count": 15,
   "metadata": {},
   "outputs": [
    {
     "name": "stdout",
     "output_type": "stream",
     "text": [
      "    @staticmethod\n",
      "    def scaling(xyz:np.ndarray, vector:np.ndarray) -> np.ndarray:\n",
      "        \"\"\"Scale xyz.\n",
      "\n",
      "        Args:\n",
      "            xyz: (N, 3)\n",
      "            vector: scaling ratio (3)\n",
      "        \n",
      "        Return:\n",
      "            scaled xyz: (N, 3)\n",
      "        \"\"\"\n",
      "        return xyz * vector[np.newaxis, :]\n",
      "\n"
     ]
    }
   ],
   "source": [
    "print(inspect.getsource(tr.scaling))"
   ]
  },
  {
   "cell_type": "markdown",
   "metadata": {},
   "source": [
    "## Transformation matrix\n"
   ]
  },
  {
   "cell_type": "code",
   "execution_count": null,
   "metadata": {},
   "outputs": [],
   "source": [
    "from tutlibs.transformation import TransformationMatrix\n"
   ]
  }
 ],
 "metadata": {
  "interpreter": {
   "hash": "d4d1e4263499bec80672ea0156c357c1ee493ec2b1c70f0acce89fc37c4a6abe"
  },
  "kernelspec": {
   "display_name": "Python 3.7.10 64-bit ('base': conda)",
   "name": "python3"
  },
  "language_info": {
   "codemirror_mode": {
    "name": "ipython",
    "version": 3
   },
   "file_extension": ".py",
   "mimetype": "text/x-python",
   "name": "python",
   "nbconvert_exporter": "python",
   "pygments_lexer": "ipython3",
   "version": "3.8.12"
  },
  "orig_nbformat": 4
 },
 "nbformat": 4,
 "nbformat_minor": 2
}
