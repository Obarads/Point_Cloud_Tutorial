{
 "cells": [
  {
   "cell_type": "markdown",
   "source": [
    "# Transformations\n",
    "## Abstract\n",
    "- 本章では、点群に対する変換(平行移動、回転、スケーリング)を説明します。\n",
    "\n",
    "## Introduction\n",
    "点群に対して変換を用いることで、点群の回転や位置の移動を行うことが可能です。このsectionでは、以下の順で説明を行います。\n",
    "\n",
    "- (1) 各変換についてコードメインの説明を行います。変換はsubsectionごとに、以下の順でまとめられています。\n",
    "  - Translation\n",
    "  - Rotation\n",
    "  - Scaling\n",
    "- (2) 上記変換を変換行列に沿って説明します。対応するsubscetion名は以下のとおりです。\n",
    "  - Transformation matrix: 上記変換では扱わなかった応用例とともに、変換行列について説明します。\n"
   ],
   "metadata": {}
  },
  {
   "cell_type": "code",
   "execution_count": 1,
   "source": [
    "%load_ext autoreload\n",
    "%autoreload 2"
   ],
   "outputs": [],
   "metadata": {}
  },
  {
   "cell_type": "markdown",
   "source": [
    "## Translation\n",
    "本subsectionでは、点群に対するtranslationを紹介します。Translationは、ある一つのベクトルを点群に与え、点群に対してベクトル分の平行移動をさせる変換です。\n",
    "\n",
    "本subsectionで利用するパッケージは以下の通りです。"
   ],
   "metadata": {}
  },
  {
   "cell_type": "code",
   "execution_count": 5,
   "source": [
    "# for translation\n",
    "import numpy as np\n",
    "from tutlibs.transformation import translation\n",
    "\n",
    "# for description\n",
    "from tutlibs.visualization import Points as visualizer\n",
    "from tutlibs.io import Points as io\n",
    "import inspect"
   ],
   "outputs": [],
   "metadata": {}
  },
  {
   "cell_type": "markdown",
   "source": [
    "Translationのコードは以下のとおりです。"
   ],
   "metadata": {}
  },
  {
   "cell_type": "code",
   "execution_count": 6,
   "source": [
    "# load a point cloud.\n",
    "xyz, _, _ = io.read('../data/bunny_pc.ply')\n",
    "\n",
    "# translation\n",
    "vector = np.array([0.5, 0.05, 0.2])\n",
    "t_xyz = translation(xyz, vector)\n",
    "\n",
    "# visualization\n",
    "color = np.tile(np.array([[1, 0, 0]]), (len(xyz), 1))\n",
    "t_color = np.tile(np.array([[0, 1, 0]]), (len(t_xyz), 1))\n",
    "visualizer.k3d(np.vstack([xyz, t_xyz]), colors=np.vstack([color, t_color]))"
   ],
   "outputs": [
    {
     "output_type": "display_data",
     "data": {
      "application/vnd.jupyter.widget-view+json": {
       "version_major": 2,
       "version_minor": 0,
       "model_id": "9b01abcc3bab46b98a662ebdd1486003"
      },
      "text/plain": [
       "Output()"
      ]
     },
     "metadata": {}
    }
   ],
   "metadata": {}
  },
  {
   "cell_type": "markdown",
   "source": [
    "コードの出力では、赤色の点群がオリジナル`xyz`、緑の点群が平行移動後の点群`t_xyz`を示しています。コードでは、関数`translation`に一つのベクトル`vector`を与えることで、そのベクトルの方向に点群全体を移動させた後の点群`t_xyz`を取得しています。\n",
    "\n",
    "次は`translation`の中身を出力し、どのようにして平行移動を行っているか確認します。確認は下のコード実行によって行います。\n"
   ],
   "metadata": {}
  },
  {
   "cell_type": "code",
   "execution_count": 7,
   "source": [
    "print(inspect.getsource(translation))"
   ],
   "outputs": [
    {
     "output_type": "stream",
     "name": "stdout",
     "text": [
      "def translation(xyz:np.ndarray, vector:np.ndarray) -> np.ndarray:\n",
      "    \"\"\"Shift points.\n",
      "    Args:\n",
      "        xyz: (N, C)\n",
      "        vector: (C)\n",
      "    \n",
      "    Return:\n",
      "        translation xyz: (N, C)\n",
      "    \"\"\"\n",
      "    return xyz + vector[np.newaxis, :]\n",
      "\n"
     ]
    }
   ],
   "metadata": {}
  },
  {
   "cell_type": "markdown",
   "source": [
    "上記の確認用の出力からも分かるように、点群中のすべての点の座標値`xyz`に対してベクトル`vecotr`を足すだけで平行移動後の点群は取得することが可能です(`np.newaxis`は点全体にベクトル値を足すために入れています)。\n"
   ],
   "metadata": {}
  },
  {
   "cell_type": "markdown",
   "source": [
    "## Rotation\n",
    "本subsectionでは、点群に対するrotationを紹介します。Rotationは点群をある中心点に基づいて回転させる変換です。このsubsectionの例では、原点を中心点として、中心点から伸びているX軸を回転軸として点群を90度回転させています。\n",
    "\n",
    "本subsectionで利用するパッケージは以下の通りです。"
   ],
   "metadata": {}
  },
  {
   "cell_type": "code",
   "execution_count": 8,
   "source": [
    "# for Rotation\n",
    "import numpy as np\n",
    "from tutlibs.transformation import rotation\n",
    "\n",
    "# for description\n",
    "from tutlibs.visualization import Points as visualizer\n",
    "from tutlibs.io import Points as io\n",
    "import inspect"
   ],
   "outputs": [],
   "metadata": {}
  },
  {
   "cell_type": "markdown",
   "source": [
    "Rotationのコードは以下のとおりです。"
   ],
   "metadata": {}
  },
  {
   "cell_type": "code",
   "execution_count": 9,
   "source": [
    "# load a point cloud.\n",
    "xyz, _, _ = io.read('../data/bunny_pc.ply')\n",
    "\n",
    "# rotation\n",
    "axis = 'x'\n",
    "radian = np.pi / 2 # 90\n",
    "t_xyz = rotation(xyz, axis, radian)\n",
    "\n",
    "# visualization\n",
    "color = np.tile(np.array([[1, 0, 0]]), (len(xyz), 1))\n",
    "t_color = np.tile(np.array([[0, 1, 0]]), (len(t_xyz), 1))\n",
    "visualizer.k3d(np.vstack([xyz, t_xyz]), colors=np.vstack([color, t_color]))"
   ],
   "outputs": [
    {
     "output_type": "display_data",
     "data": {
      "application/vnd.jupyter.widget-view+json": {
       "version_major": 2,
       "version_minor": 0,
       "model_id": "45a11a5dc7854b228f131022ba9e9124"
      },
      "text/plain": [
       "Output()"
      ]
     },
     "metadata": {}
    }
   ],
   "metadata": {}
  },
  {
   "cell_type": "markdown",
   "source": [
    "コードの出力では、赤色の点群がオリジナル`xyz`、緑の点群が回転後の点群`t_xyz`を示しています。コードでは、関数`rotation`に回転軸`axis`と回転角度`radian`を与えることで、その回転軸を軸として回転角度分だけ回った点群を取得することができます。\n",
    "\n",
    "`rotation`の中身を出力し、どのようにして回転を行っているか確認します。確認は下のコード実行によって行います。"
   ],
   "metadata": {}
  },
  {
   "cell_type": "code",
   "execution_count": 10,
   "source": [
    "print(inspect.getsource(rotation))"
   ],
   "outputs": [
    {
     "output_type": "stream",
     "name": "stdout",
     "text": [
      "def rotation(xyz:np.ndarray, axis:str, angle:float) -> np.ndarray:\n",
      "    \"\"\"Rotate points.\n",
      "\n",
      "    Args:\n",
      "        xyz: (N, C)\n",
      "        axis: x, y or z\n",
      "        angle: radian\n",
      "\n",
      "    Return:\n",
      "        rotated xyz: (N, C)\n",
      "    \"\"\"\n",
      "    if axis == 'x':\n",
      "        rotation_matrix = np.array([\n",
      "            [1, 0, 0],\n",
      "            [0, np.cos(angle), -np.sin(angle)],\n",
      "            [0, np.sin(angle), np.cos(angle)]\n",
      "        ])\n",
      "    elif axis == 'y':\n",
      "        rotation_matrix = np.array([\n",
      "            [np.cos(angle), 0, np.sin(angle)],\n",
      "            [0, 1, 0],\n",
      "            [-np.sin(angle), 0, np.cos(angle)]\n",
      "        ])\n",
      "    elif axis == 'z':\n",
      "        rotation_matrix = np.array([\n",
      "            [np.cos(angle), -np.sin(angle), 0],\n",
      "            [np.sin(angle), np.cos(angle), 0],\n",
      "            [0, 0, 1]\n",
      "        ])\n",
      "    else:\n",
      "        raise ValueError()\n",
      "\n",
      "    rotation_xyz = np.matmul(rotation_matrix, xyz.T).T\n",
      "\n",
      "    return rotation_xyz\n",
      "\n"
     ]
    }
   ],
   "metadata": {}
  },
  {
   "cell_type": "markdown",
   "source": [
    "回転された点群は、点群と回転行列の内積によって取得できます。上記では、回転行列は`rotation_matrix`に代入されており、代入される回転行列は軸によって変化します。この回転行列は、`xyz`との内積に使われ、内積の出力が回転された点群`rotation_xyz`として取得されます。"
   ],
   "metadata": {}
  },
  {
   "cell_type": "markdown",
   "source": [
    "## Scaling\n",
    "本subsectionでは、点群に対するscalingを紹介します。\n",
    "\n",
    "本subsectionで利用するパッケージは以下の通りです。\n"
   ],
   "metadata": {}
  },
  {
   "cell_type": "code",
   "execution_count": 1,
   "source": [
    "# for Scaling\n",
    "import numpy as np\n",
    "from tutlibs.transformation import scaling\n",
    "\n",
    "# for description\n",
    "from tutlibs.visualization import Points as visualizer\n",
    "from tutlibs.io import Points as io\n",
    "import inspect"
   ],
   "outputs": [
    {
     "output_type": "stream",
     "name": "stdout",
     "text": [
      "Jupyter environment detected. Enabling Open3D WebVisualizer.\n",
      "[Open3D INFO] WebRTC GUI backend enabled.\n",
      "[Open3D INFO] WebRTCWindowSystem: HTTP handshake server disabled.\n"
     ]
    },
    {
     "output_type": "stream",
     "name": "stderr",
     "text": [
      "INFO - 2021-09-18 01:22:31,275 - utils - Note: NumExpr detected 16 cores but \"NUMEXPR_MAX_THREADS\" not set, so enforcing safe limit of 8.\n",
      "INFO - 2021-09-18 01:22:31,276 - utils - NumExpr defaulting to 8 threads.\n"
     ]
    }
   ],
   "metadata": {}
  },
  {
   "cell_type": "markdown",
   "source": [
    "Rotationのコードは以下のとおりです。"
   ],
   "metadata": {}
  },
  {
   "cell_type": "code",
   "execution_count": 3,
   "source": [
    "# load a point cloud.\n",
    "xyz, _, _ = io.read('../data/bunny_pc.ply')\n",
    "\n",
    "# scaling\n",
    "ratio = 0.5\n",
    "t_xyz = scaling(xyz, ratio)\n",
    "\n",
    "# visualization\n",
    "color = np.tile(np.array([[1, 0, 0]]), (len(xyz), 1))\n",
    "t_color = np.tile(np.array([[0, 1, 0]]), (len(t_xyz), 1))\n",
    "visualizer.k3d(np.vstack([xyz, t_xyz]), colors=np.vstack([color, t_color]))"
   ],
   "outputs": [
    {
     "output_type": "display_data",
     "data": {
      "application/vnd.jupyter.widget-view+json": {
       "version_major": 2,
       "version_minor": 0,
       "model_id": "10b70fc8b9c341b1873018a0cac8b687"
      },
      "text/plain": [
       "Output()"
      ]
     },
     "metadata": {}
    }
   ],
   "metadata": {}
  },
  {
   "cell_type": "markdown",
   "source": [
    "コードの出力では、赤色の点群がオリジナル`xyz`、緑の点群がスケーリング後の点群`t_xyz`を示しています。コードでは、関数`scaling`に\n",
    "\n",
    "`rotation`の中身を出力し、どのようにして回転を行っているか確認します。確認は下のコード実行によって行います。"
   ],
   "metadata": {}
  },
  {
   "cell_type": "code",
   "execution_count": 9,
   "source": [
    "print(inspect.getsource(scaling))"
   ],
   "outputs": [
    {
     "output_type": "stream",
     "name": "stdout",
     "text": [
      "def scaling(xyz:np.ndarray, ratio:float) -> np.ndarray:\n",
      "    \"\"\"Scale xyz.\n",
      "\n",
      "    Args:\n",
      "        xyz: (N, C)\n",
      "        ratio: scaling ratio\n",
      "    \n",
      "    Return:\n",
      "        scaled xyz: (N, C)\n",
      "    \"\"\"\n",
      "    return xyz * ratio\n",
      "\n"
     ]
    }
   ],
   "metadata": {}
  }
 ],
 "metadata": {
  "orig_nbformat": 4,
  "language_info": {
   "name": "python",
   "version": "3.7.10",
   "mimetype": "text/x-python",
   "codemirror_mode": {
    "name": "ipython",
    "version": 3
   },
   "pygments_lexer": "ipython3",
   "nbconvert_exporter": "python",
   "file_extension": ".py"
  },
  "kernelspec": {
   "name": "python3",
   "display_name": "Python 3.7.10 64-bit ('base': conda)"
  },
  "interpreter": {
   "hash": "d4d1e4263499bec80672ea0156c357c1ee493ec2b1c70f0acce89fc37c4a6abe"
  }
 },
 "nbformat": 4,
 "nbformat_minor": 2
}