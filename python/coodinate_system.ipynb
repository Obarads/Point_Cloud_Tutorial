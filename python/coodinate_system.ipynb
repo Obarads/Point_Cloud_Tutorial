{
 "cells": [
  {
   "cell_type": "markdown",
   "source": [
    "# Coodnate system"
   ],
   "metadata": {}
  },
  {
   "cell_type": "markdown",
   "source": [
    "## Abstract\n",
    "- ここでは、3D空間における座標系について説明します。"
   ],
   "metadata": {}
  },
  {
   "cell_type": "markdown",
   "source": [
    "## Introduction\n",
    "ユークリッド空間でオブジェクトや点の位置は座標によって決まります。"
   ],
   "metadata": {}
  }
 ],
 "metadata": {
  "orig_nbformat": 4,
  "language_info": {
   "name": "python"
  }
 },
 "nbformat": 4,
 "nbformat_minor": 2
}