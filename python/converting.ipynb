{
 "cells": [
  {
   "cell_type": "markdown",
   "source": [
    "# Converting\n",
    "## Abstract\n",
    "- a\n",
    "- b\n",
    "\n",
    "## Introduction\n",
    "aaa"
   ],
   "metadata": {}
  },
  {
   "cell_type": "markdown",
   "source": [
    "## Converting\n",
    "### Mesh to points with Open3D\n",
    "ここで使用するパッケージは以下のとおりです。\n"
   ],
   "metadata": {}
  },
  {
   "cell_type": "code",
   "execution_count": 2,
   "source": [
    "%load_ext autoreload\n",
    "%autoreload 2\n",
    "\n",
    "import open3d as o3d\n",
    "import numpy as np\n",
    "\n",
    "from tutlibs.io import Points as io\n",
    "from tutlibs.io import get_bunny_mesh\n",
    "from tutlibs.visualization import Points as visualizer\n",
    "from tutlibs.utils import color_range_rgb_to_8bit_rgb"
   ],
   "outputs": [
    {
     "output_type": "stream",
     "name": "stdout",
     "text": [
      "Jupyter environment detected. Enabling Open3D WebVisualizer.\n",
      "[Open3D INFO] WebRTC GUI backend enabled.\n",
      "[Open3D INFO] WebRTCWindowSystem: HTTP handshake server disabled.\n"
     ]
    },
    {
     "output_type": "stream",
     "name": "stderr",
     "text": [
      "INFO - 2021-09-04 12:38:03,736 - utils - Note: NumExpr detected 16 cores but \"NUMEXPR_MAX_THREADS\" not set, so enforcing safe limit of 8.\n",
      "INFO - 2021-09-04 12:38:03,737 - utils - NumExpr defaulting to 8 threads.\n"
     ]
    }
   ],
   "metadata": {}
  },
  {
   "cell_type": "code",
   "execution_count": 3,
   "source": [
    "# Get mesh \n",
    "gt_mesh = get_bunny_mesh('../data/bunny_tm.ply')\n",
    "\n",
    "# Get normals\n",
    "gt_mesh.compute_vertex_normals()\n",
    "\n",
    "# Get point cloud\n",
    "pcd = gt_mesh.sample_points_poisson_disk(3000)\n",
    "\n",
    "# Get XYZ, colors, normals from point cloud\n",
    "xyz = np.asarray(pcd.points)\n",
    "normals = np.asarray(pcd.normals)\n",
    "rgb = color_range_rgb_to_8bit_rgb(normals, [-1, 1])\n",
    "\n",
    "# XYZ translation, rotation, scaling\n",
    "xyz -= np.mean(xyz, axis=0)\n",
    "theta = np.pi / 2\n",
    "rotation = np.array([\n",
    "    [1, 0, 0],\n",
    "    [0, np.cos(theta), -np.sin(theta)],\n",
    "    [0, np.sin(theta), np.cos(theta)]\n",
    "])\n",
    "xyz = np.dot(rotation, xyz.T).T\n",
    "xyz /= (np.max(xyz) - np.min(xyz)) \n",
    "xyz -= np.min(xyz, axis=0)\n",
    "\n",
    "# save write\n",
    "other_data = {'nx': normals[:, 0], 'ny': normals[:, 1], 'nz': normals[:, 2]}\n",
    "io.write('bunny_pc.ply', xyz, rgb, color_range=[0, 255],\n",
    "         additional_data=other_data)\n"
   ],
   "outputs": [
    {
     "output_type": "stream",
     "name": "stdout",
     "text": [
      "downloading bunny mesh\n",
      "extract bunny mesh\n"
     ]
    }
   ],
   "metadata": {}
  },
  {
   "cell_type": "markdown",
   "source": [
    "### Mesh to points with numpy\n",
    "ここで使用するパッケージは以下のとおりです。"
   ],
   "metadata": {}
  },
  {
   "cell_type": "code",
   "execution_count": 12,
   "source": [
    "import numpy\n",
    "\n",
    "from tutlibs.io import Points as io\n",
    "from tutlibs.visualization import Points as visualizer\n",
    "from tutlibs.utils import color_range_rgb_to_8bit_rgb"
   ],
   "outputs": [],
   "metadata": {}
  },
  {
   "cell_type": "code",
   "execution_count": null,
   "source": [],
   "outputs": [],
   "metadata": {}
  }
 ],
 "metadata": {
  "orig_nbformat": 4,
  "language_info": {
   "name": "python",
   "version": "3.7.10",
   "mimetype": "text/x-python",
   "codemirror_mode": {
    "name": "ipython",
    "version": 3
   },
   "pygments_lexer": "ipython3",
   "nbconvert_exporter": "python",
   "file_extension": ".py"
  },
  "kernelspec": {
   "name": "python3",
   "display_name": "Python 3.7.10 64-bit ('base': conda)"
  },
  "interpreter": {
   "hash": "98b0a9b7b4eaaa670588a142fd0a9b87eaafe866f1db4228be72b4211d12040f"
  }
 },
 "nbformat": 4,
 "nbformat_minor": 2
}