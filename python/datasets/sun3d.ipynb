{
 "cells": [
  {
   "cell_type": "markdown",
   "metadata": {},
   "source": [
    "# SUN3D\n",
    "SUN3D [Xiao et al, 2013] has RGB-D scene dataset with following data.\n",
    "- Sequence RGB and Depth image data, pose matrixes\n",
    "- Camera information, ... etc.\n",
    "\n",
    "Related URL\n",
    "- [SUN3D Homepage](http://sun3d.cs.princeton.edu/)\n",
    "- [GitHub](https://github.com/PrincetonVision/SUN3Dsfm)\n",
    "\n",
    "Download a `SUN3Dv1.txt` (data list):"
   ]
  },
  {
   "cell_type": "code",
   "execution_count": 3,
   "metadata": {},
   "outputs": [
    {
     "name": "stdout",
     "output_type": "stream",
     "text": [
      "--2021-12-28 02:19:38--  http://sun3d.cs.princeton.edu/SUN3Dv1.txt\n",
      "sun3d.cs.princeton.edu (sun3d.cs.princeton.edu) をDNSに問いあわせています... 128.112.136.61\n",
      "sun3d.cs.princeton.edu (sun3d.cs.princeton.edu)|128.112.136.61|:80 に接続しています... 接続しました。\n",
      "HTTP による接続要求を送信しました、応答を待っています... 200 OK\n",
      "長さ: 12366 (12K) [text/plain]\n",
      "`SUN3Dv1.txt' に保存中\n",
      "\n",
      "SUN3Dv1.txt         100%[===================>]  12.08K  --.-KB/s    in 0.001s  \n",
      "\n",
      "2021-12-28 02:19:38 (14.7 MB/s) - `SUN3Dv1.txt' へ保存完了 [12366/12366]\n",
      "\n"
     ]
    }
   ],
   "source": [
    "!wget http://sun3d.cs.princeton.edu/SUN3Dv1.txt\n",
    "!mkdir ../../data/sun3d/\n",
    "!mv SUN3Dv1.txt ../../data/sun3d/"
   ]
  },
  {
   "cell_type": "code",
   "execution_count": 27,
   "metadata": {},
   "outputs": [],
   "source": [
    "%load_ext autoreload\n",
    "%autoreload 2"
   ]
  },
  {
   "cell_type": "markdown",
   "metadata": {},
   "source": [
    "The subsection tutorial use following code:"
   ]
  },
  {
   "cell_type": "code",
   "execution_count": 29,
   "metadata": {},
   "outputs": [],
   "source": [
    "# path to tutlibs\n",
    "import path\n",
    "\n",
    "from tutlibs.dataset import SUN3D, SUN3DData \n",
    "from tutlibs.visualization import JupyterVisualizer as jv\n",
    "from tutlibs.constructing import depth_to_point\n",
    "from tutlibs.transformation import Transformation as tr\n",
    "\n",
    "import cv2\n",
    "import numpy as np\n",
    "import matplotlib.pyplot as plt\n",
    "from mpl_toolkits.axes_grid1 import ImageGrid"
   ]
  },
  {
   "cell_type": "code",
   "execution_count": null,
   "metadata": {},
   "outputs": [],
   "source": [
    "DATA_PATH = \"../../data/sun3d\"\n",
    "DATALIST_PATH = \"../../data/sun3d/SUN3Dv1.txt\"\n",
    "dataset = SUN3D(DATA_PATH, DATALIST_PATH)\n",
    "data: SUN3DData = dataset[0]\n"
   ]
  },
  {
   "cell_type": "code",
   "execution_count": null,
   "metadata": {},
   "outputs": [],
   "source": [
    "# check number of frames and select frame index for demonstration.\n",
    "print(f\"frame length: {len(data.color_image_paths)}\")\n",
    "frame_idx = 0\n",
    "\n",
    "# loading data\n",
    "depth_image = cv2.imread(data.depth_image_paths[frame_idx], -1)\n",
    "color_image = cv2.cvtColor(cv2.imread(data.color_image_paths[frame_idx]), cv2.COLOR_BGR2RGB)\n"
   ]
  },
  {
   "cell_type": "markdown",
   "metadata": {},
   "source": [
    "## References\n",
    "- Xiao, Jianxiong, Andrew Owens, and Antonio Torralba. 2013. “SUN3D: A Database of Big Spaces Reconstructed Using SfM and Object Labels.” In 2013 IEEE International Conference on Computer Vision. IEEE. https://doi.org/10.1109/iccv.2013.458."
   ]
  },
  {
   "cell_type": "markdown",
   "metadata": {},
   "source": []
  }
 ],
 "metadata": {
  "interpreter": {
   "hash": "4c91531a0e2e4561d1cac2e06dfc843726192e7f538df43fb5db11aeeb53424a"
  },
  "kernelspec": {
   "display_name": "Python 3.8.11 64-bit ('pct': conda)",
   "language": "python",
   "name": "python3"
  },
  "language_info": {
   "codemirror_mode": {
    "name": "ipython",
    "version": 3
   },
   "file_extension": ".py",
   "mimetype": "text/x-python",
   "name": "python",
   "nbconvert_exporter": "python",
   "pygments_lexer": "ipython3",
   "version": "3.8.11"
  },
  "orig_nbformat": 4
 },
 "nbformat": 4,
 "nbformat_minor": 2
}
