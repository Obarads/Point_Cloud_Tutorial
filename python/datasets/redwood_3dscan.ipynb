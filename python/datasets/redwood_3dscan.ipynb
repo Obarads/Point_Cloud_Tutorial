{
 "cells": [
  {
   "cell_type": "markdown",
   "metadata": {},
   "source": [
    "# Redwood 3DScan\n",
    "Redwood 3DScan [Choi et al, 2016] has scanned object dataset with following data.\n",
    "- Mesh data of objects with background\n",
    "- Sequence RGB and Depth image data\n",
    "- Categories, camera infomation\n",
    "\n",
    "Related URL\n",
    "- [Redwood 3D Scan Homepage](http://redwood-data.org/3dscan/)\n",
    "- [GitHub (code for download and visualization)](https://github.com/isl-org/redwood-3dscan): this repository has codes for download.\n",
    "\n",
    "Download a repository for download data list:"
   ]
  },
  {
   "cell_type": "code",
   "execution_count": 1,
   "metadata": {},
   "outputs": [
    {
     "name": "stdout",
     "output_type": "stream",
     "text": [
      "Cloning into 'redwood-3dscan'...\n",
      "remote: Enumerating objects: 11, done.\u001b[K\n",
      "remote: Counting objects: 100% (11/11), done.\u001b[K\n",
      "remote: Compressing objects: 100% (9/9), done.\u001b[K\n",
      "remote: Total 11 (delta 0), reused 11 (delta 0), pack-reused 0\u001b[K\n",
      "Unpacking objects: 100% (11/11), 174.34 KiB | 6.01 MiB/s, done.\n"
     ]
    }
   ],
   "source": [
    "!git clone https://github.com/isl-org/redwood-3dscan.git"
   ]
  },
  {
   "cell_type": "code",
   "execution_count": 1,
   "metadata": {},
   "outputs": [],
   "source": [
    "%load_ext autoreload\n",
    "%autoreload 2"
   ]
  },
  {
   "cell_type": "markdown",
   "metadata": {},
   "source": [
    "The subsection tutorial use following code:"
   ]
  },
  {
   "cell_type": "code",
   "execution_count": 2,
   "metadata": {},
   "outputs": [
    {
     "name": "stdout",
     "output_type": "stream",
     "text": [
      "Jupyter environment detected. Enabling Open3D WebVisualizer.\n",
      "[Open3D INFO] WebRTC GUI backend enabled.\n",
      "[Open3D INFO] WebRTCWindowSystem: HTTP handshake server disabled.\n"
     ]
    }
   ],
   "source": [
    "# path to tutlibs\n",
    "import path\n",
    "\n",
    "from tutlibs.dataset import Redwood3DScan, Redwood3DScanData\n",
    "from tutlibs.constructing import depth_to_point\n",
    "from tutlibs.transformation import Transformation as tr\n",
    "from tutlibs.visualization import JupyterVisualizer as jv\n",
    "\n",
    "import cv2\n",
    "import numpy as np\n",
    "import matplotlib.pyplot as plt\n",
    "from mpl_toolkits.axes_grid1 import ImageGrid\n"
   ]
  },
  {
   "cell_type": "code",
   "execution_count": 15,
   "metadata": {},
   "outputs": [
    {
     "name": "stdout",
     "output_type": "stream",
     "text": [
      "number of color image: 1852, color image path example: ../../data/redwood-3dscan/00021/rgbd/rgb/0000001-000000000000.jpg\n"
     ]
    }
   ],
   "source": [
    "dataset = Redwood3DScan(\"redwood-3dscan/\", \"../../data/redwood-3dscan/\")\n",
    "data = dataset[20]\n",
    "color_image_paths = data.color_image_paths\n",
    "depth_image_paths = data.depth_image_paths\n",
    "mesh = data.mesh\n",
    "print(\n",
    "    f\"number of color image: {len(color_image_paths)}, \"\n",
    "    f\"color image path example: {color_image_paths[0]}\"\n",
    ")\n"
   ]
  },
  {
   "cell_type": "markdown",
   "metadata": {},
   "source": [
    "Some samples have mesh data:"
   ]
  },
  {
   "cell_type": "code",
   "execution_count": 7,
   "metadata": {},
   "outputs": [
    {
     "name": "stdout",
     "output_type": "stream",
     "text": [
      "There is not object file.\n"
     ]
    }
   ],
   "source": [
    "if mesh is not None:\n",
    "    vertices, triangles, _ = mesh\n",
    "    print(f\"mesh vertices shape: {vertices.shape}, triangles shape: {triangles.shape}\")\n",
    "else:\n",
    "    print(f\"There is not object file.\")\n"
   ]
  },
  {
   "cell_type": "markdown",
   "metadata": {},
   "source": [
    "Convert depth image to a point cloud:"
   ]
  },
  {
   "cell_type": "code",
   "execution_count": 10,
   "metadata": {},
   "outputs": [
    {
     "data": {
      "application/vnd.jupyter.widget-view+json": {
       "model_id": "183e1ac9927645b7a8bd0e8937d70bc8",
       "version_major": 2,
       "version_minor": 0
      },
      "text/plain": [
       "Output()"
      ]
     },
     "metadata": {},
     "output_type": "display_data"
    }
   ],
   "source": [
    "fx = fy = 525\n",
    "cx = 319.5\n",
    "cy = 239.5\n",
    "\n",
    "depth_image = cv2.imread(depth_image_paths[0], -1)\n",
    "point_cloud, _ = depth_to_point(depth_image, fx, fy, cx, cy)\n",
    "\n",
    "obj_point_cloud = jv.point(point_cloud)\n",
    "jv.display([obj_point_cloud])\n"
   ]
  },
  {
   "cell_type": "markdown",
   "metadata": {},
   "source": [
    "Visualize mesh data:"
   ]
  },
  {
   "cell_type": "code",
   "execution_count": 5,
   "metadata": {},
   "outputs": [
    {
     "data": {
      "application/vnd.jupyter.widget-view+json": {
       "model_id": "a9625a97b90e4ef3bede7fecd38b6e40",
       "version_major": 2,
       "version_minor": 0
      },
      "text/plain": [
       "Output()"
      ]
     },
     "metadata": {},
     "output_type": "display_data"
    }
   ],
   "source": [
    "obj_mesh = jv.mesh(vertices, triangles)\n",
    "jv.display([obj_mesh])\n"
   ]
  },
  {
   "cell_type": "markdown",
   "metadata": {},
   "source": [
    "## Reference\n",
    "- [Choi, Sungjoon, Qian-Yi Zhou, Stephen Miller, and Vladlen Koltun. 2016. “A Large Dataset of Object Scans.” arXiv [cs.CV]. arXiv. http://arxiv.org/abs/1602.02481.](https://arxiv.org/abs/1602.02481)\n"
   ]
  },
  {
   "cell_type": "markdown",
   "metadata": {},
   "source": []
  }
 ],
 "metadata": {
  "interpreter": {
   "hash": "949777d72b0d2535278d3dc13498b2535136f6dfe0678499012e853ee9abcab1"
  },
  "kernelspec": {
   "display_name": "Python 3.8.12 64-bit",
   "language": "python",
   "name": "python3"
  },
  "language_info": {
   "codemirror_mode": {
    "name": "ipython",
    "version": 3
   },
   "file_extension": ".py",
   "mimetype": "text/x-python",
   "name": "python",
   "nbconvert_exporter": "python",
   "pygments_lexer": "ipython3",
   "version": "3.8.11"
  },
  "orig_nbformat": 4
 },
 "nbformat": 4,
 "nbformat_minor": 2
}
