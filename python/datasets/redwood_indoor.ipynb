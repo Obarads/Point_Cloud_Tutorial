{
 "cells": [
  {
   "cell_type": "markdown",
   "metadata": {},
   "source": [
    "# Redwood Indoor\n",
    "Redwood Indoor [Choi et al, 2015] has scene dataset with following data.\n",
    "- scene data of dense point cloud\n",
    "- RGB and depth sequence data \n",
    "- Trajectory files for sequence data\n",
    "\n",
    "Related URL\n",
    "- [Redwood indoor Homepage](http://redwood-data.org/indoor/index.html)\n"
   ]
  },
  {
   "cell_type": "code",
   "execution_count": 2,
   "metadata": {},
   "outputs": [],
   "source": [
    "%load_ext autoreload\n",
    "%autoreload 2"
   ]
  },
  {
   "cell_type": "markdown",
   "metadata": {},
   "source": [
    "The subsection tutorial use following code:"
   ]
  },
  {
   "cell_type": "code",
   "execution_count": 23,
   "metadata": {},
   "outputs": [],
   "source": [
    "# path to tutlibs\n",
    "import path\n",
    "\n",
    "from tutlibs.dataset import RedwoodIndoor, RedwoodIndoorData\n",
    "from tutlibs.constructing import depth_to_point\n",
    "from tutlibs.visualization import JupyterVisualizer as jv\n",
    "\n",
    "import cv2"
   ]
  },
  {
   "cell_type": "code",
   "execution_count": 4,
   "metadata": {},
   "outputs": [
    {
     "name": "stdout",
     "output_type": "stream",
     "text": [
      "number of color image: 2870, color image path example: ../../data/redwood-indoor/livingroom1/rgb/00000.jpg\n"
     ]
    }
   ],
   "source": [
    "dataset:RedwoodIndoorData = RedwoodIndoor(\"../../data/redwood-indoor/\")\n",
    "data = dataset[0]\n",
    "color_image_paths = data.color_image_paths\n",
    "clean_depth_image_paths = data.clean_depth_image_paths\n",
    "noisy_depth_image_paths = data.noisy_depth_image_paths\n",
    "trajectory_list = data.trajectory_list\n",
    "point_cloud = data.point_cloud\n",
    "print(\n",
    "    f\"number of color image: {len(color_image_paths)}, \"\n",
    "    f\"color image path example: {color_image_paths[0]}\"\n",
    ")\n"
   ]
  },
  {
   "cell_type": "markdown",
   "metadata": {},
   "source": [
    "Convert depth image to a point cloud:"
   ]
  },
  {
   "cell_type": "code",
   "execution_count": 12,
   "metadata": {},
   "outputs": [
    {
     "data": {
      "application/vnd.jupyter.widget-view+json": {
       "model_id": "cad9f5b18f80410ab096617060a2b6f0",
       "version_major": 2,
       "version_minor": 0
      },
      "text/plain": [
       "Output()"
      ]
     },
     "metadata": {},
     "output_type": "display_data"
    }
   ],
   "source": [
    "fx = fy = 525\n",
    "cx = 319.5\n",
    "cy = 239.5\n",
    "\n",
    "clean_depth_image = cv2.imread(clean_depth_image_paths[20], -1)\n",
    "point_cloud, _ = depth_to_point(clean_depth_image, fx, fy, cx, cy)\n",
    "\n",
    "obj_point_cloud = jv.point(point_cloud)\n",
    "jv.display([obj_point_cloud])\n"
   ]
  },
  {
   "cell_type": "markdown",
   "metadata": {},
   "source": [
    "## Reference\n",
    "- [Choi, Sungjoon, Qian-Yi Zhou, and Vladlen Koltun. 2015. “Robust Reconstruction of Indoor Scenes.” In 2015 IEEE Conference on Computer Vision and Pattern Recognition (CVPR). IEEE. https://doi.org/10.1109/cvpr.2015.7299195.](http://redwood-data.org/indoor/data/choi2015cvpr.pdf)\n"
   ]
  },
  {
   "cell_type": "markdown",
   "metadata": {},
   "source": []
  }
 ],
 "metadata": {
  "interpreter": {
   "hash": "949777d72b0d2535278d3dc13498b2535136f6dfe0678499012e853ee9abcab1"
  },
  "kernelspec": {
   "display_name": "Python 3.8.12 64-bit",
   "language": "python",
   "name": "python3"
  },
  "language_info": {
   "codemirror_mode": {
    "name": "ipython",
    "version": 3
   },
   "file_extension": ".py",
   "mimetype": "text/x-python",
   "name": "python",
   "nbconvert_exporter": "python",
   "pygments_lexer": "ipython3",
   "version": "3.8.11"
  },
  "orig_nbformat": 4
 },
 "nbformat": 4,
 "nbformat_minor": 2
}
