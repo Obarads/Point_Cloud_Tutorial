{
 "cells": [
  {
   "cell_type": "markdown",
   "metadata": {},
   "source": [
    "# Visualization\n",
    "本チュートリアルの3D空間上の表現視覚化では、`k3d`パッケージによるJupyterを介した視覚化を採用している。`k3d`だけでも十分簡単に利用できるが、いくつかの視覚化のための処理を必要とする場合があるため、それらの処理を内包した関数を本チュートリアルで用意している。\n",
    "\n",
    "本チュートリアルで利用できる表現は以下の通り。コードの紹介も以下の順で行う。\n",
    "- Point cloud\n",
    "- Line\n",
    "- Voxel\n",
    "- Mesh"
   ]
  },
  {
   "cell_type": "code",
   "execution_count": 2,
   "metadata": {},
   "outputs": [],
   "source": [
    "%load_ext autoreload\n",
    "%autoreload 2"
   ]
  },
  {
   "cell_type": "markdown",
   "metadata": {},
   "source": [
    "## Point cloud\n",
    "下の関数では、$N \\times 3$の点群(numpyのshapeでは(N, 3))を視覚化することができる。また、点に対応する色も表示できる。"
   ]
  },
  {
   "cell_type": "code",
   "execution_count": 3,
   "metadata": {},
   "outputs": [
    {
     "name": "stdout",
     "output_type": "stream",
     "text": [
      "Jupyter environment detected. Enabling Open3D WebVisualizer.\n",
      "[Open3D INFO] WebRTC GUI backend enabled.\n",
      "[Open3D INFO] WebRTCWindowSystem: HTTP handshake server disabled.\n"
     ]
    }
   ],
   "source": [
    "# for visualization\n",
    "from tutlibs.visualization import JupyterVisualizer as jv\n",
    "\n",
    "# for description\n",
    "import numpy as np\n",
    "from tutlibs.io import Points as io"
   ]
  },
  {
   "cell_type": "code",
   "execution_count": 4,
   "metadata": {},
   "outputs": [
    {
     "name": "stdout",
     "output_type": "stream",
     "text": [
      "xyz.shape: (3000, 3), rgb.shape: (3000, 3)\n"
     ]
    },
    {
     "data": {
      "application/vnd.jupyter.widget-view+json": {
       "model_id": "e895bf14158547f696f4faf9d4fbbc4b",
       "version_major": 2,
       "version_minor": 0
      },
      "text/plain": [
       "Output()"
      ]
     },
     "metadata": {},
     "output_type": "display_data"
    }
   ],
   "source": [
    "# Load a point cloud\n",
    "xyz, rgb, _ = io.read('../data/bunny_pc.ply')\n",
    "print(f\"xyz.shape: {xyz.shape}, rgb.shape: {rgb.shape}\")\n",
    "\n",
    "obj_pc = jv.point(xyz, rgb, color_range=[0, 255])\n",
    "jv.display([obj_pc])"
   ]
  },
  {
   "cell_type": "markdown",
   "metadata": {},
   "source": [
    "## Line\n",
    "下の関数では、$N \\times 2 \\times 3$の線(numpyのshapeでは(N, 2, 3))を視覚化することができる。$2$は線の始点と終点を表し、$3$はその始点と終点の各座標を示す。線ごとに個別の色を設定することができる。"
   ]
  },
  {
   "cell_type": "code",
   "execution_count": 15,
   "metadata": {},
   "outputs": [],
   "source": [
    "# for visualization\n",
    "from tutlibs.visualization import JupyterVisualizer as jv\n",
    "\n",
    "# for description\n",
    "import numpy as np\n",
    "from tutlibs.io import Points as io"
   ]
  },
  {
   "cell_type": "code",
   "execution_count": 6,
   "metadata": {},
   "outputs": [
    {
     "name": "stdout",
     "output_type": "stream",
     "text": [
      "lines.shape: (3, 2, 3), line_color.shape: (3, 3)\n"
     ]
    },
    {
     "data": {
      "application/vnd.jupyter.widget-view+json": {
       "model_id": "9bb32a452ae54c19b7928b3c64ebb485",
       "version_major": 2,
       "version_minor": 0
      },
      "text/plain": [
       "Output()"
      ]
     },
     "metadata": {},
     "output_type": "display_data"
    }
   ],
   "source": [
    "lines = np.array([\n",
    "    [[1.0, 0, 0],[0.0, 1.0, 0.5]],\n",
    "    [[1.0, 1.0, 1.0],[0.0, 0.0, 0.0]],\n",
    "    [[1.0, 0.0, 1.0],[0.0, 0.5, 0.5]],\n",
    "],dtype=np.float32)\n",
    "\n",
    "line_colors = np.array([\n",
    "    [1,0,0],\n",
    "    [0,1,0],\n",
    "    [0,0,1]\n",
    "],dtype=np.float32)\n",
    "print(f\"lines.shape: {lines.shape}, line_color.shape: {line_colors.shape}\")\n",
    "\n",
    "obj_lines = jv.line(lines, line_colors)\n",
    "jv.display([obj_lines])"
   ]
  },
  {
   "cell_type": "markdown",
   "metadata": {},
   "source": [
    "## Voxel\n",
    "下の関数では、$N \\times N \\times N$のボクセル空間(numpyのshapeでは(N, N, N))を視覚化することができる。ボクセル空間上では1がボクセル、0が空となる。"
   ]
  },
  {
   "cell_type": "code",
   "execution_count": 9,
   "metadata": {},
   "outputs": [],
   "source": [
    "# for visualization\n",
    "from tutlibs.visualization import JupyterVisualizer as jv\n",
    "\n",
    "# for description\n",
    "import numpy as np"
   ]
  },
  {
   "cell_type": "code",
   "execution_count": 12,
   "metadata": {},
   "outputs": [
    {
     "name": "stdout",
     "output_type": "stream",
     "text": [
      "voxel.shape: (10, 10, 10)\n"
     ]
    },
    {
     "data": {
      "application/vnd.jupyter.widget-view+json": {
       "model_id": "89a28b8a59d04061b219afddd9ebb60e",
       "version_major": 2,
       "version_minor": 0
      },
      "text/plain": [
       "Output()"
      ]
     },
     "metadata": {},
     "output_type": "display_data"
    }
   ],
   "source": [
    "N = 10\n",
    "voxel = np.zeros((N, N, N), dtype=np.uint8)\n",
    "voxel[::3,::4,::5] = 1\n",
    "print(f\"voxel.shape: {voxel.shape}\")\n",
    "\n",
    "obj_voxels = jv.voxel(voxel)\n",
    "jv.display([obj_voxels])"
   ]
  },
  {
   "cell_type": "markdown",
   "metadata": {},
   "source": [
    "## Mesh\n",
    "下の関数では、$N$個の頂点(numpyのshapeでは(N, 3))と頂点を結ぶ辺((M,3))を使用してMesh表現を視覚化することができる。頂点を結ぶ辺はどの頂点と紐づけるか示すため、頂点のインデックス番号によって構成される。"
   ]
  },
  {
   "cell_type": "code",
   "execution_count": 1,
   "metadata": {},
   "outputs": [
    {
     "name": "stdout",
     "output_type": "stream",
     "text": [
      "Jupyter environment detected. Enabling Open3D WebVisualizer.\n",
      "[Open3D INFO] WebRTC GUI backend enabled.\n",
      "[Open3D INFO] WebRTCWindowSystem: HTTP handshake server disabled.\n"
     ]
    }
   ],
   "source": [
    "# for visualization\n",
    "from tutlibs.visualization import JupyterVisualizer as jv\n",
    "\n",
    "# for description\n",
    "import numpy as np\n",
    "from tutlibs.io import Mesh as io"
   ]
  },
  {
   "cell_type": "code",
   "execution_count": 2,
   "metadata": {},
   "outputs": [
    {
     "name": "stdout",
     "output_type": "stream",
     "text": [
      "vertices.shape: (4, 3), triangles.shape: (4, 3)\n",
      "[]\n"
     ]
    },
    {
     "data": {
      "application/vnd.jupyter.widget-view+json": {
       "model_id": "7aa5dc6281174277a93ccf21122deb93",
       "version_major": 2,
       "version_minor": 0
      },
      "text/plain": [
       "Output()"
      ]
     },
     "metadata": {},
     "output_type": "display_data"
    }
   ],
   "source": [
    "vertices = np.array([\n",
    "    [0.0, 0.0, 0.0],\n",
    "    [0.5, 1.0, 0.0],\n",
    "    [1.0, 0.0, 0.0],\n",
    "    [0.5, 0.5, 1.0]\n",
    "],dtype=np.float32)\n",
    "\n",
    "triangles = np.array([\n",
    "    [0, 1, 2],\n",
    "    [0, 1, 3],\n",
    "    [0, 2, 3],\n",
    "    [1, 2, 3]\n",
    "],dtype=np.uint32)\n",
    "print(f\"vertices.shape: {vertices.shape}, triangles.shape: {triangles.shape}\")\n",
    "\n",
    "obj_mesh = jv.mesh(vertices, triangles)\n",
    "jv.display([obj_mesh])\n"
   ]
  },
  {
   "cell_type": "code",
   "execution_count": null,
   "metadata": {},
   "outputs": [],
   "source": []
  }
 ],
 "metadata": {
  "interpreter": {
   "hash": "949777d72b0d2535278d3dc13498b2535136f6dfe0678499012e853ee9abcab1"
  },
  "kernelspec": {
   "display_name": "Python 3.8.12 64-bit",
   "name": "python3"
  },
  "language_info": {
   "codemirror_mode": {
    "name": "ipython",
    "version": 3
   },
   "file_extension": ".py",
   "mimetype": "text/x-python",
   "name": "python",
   "nbconvert_exporter": "python",
   "pygments_lexer": "ipython3",
   "version": "3.8.12"
  },
  "orig_nbformat": 4
 },
 "nbformat": 4,
 "nbformat_minor": 2
}
