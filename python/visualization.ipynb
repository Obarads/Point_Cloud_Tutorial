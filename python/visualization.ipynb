{
 "cells": [
  {
   "cell_type": "markdown",
   "metadata": {},
   "source": [
    "# Visualization\n",
    "This tutorial uses `JupyterVisualizer` module to visualize 3D representations on Jupyter Notebook. `JupyterVisualizer` contains the preprocessing required for visualization by `k3d` package. For more information of `k3d` package, Please refer to [k3d repository](https://github.com/K3D-tools/K3D-jupyter).\n",
    "\n",
    "This section introduces features of `JupterVisualizer`:\n",
    "- Displaying\n",
    "- Creating visualization objects\n",
    "  - Point cloud\n",
    "  - Line\n",
    "  - Voxel\n",
    "  - Mesh"
   ]
  },
  {
   "cell_type": "code",
   "execution_count": 26,
   "metadata": {},
   "outputs": [
    {
     "name": "stdout",
     "output_type": "stream",
     "text": [
      "The autoreload extension is already loaded. To reload it, use:\n",
      "  %reload_ext autoreload\n"
     ]
    }
   ],
   "source": [
    "%load_ext autoreload\n",
    "%autoreload 2"
   ]
  },
  {
   "cell_type": "markdown",
   "metadata": {},
   "source": [
    "## Displaying\n",
    "`JupyterVisualizer` needs to do two processes for visualization:"
   ]
  },
  {
   "cell_type": "code",
   "execution_count": 37,
   "metadata": {},
   "outputs": [
    {
     "data": {
      "application/vnd.jupyter.widget-view+json": {
       "model_id": "2694e678a5884c96928c8f686bfe0de4",
       "version_major": 2,
       "version_minor": 0
      },
      "text/plain": [
       "Output()"
      ]
     },
     "metadata": {},
     "output_type": "display_data"
    }
   ],
   "source": [
    "from tutlibs.visualization import JupyterVisualizer as jv\n",
    "import numpy as np\n",
    "\n",
    "# Examples\n",
    "pc_xyz = np.random.random_sample((50, 3))\n",
    "tm_vertices = np.array(\n",
    "    [[1.0, 0.0, 0.0], [1.5, 1.0, 0.0], [2.0, 0.0, 0.0], [1.5, 0.5, 1.0]],\n",
    "    dtype=np.float32,\n",
    ")\n",
    "tm_triangles = np.array([[0, 1, 2], [0, 1, 3], [0, 2, 3], [1, 2, 3]], dtype=np.uint32)\n",
    "\n",
    "# 1. Define visualization objects to display.\n",
    "obj_pc = jv.point(pc_xyz, point_size=0.05)\n",
    "obj_tm = jv.mesh(tm_vertices, tm_triangles)\n",
    "\n",
    "# 2. Display visualization objects.\n",
    "jv.display([obj_pc, obj_tm])\n"
   ]
  },
  {
   "cell_type": "markdown",
   "metadata": {},
   "source": [
    "`jv.point` and `jv.mesh` is visualization objects. We introduce visualization objects this tutorial can use in the next subsection."
   ]
  },
  {
   "cell_type": "markdown",
   "metadata": {},
   "source": [
    "## Creating visualization objects"
   ]
  },
  {
   "cell_type": "markdown",
   "metadata": {},
   "source": [
    "### Point cloud (JupyterVisualizer.point)"
   ]
  },
  {
   "cell_type": "code",
   "execution_count": 27,
   "metadata": {},
   "outputs": [
    {
     "name": "stdout",
     "output_type": "stream",
     "text": [
      "Help on function point in module tutlibs.visualization:\n",
      "\n",
      "point(xyz: numpy.ndarray, colors: numpy.ndarray = None, color_range: List[float] = [0, 255], point_size: float = 0.01)\n",
      "    Create a point cloud object for visualizer.\n",
      "    \n",
      "    Args:\n",
      "        xyz: XYZ positions (N, 3)\n",
      "        colorts : RGB (N, 3) or color code (N)\n",
      "        color_range: color value range for RGB (min, max color value)\n",
      "        point_size: size of points on visualizer\n",
      "    \n",
      "    Note:\n",
      "        N: number of points\n",
      "\n"
     ]
    }
   ],
   "source": [
    "from tutlibs.visualization import JupyterVisualizer as jv\n",
    "import numpy as np\n",
    "from tutlibs.io import Points as io\n",
    "\n",
    "# print Docstring\n",
    "help(jv.point)\n"
   ]
  },
  {
   "cell_type": "code",
   "execution_count": 7,
   "metadata": {},
   "outputs": [
    {
     "name": "stdout",
     "output_type": "stream",
     "text": [
      "xyz.shape: (3000, 3), rgb.shape: (3000, 3)\n"
     ]
    },
    {
     "data": {
      "application/vnd.jupyter.widget-view+json": {
       "model_id": "1d94d7e4e5f34a298781bd31c8818cbb",
       "version_major": 2,
       "version_minor": 0
      },
      "text/plain": [
       "Output()"
      ]
     },
     "metadata": {},
     "output_type": "display_data"
    }
   ],
   "source": [
    "# Load a point cloud\n",
    "xyz, rgb, _ = io.read(\"../data/bunny_pc.ply\")\n",
    "print(f\"xyz.shape: {xyz.shape}, rgb.shape: {rgb.shape}\")\n",
    "\n",
    "obj_pc = jv.point(xyz, rgb, color_range=[0, 255])\n",
    "jv.display([obj_pc])\n"
   ]
  },
  {
   "cell_type": "markdown",
   "metadata": {},
   "source": [
    "### Lines (JupyterVisualizer.line)"
   ]
  },
  {
   "cell_type": "code",
   "execution_count": 28,
   "metadata": {},
   "outputs": [
    {
     "name": "stdout",
     "output_type": "stream",
     "text": [
      "Help on function line in module tutlibs.visualization:\n",
      "\n",
      "line(lines: numpy.ndarray, colors: numpy.ndarray = None, color_range: list = [0, 255], width=0.002, shader='simple')\n",
      "    Create line objects for visualizer.\n",
      "    Args:\n",
      "        lines: start and end points of lines (N, 2, 3)\n",
      "        colors: RGB (N, 3) or color code (N)\n",
      "        color_range: color value range for RGB (min, max color value)\n",
      "        width: width of lines on visualizer\n",
      "    \n",
      "    Note:\n",
      "        N: number of lines\n",
      "\n"
     ]
    }
   ],
   "source": [
    "# for visualization\n",
    "from tutlibs.visualization import JupyterVisualizer as jv\n",
    "\n",
    "# for description\n",
    "import numpy as np\n",
    "from tutlibs.io import Points as io\n",
    "\n",
    "# print Docstring\n",
    "help(jv.line)\n"
   ]
  },
  {
   "cell_type": "code",
   "execution_count": 13,
   "metadata": {},
   "outputs": [
    {
     "name": "stdout",
     "output_type": "stream",
     "text": [
      "lines.shape: (3, 2, 3), line_color.shape: (3, 3)\n"
     ]
    },
    {
     "data": {
      "application/vnd.jupyter.widget-view+json": {
       "model_id": "8b927e0b261b4f5aa127e1cc2d0f10ad",
       "version_major": 2,
       "version_minor": 0
      },
      "text/plain": [
       "Output()"
      ]
     },
     "metadata": {},
     "output_type": "display_data"
    }
   ],
   "source": [
    "lines = np.array(\n",
    "    [\n",
    "        [[1.0, 0, 0], [0.0, 1.0, 0.5]],\n",
    "        [[1.0, 1.0, 1.0], [0.0, 0.0, 0.0]],\n",
    "        [[1.0, 0.0, 1.0], [0.0, 0.5, 0.5]],\n",
    "    ],\n",
    "    dtype=np.float32,\n",
    ")\n",
    "\n",
    "line_colors = np.array([[255, 0, 0], [0, 255, 0], [0, 0, 255]], dtype=np.float32)\n",
    "print(f\"lines.shape: {lines.shape}, line_color.shape: {line_colors.shape}\")\n",
    "\n",
    "obj_lines = jv.line(lines, line_colors)\n",
    "jv.display([obj_lines])\n"
   ]
  },
  {
   "cell_type": "markdown",
   "metadata": {},
   "source": [
    "### Voxel (JupyterVisualizer.voxel)"
   ]
  },
  {
   "cell_type": "code",
   "execution_count": 29,
   "metadata": {},
   "outputs": [
    {
     "name": "stdout",
     "output_type": "stream",
     "text": [
      "Help on function voxel in module tutlibs.visualization:\n",
      "\n",
      "voxel(voxels: numpy.ndarray, color: int = 255)\n",
      "    Create voxel objects for visualizer.\n",
      "    \n",
      "    Args:\n",
      "        voxels: voxel data, (N, N, N)\n",
      "        color: hexadecimal voxel color, single color only\n",
      "    \n",
      "    Note:\n",
      "        N: number of voxel on a side.\n",
      "\n"
     ]
    }
   ],
   "source": [
    "# for visualization\n",
    "from tutlibs.visualization import JupyterVisualizer as jv\n",
    "\n",
    "# for description\n",
    "import numpy as np\n",
    "\n",
    "# print Docstring\n",
    "help(jv.voxel)\n"
   ]
  },
  {
   "cell_type": "code",
   "execution_count": 12,
   "metadata": {},
   "outputs": [
    {
     "name": "stdout",
     "output_type": "stream",
     "text": [
      "voxel.shape: (10, 10, 10)\n"
     ]
    },
    {
     "data": {
      "application/vnd.jupyter.widget-view+json": {
       "model_id": "89a28b8a59d04061b219afddd9ebb60e",
       "version_major": 2,
       "version_minor": 0
      },
      "text/plain": [
       "Output()"
      ]
     },
     "metadata": {},
     "output_type": "display_data"
    }
   ],
   "source": [
    "N = 10\n",
    "voxel = np.zeros((N, N, N), dtype=np.uint8)\n",
    "voxel[::3, ::4, ::5] = 1\n",
    "print(f\"voxel.shape: {voxel.shape}\")\n",
    "\n",
    "obj_voxels = jv.voxel(voxel)\n",
    "jv.display([obj_voxels])\n"
   ]
  },
  {
   "cell_type": "markdown",
   "metadata": {},
   "source": [
    "### Mesh (JupyterVisualizer.mesh)"
   ]
  },
  {
   "cell_type": "code",
   "execution_count": 31,
   "metadata": {},
   "outputs": [
    {
     "name": "stdout",
     "output_type": "stream",
     "text": [
      "Help on function mesh in module tutlibs.visualization:\n",
      "\n",
      "mesh(vertices: numpy.ndarray, edges: numpy.ndarray, colors: numpy.ndarray = None, color_range: List[float] = [0, 255])\n",
      "\n"
     ]
    }
   ],
   "source": [
    "# for visualization\n",
    "from tutlibs.visualization import JupyterVisualizer as jv\n",
    "\n",
    "# for description\n",
    "import numpy as np\n",
    "from tutlibs.io import Mesh as io\n",
    "\n",
    "# print Docstring\n",
    "help(jv.mesh)\n"
   ]
  },
  {
   "cell_type": "code",
   "execution_count": 33,
   "metadata": {},
   "outputs": [
    {
     "name": "stdout",
     "output_type": "stream",
     "text": [
      "vertices.shape: (4, 3), triangles.shape: (4, 3)\n"
     ]
    },
    {
     "data": {
      "application/vnd.jupyter.widget-view+json": {
       "model_id": "dab358a047ad433aae36f8ecbdf66342",
       "version_major": 2,
       "version_minor": 0
      },
      "text/plain": [
       "Output()"
      ]
     },
     "metadata": {},
     "output_type": "display_data"
    }
   ],
   "source": [
    "vertices = np.array(\n",
    "    [[0.0, 0.0, 0.0], [0.5, 1.0, 0.0], [1.0, 0.0, 0.0], [0.5, 0.5, 1.0]],\n",
    "    dtype=np.float32,\n",
    ")\n",
    "triangles = np.array([[0, 1, 2], [0, 1, 3], [0, 2, 3], [1, 2, 3]], dtype=np.uint32)\n",
    "print(f\"vertices.shape: {vertices.shape}, triangles.shape: {triangles.shape}\")\n",
    "\n",
    "obj_mesh = jv.mesh(vertices, triangles)\n",
    "jv.display([obj_mesh])\n"
   ]
  }
 ],
 "metadata": {
  "interpreter": {
   "hash": "949777d72b0d2535278d3dc13498b2535136f6dfe0678499012e853ee9abcab1"
  },
  "kernelspec": {
   "display_name": "Python 3.8.12 64-bit",
   "name": "python3"
  },
  "language_info": {
   "codemirror_mode": {
    "name": "ipython",
    "version": 3
   },
   "file_extension": ".py",
   "mimetype": "text/x-python",
   "name": "python",
   "nbconvert_exporter": "python",
   "pygments_lexer": "ipython3",
   "version": "3.8.11"
  },
  "orig_nbformat": 4
 },
 "nbformat": 4,
 "nbformat_minor": 2
}
