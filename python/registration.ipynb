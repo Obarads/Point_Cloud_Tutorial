{
 "cells": [
  {
   "cell_type": "markdown",
   "metadata": {},
   "source": [
    "# Registration\n",
    "## Abstract\n",
    "- This section describe registration algorithm for point cloud registration.\n",
    "\n",
    "## Introduction\n"
   ]
  },
  {
   "cell_type": "code",
   "execution_count": 1,
   "metadata": {},
   "outputs": [],
   "source": [
    "%load_ext autoreload\n",
    "%autoreload 2"
   ]
  },
  {
   "cell_type": "markdown",
   "metadata": {},
   "source": [
    "## Mathcing with Iterative Closest Point (ICP)"
   ]
  },
  {
   "cell_type": "markdown",
   "metadata": {},
   "source": [
    "This subsection demonstrates registration with ICP for a object point cloud. The subsection tutorial use following packages:"
   ]
  },
  {
   "cell_type": "code",
   "execution_count": 2,
   "metadata": {},
   "outputs": [
    {
     "name": "stdout",
     "output_type": "stream",
     "text": [
      "Jupyter environment detected. Enabling Open3D WebVisualizer.\n",
      "[Open3D INFO] WebRTC GUI backend enabled.\n",
      "[Open3D INFO] WebRTCWindowSystem: HTTP handshake server disabled.\n"
     ]
    }
   ],
   "source": [
    "import numpy as np\n",
    "\n",
    "from tutlibs.matching import icp\n",
    "from tutlibs.io import Points as io\n",
    "from tutlibs.visualization import Points as visualizer\n",
    "from tutlibs.sampling import voxel_grid_sampling\n",
    "from tutlibs.transformation import rotation, translation\n",
    "from tutlibs.transformation import TransformationMatrix as tm"
   ]
  },
  {
   "cell_type": "markdown",
   "metadata": {},
   "source": [
    "The tutorial code is following:"
   ]
  },
  {
   "cell_type": "code",
   "execution_count": 3,
   "metadata": {},
   "outputs": [
    {
     "data": {
      "application/vnd.jupyter.widget-view+json": {
       "model_id": "bf1602999b4c46e6b63dd07b2b9eed8f",
       "version_major": 2,
       "version_minor": 0
      },
      "text/plain": [
       "Plot(antialias=3, axes=['x', 'y', 'z'], axes_helper=1.0, background_color=16777215, camera=[2, -3, 0.2, 0.0, 0…"
      ]
     },
     "metadata": {},
     "output_type": "display_data"
    },
    {
     "data": {
      "application/vnd.jupyter.widget-view+json": {
       "model_id": "abc94299a24e45eb8ab329d2ee8ce2e7",
       "version_major": 2,
       "version_minor": 0
      },
      "text/plain": [
       "Output()"
      ]
     },
     "metadata": {},
     "output_type": "display_data"
    }
   ],
   "source": [
    "# data acquisition\n",
    "target_xyz, _, _ = io.read('../data/bunny_pc.ply')\n",
    "\n",
    "# source random transformation\n",
    "source_xyz = rotation(translation(target_xyz, np.array([0.0, 0.1, 0.0])), 'z', angle=30/180*np.pi)\n",
    "\n",
    "# # keypoints estimation\n",
    "source_v_xyz = voxel_grid_sampling(source_xyz, 0.01)\n",
    "target_v_xyz = voxel_grid_sampling(target_xyz, 0.01)\n",
    "\n",
    "# use ICP\n",
    "trans_mat = icp(source_v_xyz, target_v_xyz, 20)\n",
    "estimated_source_xyz = tm.transformation_Nx3_with_4x4(source_xyz, trans_mat)\n",
    "\n",
    "# visualize results\n",
    "source_colors = np.tile([[1, 0, 0]], (source_xyz.shape[0], 1))\n",
    "estimated_source_colors = np.tile([[0, 1, 0]], (estimated_source_xyz.shape[0], 1))\n",
    "target_colors = np.tile([[1, 1, 0]], (target_xyz.shape[0], 1))\n",
    "\n",
    "vis_xyz = np.concatenate([estimated_source_xyz, target_xyz, source_xyz])\n",
    "vis_color = np.concatenate([estimated_source_colors, target_colors, source_colors])\n",
    "visualizer.k3d(vis_xyz, colors=vis_color)\n",
    "# io.write('outputs/r1.ply', vis_xyz, vis_color)\n"
   ]
  },
  {
   "cell_type": "markdown",
   "metadata": {},
   "source": [
    "## Use RANSAC\n",
    "\n",
    "This subsection demonstrates regustration with ICP for a"
   ]
  },
  {
   "cell_type": "markdown",
   "metadata": {},
   "source": [
    "## Use of Open3D"
   ]
  },
  {
   "cell_type": "code",
   "execution_count": 4,
   "metadata": {},
   "outputs": [],
   "source": [
    "import numpy as np\n",
    "import open3d as o3d\n",
    "\n",
    "from tutlibs.io import Points as io\n",
    "from tutlibs.visualization import Points as visualizer\n",
    "from tutlibs.sampling import voxel_grid_sampling\n",
    "from tutlibs.transformation import rotation, translation\n",
    "from tutlibs.transformation import TransformationMatrix as tm"
   ]
  },
  {
   "cell_type": "code",
   "execution_count": 8,
   "metadata": {},
   "outputs": [],
   "source": [
    "def icp_o3d(source_xyz, target_xyz, threshold=0.1):\n",
    "    source = o3d.geometry.PointCloud()\n",
    "    target = o3d.geometry.PointCloud()\n",
    "\n",
    "    source.points = o3d.utility.Vector3dVector(source_xyz)\n",
    "    target.points = o3d.utility.Vector3dVector(target_xyz)\n",
    "\n",
    "    trans_init = np.identity(4)\n",
    "    reg_p2p = o3d.pipelines.registration.registration_icp(\n",
    "        source, target, threshold, trans_init,\n",
    "        o3d.pipelines.registration.TransformationEstimationPointToPoint(),\n",
    "        o3d.pipelines.registration.ICPConvergenceCriteria(max_iteration=2000))\n",
    "\n",
    "    transformation = reg_p2p.transformation\n",
    "\n",
    "    return transformation\n",
    "\n",
    "# data acquisition\n",
    "target_xyz, _, _ = io.read('../data/bunny_pc.ply')\n",
    "\n",
    "# source random transformation\n",
    "source_xyz = rotation(translation(target_xyz, np.array([0.0, 0.1, 0.0])), 'z', angle=30/180*np.pi)\n",
    "\n",
    "# # keypoints estimation\n",
    "source_v_xyz = voxel_grid_sampling(source_xyz, 0.01)\n",
    "target_v_xyz = voxel_grid_sampling(target_xyz, 0.01)\n",
    "\n",
    "# use ICP\n",
    "trans_mat = icp_o3d(source_v_xyz, target_v_xyz)\n",
    "estimated_source_xyz = tm.transformation_Nx3_with_4x4(source_xyz, trans_mat)\n",
    "\n",
    "# visualize results\n",
    "source_colors = np.tile([[1, 0, 0]], (source_xyz.shape[0], 1))\n",
    "estimated_source_colors = np.tile([[0, 1, 0]], (estimated_source_xyz.shape[0], 1))\n",
    "target_colors = np.tile([[1, 1, 0]], (target_xyz.shape[0], 1))\n",
    "\n",
    "vis_xyz = np.concatenate([estimated_source_xyz, target_xyz, ])\n",
    "vis_color = np.concatenate([estimated_source_colors, target_colors, ])\n",
    "# visualizer.k3d(vis_xyz, colors=vis_color)\n",
    "io.write('outputs/r1.ply', vis_xyz, vis_color)\n"
   ]
  },
  {
   "cell_type": "code",
   "execution_count": null,
   "metadata": {},
   "outputs": [],
   "source": []
  }
 ],
 "metadata": {
  "interpreter": {
   "hash": "949777d72b0d2535278d3dc13498b2535136f6dfe0678499012e853ee9abcab1"
  },
  "kernelspec": {
   "display_name": "Python 3 (ipykernel)",
   "language": "python",
   "name": "python3"
  },
  "language_info": {
   "codemirror_mode": {
    "name": "ipython",
    "version": 3
   },
   "file_extension": ".py",
   "mimetype": "text/x-python",
   "name": "python",
   "nbconvert_exporter": "python",
   "pygments_lexer": "ipython3",
   "version": "3.8.12"
  }
 },
 "nbformat": 4,
 "nbformat_minor": 2
}
