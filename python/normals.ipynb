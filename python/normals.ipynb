{
 "cells": [
  {
   "cell_type": "markdown",
   "metadata": {},
   "source": [
    "## Normal estimation\n",
    "### Numpy\n",
    "ここでは、座標値のみを持つ点の点群から法線を推定します。  \n",
    "\n",
    "法線の推定は、[PCLのEstimating Surface Normals in a PointCloud](https://pcl.readthedocs.io/projects/tutorials/en/pcl-1.12.0-rc1/normal_estimation.html)を参考に作成します。\n",
    "\n",
    "$$\n",
    "\\mathcal{C}=\\frac{1}{k} \\sum_{i=1}^{k} \\cdot\\left(\\boldsymbol{p}_{i}-\\overline{\\boldsymbol{p}}\\right) \\cdot\\left(\\boldsymbol{p}_{i}-\\overline{\\boldsymbol{p}}\\right)^{T}, \\mathcal{C} \\cdot \\overrightarrow{\\mathbf{v}}_{j}=\\lambda_{j} \\cdot \\overrightarrow{\\mathbf{v}_{j}}, j \\in\\{0,1,2\\}\n",
    "$$\n",
    "\n",
    "このsubsectionでは以下のパッケージを使用します。\n"
   ]
  },
  {
   "cell_type": "code",
   "execution_count": 1,
   "metadata": {},
   "outputs": [],
   "source": [
    "%load_ext autoreload\n",
    "%autoreload 2"
   ]
  },
  {
   "cell_type": "code",
   "execution_count": 46,
   "metadata": {},
   "outputs": [],
   "source": [
    "# for normal estimation\n",
    "import numpy as np\n",
    "from tutlibs.normals import normal_estimation\n",
    "\n",
    "# for description\n",
    "from tutlibs.io import Points as io\n",
    "from tutlibs.transformation import translation\n",
    "from tutlibs.visualization import Points as visualizer"
   ]
  },
  {
   "cell_type": "markdown",
   "metadata": {},
   "source": [
    "法線推定は以下のとおりです。"
   ]
  },
  {
   "cell_type": "code",
   "execution_count": 64,
   "metadata": {},
   "outputs": [
    {
     "data": {
      "application/vnd.jupyter.widget-view+json": {
       "model_id": "9db18fc18970493fa0712975924b04b4",
       "version_major": 2,
       "version_minor": 0
      },
      "text/plain": [
       "Output()"
      ]
     },
     "metadata": {},
     "output_type": "display_data"
    }
   ],
   "source": [
    "# Load a point cloud\n",
    "xyz, colors, data = io.read('../data/bunny_pc.ply')\n",
    "\n",
    "# Estimate normals\n",
    "k = 15\n",
    "estimated_normals = normal_estimation(xyz, k=k)\n",
    "\n",
    "# Get GT normals\n",
    "gt_normals = np.stack([data['nx'], data['ny'], data['nz']], axis=-1)\n",
    "gt_xyz = translation(xyz, np.array([1, 0, 0]))\n",
    "\n",
    "# Visualize normals\n",
    "visualizer.k3d(\n",
    "    np.vstack([xyz, gt_xyz]), \n",
    "    np.vstack([estimated_normals, gt_normals]),\n",
    "    color_range=[-1, 1]\n",
    ")"
   ]
  },
  {
   "cell_type": "markdown",
   "metadata": {},
   "source": [
    "上記の推定では、x軸方向に0~1の間にある点群が法線推定を施した点群(法線推定点群)、1~2の間にある点群がMeshから直接取得した法線を持つ点群(GT法線点群)です。法線は法線マップと呼ばれる色合いによって示されています。法線マップはなだらかな曲線を持つ表面に対しては徐々に色が変わり、そうでない表面では色が著しく変わります。上記のGT法線点群では曲線に沿って色が変化しているのに対し、法線推定点群はまだら模様になっています。これは、normal estimation時に点群の表裏を考慮していないことが原因です。\n",
    "\n",
    "法線情報は"
   ]
  },
  {
   "cell_type": "markdown",
   "metadata": {},
   "source": [
    "### Use of Open3D\n",
    "ここで使用するパッケージは以下のとおりです。"
   ]
  },
  {
   "cell_type": "code",
   "execution_count": null,
   "metadata": {},
   "outputs": [
    {
     "data": {
      "application/vnd.jupyter.widget-view+json": {
       "model_id": "d477a16fedc340bf9158248f2ac0768b",
       "version_major": 2,
       "version_minor": 0
      },
      "text/plain": [
       "Output()"
      ]
     },
     "metadata": {},
     "output_type": "display_data"
    }
   ],
   "source": [
    "import open3d as o3d\n",
    "pc = o3d.io.read_point_cloud('../data/bunny_pc.ply')\n",
    "pc.estimate_normals(search_param=o3d.geometry.KDTreeSearchParamHybrid(radius=0.1, max_nn=30))\n",
    "normals = np.asarray(pc.normals)\n",
    "\n",
    "normals_colors = (normals + 1) / 2\n",
    "xyz = np.asarray(pc.points)\n",
    "visualizer.k3d(xyz, normals_colors)\n",
    "normals_colors = normals_colors * 255\n",
    "\n",
    "os.makedirs('outputs/', exist_ok=True)\n",
    "io.write('outputs/o3d_normal.ply', xyz, normals_colors)"
   ]
  }
 ],
 "metadata": {
  "interpreter": {
   "hash": "949777d72b0d2535278d3dc13498b2535136f6dfe0678499012e853ee9abcab1"
  },
  "kernelspec": {
   "display_name": "Python 3.8.12 64-bit",
   "name": "python3"
  },
  "language_info": {
   "codemirror_mode": {
    "name": "ipython",
    "version": 3
   },
   "file_extension": ".py",
   "mimetype": "text/x-python",
   "name": "python",
   "nbconvert_exporter": "python",
   "pygments_lexer": "ipython3",
   "version": "3.8.12"
  },
  "orig_nbformat": 4
 },
 "nbformat": 4,
 "nbformat_minor": 2
}
