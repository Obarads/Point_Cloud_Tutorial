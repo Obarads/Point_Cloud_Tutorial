{
 "cells": [
  {
   "cell_type": "markdown",
   "source": [
    "## Normal estimation\n",
    "### Numpy\n",
    "ここでは、座標値のみを持つ点の点群から法線を推定します。  \n",
    "\n",
    "法線の推定は、[PCLのEstimating Surface Normals in a PointCloud](https://pcl.readthedocs.io/projects/tutorials/en/pcl-1.12.0-rc1/normal_estimation.html)を参考に作成します。\n",
    "\n",
    "$$\n",
    "\\mathcal{C}=\\frac{1}{k} \\sum_{i=1}^{k} \\cdot\\left(\\boldsymbol{p}_{i}-\\overline{\\boldsymbol{p}}\\right) \\cdot\\left(\\boldsymbol{p}_{i}-\\overline{\\boldsymbol{p}}\\right)^{T}, \\mathcal{C} \\cdot \\overrightarrow{\\mathbf{v}}_{j}=\\lambda_{j} \\cdot \\overrightarrow{\\mathbf{v}_{j}}, j \\in\\{0,1,2\\}\n",
    "$$\n",
    "\n",
    "このsubsectionでは以下のパッケージを使用します。\n"
   ],
   "metadata": {}
  },
  {
   "cell_type": "code",
   "execution_count": null,
   "source": [
    "import numpy as np\n",
    "import k3d\n",
    "import os\n",
    "from tutlibs.operation import grouping, normal_estimation\n",
    "from tutlibs.io import Points as io\n",
    "from tutlibs.visualization import Points as visualizer"
   ],
   "outputs": [],
   "metadata": {}
  },
  {
   "cell_type": "markdown",
   "source": [
    "推定は以下のとおりです。"
   ],
   "metadata": {}
  },
  {
   "cell_type": "code",
   "execution_count": null,
   "source": [
    "xyz, _, _ = io.read('../data/bunny_pc.ply')\n",
    "colors = np.tile(np.array([[0, 0, 1]]), (len(xyz), 1))\n",
    "\n",
    "normals = normal_estimation(xyz)\n",
    "\n",
    "normal_action = [0]\n",
    "if 0 in normal_action:\n",
    "    plot = k3d.plot()\n",
    "    line_coords = []\n",
    "    start_index = 0\n",
    "    end_index = 30\n",
    "    for normal_index in list(range(len(xyz)))[start_index:end_index]:\n",
    "        plot += k3d.line([xyz[normal_index], xyz[normal_index]+normals[normal_index]*0.1], width=0.0010, color=0xff0000)\n",
    "    # visualizer.k3d(xyz, plot=plot)\n",
    "    normal_knn_points = knn_points[start_index:end_index]\n",
    "    normal_knn_points = normal_knn_points.reshape(len(normal_knn_points)*k, 3)\n",
    "    normal_knn_colors = np.tile(np.array([[0, 1, 1]]), (len(normal_knn_points), 1))\n",
    "\n",
    "    visualizer.k3d(np.vstack([xyz, normal_knn_points]),\n",
    "                   np.vstack([colors, normal_knn_colors]), plot=plot)\n",
    "\n",
    "if 1 in normal_action:\n",
    "    normals_colors = normals\n",
    "    visualizer.k3d(xyz, normals_colors, color_range=[-1, 1])\n",
    "\n",
    "if 2 in normal_action:\n",
    "    os.makedirs('outputs/', exist_ok=True)\n",
    "    io.write('outputs/numpy_normal.ply', xyz, normals_colors)\n"
   ],
   "outputs": [
    {
     "data": {
      "application/vnd.jupyter.widget-view+json": {
       "version_major": 2,
       "version_minor": 0,
       "model_id": "244bdf7345f24587a94027359e7792bc"
      },
      "text/plain": [
       "Output()"
      ]
     },
     "metadata": {},
     "output_type": "display_data"
    }
   ],
   "metadata": {}
  },
  {
   "cell_type": "markdown",
   "source": [
    "### Use of Open3D\n",
    "ここで使用するパッケージは以下のとおりです。"
   ],
   "metadata": {}
  },
  {
   "cell_type": "code",
   "execution_count": null,
   "source": [
    "pc = o3d.io.read_point_cloud('../data/bunny_pc.ply')\n",
    "pc.estimate_normals(search_param=o3d.geometry.KDTreeSearchParamHybrid(radius=0.1, max_nn=30))\n",
    "normals = np.asarray(pc.normals)\n",
    "\n",
    "normals_colors = (normals + 1) / 2\n",
    "xyz = np.asarray(pc.points)\n",
    "visualizer.k3d(xyz, normals_colors)\n",
    "normals_colors = normals_colors * 255\n",
    "\n",
    "os.makedirs('outputs/', exist_ok=True)\n",
    "io.write('outputs/o3d_normal.ply', xyz, normals_colors)"
   ],
   "outputs": [
    {
     "data": {
      "application/vnd.jupyter.widget-view+json": {
       "version_major": 2,
       "version_minor": 0,
       "model_id": "d477a16fedc340bf9158248f2ac0768b"
      },
      "text/plain": [
       "Output()"
      ]
     },
     "metadata": {},
     "output_type": "display_data"
    }
   ],
   "metadata": {}
  }
 ],
 "metadata": {
  "orig_nbformat": 4,
  "language_info": {
   "name": "python"
  }
 },
 "nbformat": 4,
 "nbformat_minor": 2
}