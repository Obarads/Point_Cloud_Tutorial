{
 "cells": [
  {
   "cell_type": "markdown",
   "metadata": {},
   "source": [
    "# Basic code\n",
    "This section introduces point cloud format and functions used frequently.\n",
    "\n",
    "### TL;DR\n",
    "- This tutorial uses the point cloud format of a two-dimensional array (shape: (number of points, channel size)).\n",
    "- This tutorial frequently uses `tutlibs.io.Points` (reading and writing a file) and `tutlibs.visualization.JupyterVisualizer` (visualization for 3D representation).\n"
   ]
  },
  {
   "cell_type": "markdown",
   "metadata": {},
   "source": [
    "## Format\n",
    "This subsection introduces point cloud format. In this subsection, we use this package:"
   ]
  },
  {
   "cell_type": "code",
   "execution_count": 1,
   "metadata": {},
   "outputs": [],
   "source": [
    "import numpy as np\n"
   ]
  },
  {
   "cell_type": "markdown",
   "metadata": {},
   "source": [
    "Point cloud processing treats a point cloud as an array. As the following example, an array shows a point cloud with four points on three dimension space:"
   ]
  },
  {
   "cell_type": "code",
   "execution_count": 2,
   "metadata": {},
   "outputs": [
    {
     "name": "stdout",
     "output_type": "stream",
     "text": [
      "array shape:(4, 3)\n"
     ]
    }
   ],
   "source": [
    "coords = np.array(\n",
    "    [[1, 0, 0], [0, 0.5, 1], [1, 1, 0.1], [-1, 0.5, -0.3]], dtype=np.float32\n",
    ")\n",
    "\n",
    "print(\"array shape:{}\".format(coords.shape))\n"
   ]
  },
  {
   "cell_type": "markdown",
   "metadata": {},
   "source": [
    "The first dimension of this array (`coords`) has points, and the second dimension has coordinate values of each point. Therefore, `4` of the array shape show number of points, and `3` show number of coordinate values on three dimension space."
   ]
  },
  {
   "cell_type": "markdown",
   "metadata": {},
   "source": [
    "A point cloud may contain additional information such as color information. If a color is assigned to each point in the above code, the color information is expressed as follows."
   ]
  },
  {
   "cell_type": "code",
   "execution_count": 3,
   "metadata": {},
   "outputs": [
    {
     "name": "stdout",
     "output_type": "stream",
     "text": [
      "array shape:(4, 3)\n"
     ]
    }
   ],
   "source": [
    "colors = np.array(\n",
    "    [[255, 10, 20], [0, 89, 111], [74, 116, 121], [190, 95, 3]], dtype=np.int32\n",
    ")\n",
    "\n",
    "print(\"array shape:{}\".format(colors.shape))\n"
   ]
  },
  {
   "cell_type": "markdown",
   "metadata": {},
   "source": [
    "The first dimension of this array (`colors`) has points, and the second dimension has color values of each point. Therefore, `4` of the array shape show number of points, and `3` show number of color values on three dimension space. Also, the index values of the first dimension correspond between the color and coordinate arrays. \n",
    "\n",
    "As you can see from the array of color and coordinate information, the point cloud array is represented in (number of points, channel size). The tutorial demonstrate various point cloud processing using this simple point cloud format. \n",
    "\n",
    "In this tutorial, the specifications of the point cloud array are as follows.\n",
    "- This array shape is (number of points, channel size).\n",
    "- Point cloud data is divided by type such as coordinates, colors.\n",
    "- Arrays of the same point cloud correspond between the indices of the first dimension. (ex: i-th point color is `colors[i]`, coordinate is `coord[i]`.)"
   ]
  },
  {
   "cell_type": "markdown",
   "metadata": {},
   "source": [
    "## Function\n",
    "This subsection introduces the following functions that the tutorial use frequently:\n",
    "- point cloud file I/O (tutlibs.io.Points)\n",
    "- visualization of point clouds (tutlibs.visualization.JupyterVisualizer)\n",
    "\n",
    "In this subsection, we use this package:"
   ]
  },
  {
   "cell_type": "code",
   "execution_count": 1,
   "metadata": {},
   "outputs": [
    {
     "name": "stdout",
     "output_type": "stream",
     "text": [
      "Jupyter environment detected. Enabling Open3D WebVisualizer.\n",
      "[Open3D INFO] WebRTC GUI backend enabled.\n",
      "[Open3D INFO] WebRTCWindowSystem: HTTP handshake server disabled.\n"
     ]
    }
   ],
   "source": [
    "import numpy as np\n",
    "import os\n",
    "from tutlibs.visualization import JupyterVisualizer as jv\n",
    "from tutlibs.io import Points\n"
   ]
  },
  {
   "cell_type": "markdown",
   "metadata": {},
   "source": [
    "### Point cloud file I/O (tutlibs.io.Points)\n",
    "\n",
    "This tutorial mainly deal with vertex-only [PLY](http://paulbourke.net/dataformats/ply/) files as point cloud files. This subsection introduces the write and read functions of the PLY file.  \n",
    "First, we introduce the read function, `Points.read`:\n"
   ]
  },
  {
   "cell_type": "code",
   "execution_count": 2,
   "metadata": {},
   "outputs": [
    {
     "name": "stdout",
     "output_type": "stream",
     "text": [
      "XYZ shape:(4093, 3)\n",
      "RGB shape:(4093, 3)\n",
      "data type:<class 'dict'>, key:dict_keys(['nx', 'ny', 'nz'])\n"
     ]
    }
   ],
   "source": [
    "xyz, rgb, data = Points.read(\"../data/bunny_pc.ply\")\n",
    "print(\"XYZ shape:{}\".format(xyz.shape))\n",
    "print(\"RGB shape:{}\".format(rgb.shape))\n",
    "print(\"data type:{}, key:{}\".format(type(data), data.keys()))\n"
   ]
  },
  {
   "cell_type": "markdown",
   "metadata": {},
   "source": [
    "`Points.read` reads data from a `ply` file. The return values of `Points.read` are `xyz`, `rgb`, and `data` :\n",
    "1. `xyz`: a XYZ coordinate array. Shape of the array is (number of points, 3).\n",
    "2. `rgb`: a RGB array. Shape of the array is (number of points, 3).\n",
    "3. `data`: a file content. This return value is `dict` type, and may contain not only colors and coordinates, but also surface normals, etc."
   ]
  },
  {
   "cell_type": "markdown",
   "metadata": {},
   "source": [
    "Next, the write function, `Points.write` is as follows:"
   ]
  },
  {
   "cell_type": "code",
   "execution_count": 3,
   "metadata": {},
   "outputs": [],
   "source": [
    "os.makedirs(\"outputs/\", exist_ok=True)\n",
    "Points.write(\n",
    "    \"outputs/basic_code_pc.ply\", xyz, rgb, color_range=[0, 255], additional_data=None\n",
    ")\n"
   ]
  },
  {
   "cell_type": "markdown",
   "metadata": {},
   "source": [
    "`Points.write` write data to a `ply` file. The arguments of `Points.write` are as follows:\n",
    "1. `filename`: file path to write a point cloud\n",
    "2. `xyz`: a XYZ coordinate array. Shape of the array is (number of points, 3).\n",
    "3. `rgb`: a RGB array. Shape of the array is (number of points, 3).\n",
    "4. `color_range`: a RGB value range. The default range is [0, 255]. \n",
    "5. `additional_data`: additional data except RGB and XYZ coordinate data. This value is `dict` type or `None`, and default value is `None`.\n"
   ]
  },
  {
   "cell_type": "markdown",
   "metadata": {},
   "source": [
    "### Visualization (tutlibs.visualization.JupyterVisualizer as jv)\n",
    "This subsection introduce a visualization function:"
   ]
  },
  {
   "cell_type": "code",
   "execution_count": 3,
   "metadata": {},
   "outputs": [
    {
     "data": {
      "application/vnd.jupyter.widget-view+json": {
       "model_id": "f375f78614c545f5bfa16a6ef37640b2",
       "version_major": 2,
       "version_minor": 0
      },
      "text/plain": [
       "Output()"
      ]
     },
     "metadata": {},
     "output_type": "display_data"
    }
   ],
   "source": [
    "obj_point = jv.point(xyz, rgb, color_range=[0, 255])\n",
    "jv.display([obj_point])\n"
   ]
  },
  {
   "cell_type": "markdown",
   "metadata": {},
   "source": [
    "We can get an object to display a point cloud from `jv.point`, and then `jv.display` displays point clouds from a list of objects. The arguments of `jv.point` are as follows:\n",
    "1. `xyz`: a XYZ coordinate array. Shape of the array is (number of points, 3).\n",
    "2. `colors`: a RGB array. Shape of the array is (number of points, 3).\n",
    "3. `color_range`: a RGB value range. The default range is [0, 255]. \n",
    "4. `point_size`: point size for display\n",
    "\n",
    "`jv` can display other 3D representation. For more `jv`, Please refer to [python/visualization.ipynb](python/visualization.ipynb)."
   ]
  },
  {
   "cell_type": "markdown",
   "metadata": {},
   "source": []
  }
 ],
 "metadata": {
  "interpreter": {
   "hash": "d4d1e4263499bec80672ea0156c357c1ee493ec2b1c70f0acce89fc37c4a6abe"
  },
  "kernelspec": {
   "display_name": "Python 3.7.10 64-bit ('base': conda)",
   "name": "python3"
  },
  "language_info": {
   "codemirror_mode": {
    "name": "ipython",
    "version": 3
   },
   "file_extension": ".py",
   "mimetype": "text/x-python",
   "name": "python",
   "nbconvert_exporter": "python",
   "pygments_lexer": "ipython3",
   "version": "3.7.11"
  },
  "metadata": {
   "interpreter": {
    "hash": "ab572f8382c36f49bd917204de4c59d722e624b086ed802653f875d19e70c0af"
   }
  }
 },
 "nbformat": 4,
 "nbformat_minor": 4
}
