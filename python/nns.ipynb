{
 "cells": [
  {
   "cell_type": "markdown",
   "metadata": {},
   "source": [
    "# Nearest neighbor search (NNS)\n",
    "\n",
    "## Abstract\n",
    "- 点群の最近傍探索(NNS)について紹介する。\n",
    "- NNS手法として、以下を紹介する。\n",
    "    - kNN (k Nearest Neighbor)\n",
    "    - Radius Nearest Neighbor\n",
    "\n",
    "## Introduction\n",
    "NNSは点群Aの点から距離的に近い点群Bの点(以下、近傍点)を探し出すことができる。点群では、各点は近傍点から情報を取得もしくは推定することが多いため、NNSは非常に重要である。例として以下が挙げられる。\n",
    "- 点aのhandcrafted特徴や法線等を求める場合にaの近傍点から周辺の情報を推定し、算出した推定値をaに割り当てるため、NNSが使われる。\n",
    "- 深層学習のモデルでは、点の近くにある点の特徴を畳み込み機構に入力するため、NNSを利用する。\n",
    "\n",
    "本セクションでは、XYZ空間上でNNSのチュートリアルを行う。尚、NNSはXYZ空間上だけでなく特徴量空間(例:4次元空間)でも利用可能であるが、本セクションでは説明を簡易にするためにXYZ空間上のチュートリアルのみを扱う。\n",
    "\n",
    "本チュートリアルでは以下の手法を説明する。\n",
    "- kNN (k Nearest Neighbor)\n",
    "- Radius Nearest Neighbor"
   ]
  },
  {
   "cell_type": "code",
   "execution_count": 1,
   "metadata": {},
   "outputs": [],
   "source": [
    "%load_ext autoreload\n",
    "%autoreload 2"
   ]
  },
  {
   "cell_type": "markdown",
   "metadata": {},
   "source": [
    "## kNN (k Nearest Neighbor)\n",
    "kNNは点の近傍点をk個探すNNSである。チュートリアルコードでは$N$個の点を持つ点群Aの各点の近傍点を点群Bから$k$個探し、$N \\times k$サイズの近傍点のインデックス配列を得ることができる。\n",
    "\n",
    "本subsectionで使用するコードは以下の通り。"
   ]
  },
  {
   "cell_type": "code",
   "execution_count": 2,
   "metadata": {},
   "outputs": [
    {
     "name": "stdout",
     "output_type": "stream",
     "text": [
      "Jupyter environment detected. Enabling Open3D WebVisualizer.\n",
      "[Open3D INFO] WebRTC GUI backend enabled.\n",
      "[Open3D INFO] WebRTCWindowSystem: HTTP handshake server disabled.\n"
     ]
    }
   ],
   "source": [
    "# for kNN\n",
    "import numpy as np\n",
    "from tutlibs.nns import k_nearest_neighbors\n",
    "from tutlibs.operator import gather\n",
    "\n",
    "# for description\n",
    "from tutlibs.io import Points as io\n",
    "from tutlibs.utils import single_color\n",
    "from tutlibs.visualization import JupyterVisualizer as jv\n",
    "import inspect"
   ]
  },
  {
   "cell_type": "code",
   "execution_count": 3,
   "metadata": {},
   "outputs": [
    {
     "data": {
      "application/vnd.jupyter.widget-view+json": {
       "model_id": "6c8cdaa7f77d4358a5107ac81f23c9de",
       "version_major": 2,
       "version_minor": 0
      },
      "text/plain": [
       "Output()"
      ]
     },
     "metadata": {},
     "output_type": "display_data"
    }
   ],
   "source": [
    "# load a point cloud data.\n",
    "xyz, _, _ = io.read(\"../data/bunny_pc.ply\")\n",
    "\n",
    "# define point cloud A and B.\n",
    "B = xyz\n",
    "A = xyz[::500]\n",
    "\n",
    "# kNN\n",
    "k = 10\n",
    "idx, dist = k_nearest_neighbors(A, B, k) # shape: (N, k)\n",
    "knn_points = gather(B, idx) # shape: (N, k, 3)\n",
    "knn_points = knn_points.reshape(len(A)*k, 3) # shape: (N*k, 3)\n",
    "\n",
    "# visualize results.\n",
    "obj_B = jv.point(B, single_color(\"#0000ff\", len(B)))\n",
    "obj_knn_points = jv.point(knn_points, single_color(\"#00ff00\", len(knn_points)))\n",
    "obj_A = jv.point(A, single_color(\"#ff0000\", len(A)))\n",
    "jv.display([obj_B, obj_knn_points, obj_A])"
   ]
  },
  {
   "cell_type": "markdown",
   "metadata": {},
   "source": [
    "上記のコードの出力では、点群A(赤)の近傍点(緑)を点群B(青)から$k$個を取得している。尚、上記例では視覚化によって赤点の下に緑点が隠れているため、上記出力では各点の近傍点の数は赤点の数+緑点の数=$k$であることに注意する必要がある。\n",
    "次に、kNNの処理を行っているk_nearest_neighbors関数の中身を以下のコードで確認する。"
   ]
  },
  {
   "cell_type": "code",
   "execution_count": 4,
   "metadata": {},
   "outputs": [
    {
     "name": "stdout",
     "output_type": "stream",
     "text": [
      "def k_nearest_neighbors(coords1: np.ndarray, coords2: np.ndarray, k: int) -> Tuple[np.ndarray, np.ndarray]:\n",
      "    \"\"\"Compute k nearest neighbors between coords1 and coords2.\n",
      "\n",
      "    Args:\n",
      "        coords1: coordinates of centroid points (N, C)\n",
      "        coords2: coordinates of all points (M, C)\n",
      "        k: number of nearest neighbors\n",
      "\n",
      "    Returns:\n",
      "        idxs: indices of k nearest neighbors (N, k)\n",
      "        square distances: square distance for kNN (N, k)\n",
      "    \"\"\"\n",
      "\n",
      "    # compute distances between coords1 and coords2.\n",
      "    point_pairwise_distances = square_distance(coords1, coords2) # shape: (N, M)\n",
      "\n",
      "    # sort the distances between two points in order of closeness and get top-k indices.\n",
      "    idxs = np.argsort(point_pairwise_distances, axis=-1)[:, :k] # shape: (N, k)\n",
      "\n",
      "    # get the distance between two points according to the top-k indices.\n",
      "    square_dists = np.take_along_axis(point_pairwise_distances, idxs, axis=-1) # shape: (N, k)\n",
      "\n",
      "    return idxs, square_dists\n",
      "\n"
     ]
    }
   ],
   "source": [
    "print(inspect.getsource(k_nearest_neighbors))"
   ]
  },
  {
   "cell_type": "markdown",
   "metadata": {},
   "source": [
    "上記実装をコメントで各段分けて、`処理内容(コメント): 補足`の形式で示す(より細かい説明もしくは補足は段落を下げて示す)。\n",
    "\n",
    "$N$個の点を含む点群`coords1`と$M$個の点を含む点群`coords2`、近傍点の数$k$を引数とする(上記の説明では、`coords1`が点群A、`coords2`が点群Bに相当)。返り値が近傍点の配列、近傍点との距離を入れた配列である場合、以下の処理がなされる。\n",
    "\n",
    "1. `compute distances between coords1 and coords2.`: 近傍点をソートで求めるため、`coords1`の各点と`coords2`の各点の相対距離を計算。\n",
    "2. `sort the distances between two points in order of closeness and get top-k index array.`: インデックスは`coords2`の点群のインデックスである。\n",
    "3. (option) `# get the distance between two points according to the top-k indices.`: 相対距離をkNN後の処理で利用することがあるため、本実装ではこの様な処理をとっている。\n"
   ]
  },
  {
   "cell_type": "markdown",
   "metadata": {},
   "source": [
    "## Radius Nearest Neighbor\n",
    "Radius nearest neighborsは点からの距離がしきい値$r$未満の近傍点を探すNNSである。チュートリアルコードでは、(1)点群Aの各点の近傍点を点群Bから探して近傍点のインデックス配列を作成し、(2)点間距離がしきい値$r$未満の近傍点であることを示すマスクを取得できる。\n",
    "\n",
    "本subsectionで使用するコードは以下の通り。"
   ]
  },
  {
   "cell_type": "code",
   "execution_count": 5,
   "metadata": {},
   "outputs": [],
   "source": [
    "# for kNN\n",
    "import numpy as np\n",
    "from tutlibs.nns import radius_nearest_neighbors\n",
    "from tutlibs.operator import gather\n",
    "\n",
    "# for description\n",
    "from tutlibs.io import Points as io\n",
    "from tutlibs.utils import single_color\n",
    "from tutlibs.visualization import JupyterVisualizer as jv\n",
    "import inspect"
   ]
  },
  {
   "cell_type": "code",
   "execution_count": 7,
   "metadata": {},
   "outputs": [
    {
     "data": {
      "application/vnd.jupyter.widget-view+json": {
       "model_id": "a04734dd2a564d9b8a6228893e2319ac",
       "version_major": 2,
       "version_minor": 0
      },
      "text/plain": [
       "Output()"
      ]
     },
     "metadata": {},
     "output_type": "display_data"
    }
   ],
   "source": [
    "# load a point cloud data.\n",
    "xyz, _, _ = io.read(\"../data/bunny_pc.ply\")\n",
    "\n",
    "# define point cloud A and B.\n",
    "B = xyz\n",
    "A = xyz[::500]\n",
    "\n",
    "# Radius NN\n",
    "k = 64\n",
    "r = 0.05\n",
    "idx, dist, mask = radius_nearest_neighbors(A, B, r, k) # shape: (N, k)\n",
    "nn_points = gather(B, idx) # shape: (N, k, 3)\n",
    "rnn_points = nn_points[mask] # shape: (number of neighbors, 3)\n",
    "\n",
    "# visualize results.\n",
    "obj_B = jv.point(B, single_color(\"#0000ff\", len(B)))\n",
    "obj_rnn_points = jv.point(rnn_points, single_color(\"#00ff00\", len(rnn_points)))\n",
    "obj_A = jv.point(A, single_color(\"#ff0000\", len(A)))\n",
    "jv.display([obj_B, obj_rnn_points, obj_A])\n"
   ]
  },
  {
   "cell_type": "markdown",
   "metadata": {},
   "source": [
    "上記のコードの出力では、点群A(赤)の各点aは近傍点(緑)をaから距離しきい値$r$範囲内の点群B(青)から取得している。尚、上記例では視覚化によって赤点の下に緑点が隠れているため、上記出力では各点の近傍点の数は赤点の数+緑点の数=近傍点の数であることに注意する必要がある。\n",
    "次に、kNNの処理を行っているk_nearest_neighbors関数の中身を以下のコードで確認する。"
   ]
  },
  {
   "cell_type": "code",
   "execution_count": 8,
   "metadata": {},
   "outputs": [
    {
     "name": "stdout",
     "output_type": "stream",
     "text": [
      "def radius_nearest_neighbors(coords1: np.ndarray, coords2: np.ndarray, r: float, k: int = 32) -> Tuple[np.ndarray, np.ndarray, np.ndarray]:\n",
      "    \"\"\"Compute radius nearest neighbors between coords1 and coords2.\n",
      "\n",
      "    Args:\n",
      "        coords1: coordinates of centroid points (N, C)\n",
      "        coords2: coordinates of all points (M, C)\n",
      "        r: radius\n",
      "        k: number of nearest neighbors\n",
      "\n",
      "    Returns:\n",
      "        idxs: indices of k nearest neighbors (N, k)\n",
      "        square distances: square distance for kNN (N, k)\n",
      "        mask : radius mask (bool) for idxs an distance (N, k)\n",
      "    \"\"\"\n",
      "\n",
      "    # compute kNN.\n",
      "    idxs, square_dists = k_nearest_neighbors(coords1, coords2, k)\n",
      "\n",
      "    # get radius nearest neighbors mask.\n",
      "    radius_mask = square_dists < r**2\n",
      "\n",
      "    return idxs, square_dists, radius_mask\n",
      "\n"
     ]
    }
   ],
   "source": [
    "print(inspect.getsource(radius_nearest_neighbors))"
   ]
  },
  {
   "cell_type": "markdown",
   "metadata": {},
   "source": [
    "上記実装をコメントで各段分けて、`処理内容(コメント): 補足`の形式で示す(より細かい説明もしくは補足は段落を下げて示す)。\n",
    "\n",
    "$N$個の点を含む点群`coords1`と$M$個の点を含む点群`coords2`、距離しきい値`r`、近傍点の最大数$k$を引数とする(上記の説明では、`coords1`が点群A、`coords2`が点群Bに相当)。返り値が近傍点の配列、近傍点との距離を入れた配列、距離しきい値に収まっているか示すマスクである場合、以下の処理がなされる。\n",
    "\n",
    "1. `compute kNN.`: kNNを用いて近傍点のインデックスと点間の距離配列を取得する。\n",
    "2. `get radius nearest neighbors mask.`: 距離配列を用いて、`r`内に存在する点であるかを示すマスクを取得する。\n"
   ]
  },
  {
   "cell_type": "markdown",
   "metadata": {},
   "source": []
  }
 ],
 "metadata": {
  "interpreter": {
   "hash": "d4d1e4263499bec80672ea0156c357c1ee493ec2b1c70f0acce89fc37c4a6abe"
  },
  "kernelspec": {
   "display_name": "Python 3.7.10 64-bit ('base': conda)",
   "name": "python3"
  },
  "language_info": {
   "codemirror_mode": {
    "name": "ipython",
    "version": 3
   },
   "file_extension": ".py",
   "mimetype": "text/x-python",
   "name": "python",
   "nbconvert_exporter": "python",
   "pygments_lexer": "ipython3",
   "version": "3.8.12"
  },
  "orig_nbformat": 4
 },
 "nbformat": 4,
 "nbformat_minor": 2
}
