{
 "cells": [
  {
   "cell_type": "markdown",
   "metadata": {},
   "source": [
    "# Nearest neighbor search (NNS)\n",
    "\n",
    "## k Nearest Neighbor (kNN)\n",
    "kNNは3次元空間上の点群に対して使用することがあります。3次元座標値を持つ点群に対してkNNを使用した場合、点群中のある点aに近いk個の点を特定することができます。これにより、aの周りにある点の値を参照して特徴量の生成や畳み込み処理などを行うことができる様になります。\n",
    "\n",
    "ここで実装されているkNNは以下のプロセスを実行します。\n",
    "\n",
    "1. N個の点群AとM個の点群Bから、互いの点ごとの相対距離を取得します。相対距離は、(N, M)の配列で表されます。\n",
    "    1. 当然、AとBの点群が同じである場合もあります。AがN個の点を持ちなおかつA=Bの場合は、配列は(N, N)の形となり、距離行列と同じものとなります。\n",
    "2. 1の行列に基づき、Aの各点において、自身の点から近いBの点をk個取得します。結果として(N, k)のインデックス配列を得ることができます。インデックスは、Bの点群のインデックスです。\n",
    "    1. 以下の実装では、インデックス配列と相対距離の配列を返します。\n",
    "\n",
    "ひとまず、実際にkNNがどの様に機能するか確認してみましょう。以下は本subsectionで使うパッケージです。"
   ]
  },
  {
   "cell_type": "code",
   "execution_count": 1,
   "metadata": {},
   "outputs": [
    {
     "name": "stdout",
     "output_type": "stream",
     "text": [
      "Jupyter environment detected. Enabling Open3D WebVisualizer.\n",
      "[Open3D INFO] WebRTC GUI backend enabled.\n",
      "[Open3D INFO] WebRTCWindowSystem: HTTP handshake server disabled.\n"
     ]
    },
    {
     "name": "stderr",
     "output_type": "stream",
     "text": [
      "INFO - 2021-09-19 14:22:45,964 - utils - Note: NumExpr detected 16 cores but \"NUMEXPR_MAX_THREADS\" not set, so enforcing safe limit of 8.\n",
      "INFO - 2021-09-19 14:22:45,964 - utils - NumExpr defaulting to 8 threads.\n"
     ]
    }
   ],
   "source": [
    "# for kNN\n",
    "import numpy as np\n",
    "from tutlibs.nns import k_nearest_neighbors\n",
    "from tutlibs.utils import grouping\n",
    "\n",
    "# for description\n",
    "from tutlibs.io import Points as io\n",
    "from tutlibs.visualization import Points as visualizer"
   ]
  },
  {
   "cell_type": "markdown",
   "metadata": {},
   "source": [
    "はじめに、点群Bから一部サンプリングした点を点群Aとして扱います。"
   ]
  },
  {
   "cell_type": "code",
   "execution_count": 2,
   "metadata": {},
   "outputs": [
    {
     "data": {
      "application/vnd.jupyter.widget-view+json": {
       "model_id": "87d35f9ef71b4058bcae7dc42c2f818f",
       "version_major": 2,
       "version_minor": 0
      },
      "text/plain": [
       "Output()"
      ]
     },
     "metadata": {},
     "output_type": "display_data"
    }
   ],
   "source": [
    "# a point cloud\n",
    "B, _, _ = io.read('../data/bunny_pc.ply')\n",
    "B_colors = np.tile(np.array([[0, 0, 1]]), (len(B), 1))\n",
    "\n",
    "# sampling\n",
    "A = B[::500]\n",
    "A_colors = np.tile(np.array([[1, 0, 0]]), (len(A), 1))\n",
    "\n",
    "# visualization\n",
    "visualizer.k3d(np.vstack([B, A]), np.vstack([B_colors, A_colors]), point_size=0.02)"
   ]
  },
  {
   "cell_type": "markdown",
   "metadata": {},
   "source": [
    "次に、Aの各点から見たBのk近傍を表示します。"
   ]
  },
  {
   "cell_type": "code",
   "execution_count": null,
   "metadata": {},
   "outputs": [
    {
     "data": {
      "application/vnd.jupyter.widget-view+json": {
       "model_id": "0de032b462484af5bfd44d751baf79b8",
       "version_major": 2,
       "version_minor": 0
      },
      "text/plain": [
       "Output()"
      ]
     },
     "metadata": {},
     "output_type": "display_data"
    }
   ],
   "source": [
    "k = 10\n",
    "idx, dist = k_nearest_neighbors(A, B, k)\n",
    "knn_points = grouping(B, idx)\n",
    "knn_points = knn_points.reshape(len(A)*k, 3)\n",
    "knn_colors = np.tile(np.array([[0, 1, 0]]), (len(knn_points), 1))\n",
    "visualizer.k3d(np.vstack([B, knn_points, A]), np.vstack([B_colors, knn_colors, A_colors]), point_size=0.02)\n"
   ]
  },
  {
   "cell_type": "markdown",
   "metadata": {},
   "source": [
    "## Radius Nearest Neighbor\n",
    "\n",
    "使用するパッケージは以下のとおりです。"
   ]
  },
  {
   "cell_type": "code",
   "execution_count": 1,
   "metadata": {},
   "outputs": [
    {
     "name": "stdout",
     "output_type": "stream",
     "text": [
      "Jupyter environment detected. Enabling Open3D WebVisualizer.\n",
      "[Open3D INFO] WebRTC GUI backend enabled.\n",
      "[Open3D INFO] WebRTCWindowSystem: HTTP handshake server disabled.\n"
     ]
    },
    {
     "name": "stderr",
     "output_type": "stream",
     "text": [
      "INFO - 2021-09-18 13:54:05,669 - utils - Note: NumExpr detected 16 cores but \"NUMEXPR_MAX_THREADS\" not set, so enforcing safe limit of 8.\n",
      "INFO - 2021-09-18 13:54:05,669 - utils - NumExpr defaulting to 8 threads.\n"
     ]
    }
   ],
   "source": [
    "import numpy as np\n",
    "from tutlibs.nns import radius_nearest_neighbors\n",
    "from tutlibs.utils import grouping\n",
    "from tutlibs.io import Points as io\n",
    "from tutlibs.visualization import Points as visualizer"
   ]
  },
  {
   "cell_type": "markdown",
   "metadata": {},
   "source": [
    "コードは以下のとおりです。"
   ]
  },
  {
   "cell_type": "code",
   "execution_count": 2,
   "metadata": {},
   "outputs": [
    {
     "data": {
      "application/vnd.jupyter.widget-view+json": {
       "model_id": "e7b060ff17a6447e9bfacc6f9240cc68",
       "version_major": 2,
       "version_minor": 0
      },
      "text/plain": [
       "Output()"
      ]
     },
     "metadata": {},
     "output_type": "display_data"
    }
   ],
   "source": [
    "# a point cloud\n",
    "B, _, _ = io.read('../data/bunny_pc.ply')\n",
    "B_colors = np.tile(np.array([[0, 0, 1]]), (len(B), 1))\n",
    "\n",
    "# sampling\n",
    "A = B[::500]\n",
    "A_colors = np.tile(np.array([[1, 0, 0]]), (len(A), 1))\n",
    "\n",
    "# visualization\n",
    "visualizer.k3d(np.vstack([B, A]), np.vstack([B_colors, A_colors]), point_size=0.02)"
   ]
  },
  {
   "cell_type": "code",
   "execution_count": null,
   "metadata": {},
   "outputs": [
    {
     "data": {
      "application/vnd.jupyter.widget-view+json": {
       "model_id": "3bee922820f14e8c92552e47a276bb35",
       "version_major": 2,
       "version_minor": 0
      },
      "text/plain": [
       "Output()"
      ]
     },
     "metadata": {},
     "output_type": "display_data"
    }
   ],
   "source": [
    "k = 10\n",
    "r = 0.005\n",
    "\n",
    "# Get knn indexs and radius nearest neighbor mask\n",
    "idxs, min_dists, radius_masks = radius_nearest_neighbors(A, B, r, k)\n",
    "knn_points = grouping(B, idxs)\n",
    "\n",
    "# Get radius nearest neighbor (rnn) points using radius mask\n",
    "num_all_rnn = np.sum(radius_masks)\n",
    "rnn_points = knn_points[radius_masks] # shape: (N, k, C) -> (num_all_rnn, C)\n",
    "rnn_colors = np.tile(np.array([[0, 1, 0]]), (len(rnn_points), 1))\n",
    "\n",
    "visualizer.k3d(np.vstack([B, rnn_points, A]), np.vstack([B_colors, rnn_colors, A_colors]), point_size=0.02)\n"
   ]
  },
  {
   "cell_type": "markdown",
   "metadata": {},
   "source": []
  }
 ],
 "metadata": {
  "interpreter": {
   "hash": "d4d1e4263499bec80672ea0156c357c1ee493ec2b1c70f0acce89fc37c4a6abe"
  },
  "kernelspec": {
   "display_name": "Python 3.7.10 64-bit ('base': conda)",
   "name": "python3"
  },
  "language_info": {
   "codemirror_mode": {
    "name": "ipython",
    "version": 3
   },
   "file_extension": ".py",
   "mimetype": "text/x-python",
   "name": "python",
   "nbconvert_exporter": "python",
   "pygments_lexer": "ipython3",
   "version": "3.7.10"
  },
  "orig_nbformat": 4
 },
 "nbformat": 4,
 "nbformat_minor": 2
}
