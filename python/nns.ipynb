{
 "cells": [
  {
   "cell_type": "markdown",
   "metadata": {},
   "source": [
    "# Nearest neighbor search (NNS)\n",
    "NNS can find neighbor points in a point cloud that are close in distance to a query (any coordinate) on 3D space. NNS is very important because in a point cloud processing, each point often obtains information from neighbors. Examples are the following.\n",
    "- When computing the handcrafted features, normals, etc. of a point according to neighbors, we use NNS to find neighbors.\n",
    "- In deep learning models, NNS is used to input the features of neighbors of a point to the convolution module.\n",
    "\n",
    "This section introduce the following NNS methods. \n",
    "- kNN (k Nearest Neighbor)\n",
    "- Radius Nearest Neighbor\n",
    "- Radius and k Nearest Neighbor\n",
    "- kNN with KDTree\n"
   ]
  },
  {
   "cell_type": "code",
   "execution_count": 1,
   "metadata": {},
   "outputs": [],
   "source": [
    "%load_ext autoreload\n",
    "%autoreload 2\n"
   ]
  },
  {
   "cell_type": "markdown",
   "metadata": {},
   "source": [
    "## kNN (k Nearest Neighbor)\n",
    "kNN finds $k$ nearest neighbor points in a point cloud that are close in distance to a query.\n",
    "\n",
    "This subsection use the following code:"
   ]
  },
  {
   "cell_type": "code",
   "execution_count": 2,
   "metadata": {},
   "outputs": [
    {
     "name": "stdout",
     "output_type": "stream",
     "text": [
      "Jupyter environment detected. Enabling Open3D WebVisualizer.\n",
      "[Open3D INFO] WebRTC GUI backend enabled.\n",
      "[Open3D INFO] WebRTCWindowSystem: HTTP handshake server disabled.\n"
     ]
    }
   ],
   "source": [
    "# for kNN\n",
    "from tutlibs.nns import k_nearest_neighbors\n",
    "\n",
    "# for description\n",
    "from tutlibs.io import Points as io\n",
    "from tutlibs.utils import single_color\n",
    "from tutlibs.visualization import JupyterVisualizer as jv\n",
    "import inspect\n"
   ]
  },
  {
   "cell_type": "code",
   "execution_count": 7,
   "metadata": {},
   "outputs": [
    {
     "data": {
      "application/vnd.jupyter.widget-view+json": {
       "model_id": "782b9dbc9f204bf1bf7ae91bc6411231",
       "version_major": 2,
       "version_minor": 0
      },
      "text/plain": [
       "Output()"
      ]
     },
     "metadata": {},
     "output_type": "display_data"
    }
   ],
   "source": [
    "# load a point cloud data.\n",
    "coords, _, _ = io.read(\"../data/bunny_pc.ply\")\n",
    "\n",
    "# define queries.\n",
    "queries = coords[::500]\n",
    "\n",
    "# kNN\n",
    "k = 10\n",
    "idx, dist = k_nearest_neighbors(queries, coords, k)  # (N, k)\n",
    "# you can access to neighbors of each query (ex: coords[idx[query_index]]),\n",
    "# but this example places neighbor coordinates in a row for visualization.\n",
    "nn_coords = coords[idx].reshape(-1, 3)  # (all_neighbors, 3)\n",
    "\n",
    "# visualize results.\n",
    "obj_queries = jv.point(queries, single_color(\"#ff0000\", len(queries)))\n",
    "obj_nn_points = jv.point(nn_coords, single_color(\"#00ff00\", len(nn_coords)))\n",
    "obj_points = jv.point(coords, single_color(\"#0000ff\", len(coords)))\n",
    "jv.display([obj_points, obj_nn_points, obj_queries])\n"
   ]
  },
  {
   "cell_type": "markdown",
   "metadata": {},
   "source": [
    "The above output shows $k$ neighbors (green) in a point cloud (blue). Red points are queries. This implementation can find $k$ neighbors for each query.  \n",
    "**Note**: in the above visualizer, the green points are hidden under the red points, so the number of neighborhoods is the number of red points + the number of green points = $k$.\n",
    "\n",
    "Next, we look at the contents of the `k_nearest_neighbors` function."
   ]
  },
  {
   "cell_type": "code",
   "execution_count": 12,
   "metadata": {},
   "outputs": [
    {
     "name": "stdout",
     "output_type": "stream",
     "text": [
      "def k_nearest_neighbors(\n",
      "    coords1: np.ndarray, coords2: np.ndarray, k: int\n",
      ") -> Tuple[np.ndarray, np.ndarray]:\n",
      "    \"\"\"Compute k nearest neighbors between coords1 and coords2.\n",
      "\n",
      "    Args:\n",
      "        coords1: coordinates of centroid points (N, C)\n",
      "        coords2: coordinates of all points (M, C)\n",
      "        k: number of nearest neighbors\n",
      "\n",
      "    Returns:\n",
      "        idxs: indices of k nearest neighbors (N, k)\n",
      "        square distances: square distance for kNN (N, k)\n",
      "    \"\"\"\n",
      "\n",
      "    # compute distances between coords1 and coords2.\n",
      "    point_pairwise_distances = square_distance(\n",
      "        coords1, coords2\n",
      "    )  # ((N, 3), (M, 3)) -> (N, M)\n",
      "\n",
      "    # sort the distances between two points in order of closeness and get top-k indices.\n",
      "    idxs = np.argsort(point_pairwise_distances, axis=-1)[:, :k]  # (N, M) -> (N, k)\n",
      "\n",
      "    # get the distance between two points according to the top-k indices.\n",
      "    square_dists = np.take_along_axis(\n",
      "        point_pairwise_distances, idxs, axis=-1\n",
      "    )  # ((N, M), (N, k)) -> (N, k)\n",
      "\n",
      "    return idxs, square_dists\n",
      "\n"
     ]
    }
   ],
   "source": [
    "print(inspect.getsource(k_nearest_neighbors))\n"
   ]
  },
  {
   "cell_type": "markdown",
   "metadata": {},
   "source": [
    "In the above implementation, `k_nearest_neighbors` returns sample indices of a point cloud. `k_nearest_neighbors` process is as follows:\n",
    "\n",
    "1. Computes relative distances between points and queries.\n",
    "2. Sort relative distances to get top-$k$ neighbor indices.\n",
    "3. Get $k$ square distances from $k$ neighbor indices.\n"
   ]
  },
  {
   "cell_type": "markdown",
   "metadata": {},
   "source": [
    "## Radius Nearest Neighbor\n",
    "Radius Nearest Neighbor finds neighbor points in a point cloud within a radius from a query.\n",
    "\n",
    "This subsection use the following code:"
   ]
  },
  {
   "cell_type": "code",
   "execution_count": 8,
   "metadata": {},
   "outputs": [],
   "source": [
    "# for radius nearest neighbor\n",
    "import numpy as np\n",
    "from tutlibs.nns import radius_nearest_neighbors\n",
    "\n",
    "# for description\n",
    "from tutlibs.io import Points as io\n",
    "from tutlibs.utils import single_color\n",
    "from tutlibs.visualization import JupyterVisualizer as jv\n",
    "import inspect\n"
   ]
  },
  {
   "cell_type": "code",
   "execution_count": 9,
   "metadata": {},
   "outputs": [
    {
     "data": {
      "application/vnd.jupyter.widget-view+json": {
       "model_id": "42b04617a5f441a3908da993783b624a",
       "version_major": 2,
       "version_minor": 0
      },
      "text/plain": [
       "Output()"
      ]
     },
     "metadata": {},
     "output_type": "display_data"
    }
   ],
   "source": [
    "# load a point cloud data.\n",
    "coords, _, _ = io.read(\"../data/bunny_pc.ply\")\n",
    "\n",
    "# define point cloud A and B.\n",
    "queries = coords[::500]\n",
    "\n",
    "# Radius NN\n",
    "r = 0.05\n",
    "idx, dist = radius_nearest_neighbors(queries, coords, r)\n",
    "# you can access to neighbors of each query (ex: coords[idx[query_index]]),\n",
    "# but this example concatenates neighbor indices for visualization.\n",
    "nn_coords = coords[np.concatenate(idx)]\n",
    "\n",
    "# visualize results.\n",
    "obj_points = jv.point(coords, single_color(\"#0000ff\", len(coords)))\n",
    "obj_nn_points = jv.point(nn_coords, single_color(\"#00ff00\", len(nn_coords)))\n",
    "obj_queries = jv.point(queries, single_color(\"#ff0000\", len(queries)))\n",
    "jv.display([obj_points, obj_nn_points, obj_queries])\n"
   ]
  },
  {
   "cell_type": "markdown",
   "metadata": {},
   "source": [
    "The above output shows neighbors (green) within a radius in a point cloud (blue). Red points are queries. This implementation can find $k$ neighbors for each query. The number of neighbors is different for each centeroid point, so this function returns lists of neighbors within a radius.  \n",
    "**Note**: in the above visualizer, the green points are hidden under the red points.\n",
    "\n",
    "Next, we look at the contents of the `radius_nearest_neighbors` function.\n"
   ]
  },
  {
   "cell_type": "code",
   "execution_count": 10,
   "metadata": {},
   "outputs": [
    {
     "name": "stdout",
     "output_type": "stream",
     "text": [
      "def radius_nearest_neighbors(\n",
      "    coords1: np.ndarray, coords2: np.ndarray, r: float\n",
      ") -> Tuple[List[np.ndarray], List[np.ndarray]]:\n",
      "    \"\"\"Compute radius nearest neighbors between coords1 and coords2.\n",
      "    The number of neighbors is different for each centeroid point, so return list data.\n",
      "\n",
      "    Args:\n",
      "        coords1: coordinates of centroid points (N, C)\n",
      "        coords2: coordinates of all points (M, C)\n",
      "        r: radius\n",
      "\n",
      "    Returns:\n",
      "        idxs: indices of neighbors within a radius\n",
      "        square distances: square distance between pairwise points\n",
      "    \"\"\"\n",
      "\n",
      "    # compute nearest neighbors.\n",
      "    idxs, square_dists = k_nearest_neighbors(coords1, coords2, len(coords2))\n",
      "\n",
      "    # get radius nearest neighbors masks.\n",
      "    radius_masks = square_dists < r ** 2\n",
      "\n",
      "    # get nearest neighbors according to masks\n",
      "    radius_neighbor_indices = []\n",
      "    radius_neighbor_square_dists = []\n",
      "    for i, radius_mask in enumerate(radius_masks):\n",
      "        radius_neighbor_indices.append(idxs[i, radius_mask])\n",
      "        radius_neighbor_square_dists.append(square_dists[i, radius_mask])\n",
      "\n",
      "    return radius_neighbor_indices, radius_neighbor_square_dists\n",
      "\n"
     ]
    }
   ],
   "source": [
    "print(inspect.getsource(radius_nearest_neighbors))\n"
   ]
  },
  {
   "cell_type": "markdown",
   "metadata": {},
   "source": [
    "In the above implementation, `radius_nearest_neighbors` returns sample indices of a point cloud. `radius_nearest_neighbors` process is as follows:\n",
    "1. Compute sorted all neighbors in a point cloud.\n",
    "2. Get masks indicating whether the point is within the radius.\n",
    "3. Create radius neighbor list from masks\n"
   ]
  },
  {
   "cell_type": "markdown",
   "metadata": {},
   "source": [
    "## Radius and k Nearest Neighbor\n",
    "Radius Nearest Neighbor finds neighbor points in a point cloud within a radius from a query.\n",
    "\n",
    "This subsection use the following code:"
   ]
  },
  {
   "cell_type": "code",
   "execution_count": 7,
   "metadata": {},
   "outputs": [],
   "source": [
    "# for kNN\n",
    "import numpy as np\n",
    "from tutlibs.nns import radius_and_k_nearest_neighbors\n",
    "\n",
    "# for description\n",
    "from tutlibs.io import Points as io\n",
    "from tutlibs.utils import single_color\n",
    "from tutlibs.visualization import JupyterVisualizer as jv\n",
    "import inspect\n"
   ]
  },
  {
   "cell_type": "code",
   "execution_count": 8,
   "metadata": {},
   "outputs": [
    {
     "data": {
      "application/vnd.jupyter.widget-view+json": {
       "model_id": "1844ae151fed41958346f7f32ebc58e1",
       "version_major": 2,
       "version_minor": 0
      },
      "text/plain": [
       "Output()"
      ]
     },
     "metadata": {},
     "output_type": "display_data"
    }
   ],
   "source": [
    "# load a point cloud data.\n",
    "coords, _, _ = io.read(\"../data/bunny_pc.ply\")\n",
    "\n",
    "# define point cloud A and B.\n",
    "queries = coords[::500]\n",
    "\n",
    "# Radius NN\n",
    "k = 64\n",
    "r = 0.05\n",
    "idx, dist = radius_and_k_nearest_neighbors(queries, coords, r, k)\n",
    "nn_coords = coords[idx[idx != len(coords)]]\n",
    "\n",
    "# visualize results.\n",
    "obj_points = jv.point(coords, single_color(\"#0000ff\", len(coords)))\n",
    "obj_nn_points = jv.point(nn_coords, single_color(\"#00ff00\", len(nn_coords)))\n",
    "obj_queries = jv.point(queries, single_color(\"#ff0000\", len(queries)))\n",
    "jv.display([obj_points, obj_nn_points, obj_queries])\n"
   ]
  },
  {
   "cell_type": "markdown",
   "metadata": {},
   "source": [
    "The above output shows neighbors (green) within a radius in a point cloud (blue). Red points are queries. This implementation can find $k$ neighbors for each query. If the number of neighbors is less than $k$, the number of points is assigned to indices.  \n",
    "**Note**: in the above visualizer, the green points are hidden under the red points.\n",
    "\n",
    "Next, we look at the contents of the `radius_and_k_nearest_neighbors` function.\n"
   ]
  },
  {
   "cell_type": "code",
   "execution_count": 9,
   "metadata": {},
   "outputs": [
    {
     "name": "stdout",
     "output_type": "stream",
     "text": [
      "def radius_and_k_nearest_neighbors(\n",
      "    coords1: np.ndarray, coords2: np.ndarray, r: float, k: int = 32\n",
      ") -> Tuple[np.ndarray, np.ndarray]:\n",
      "    \"\"\"Compute radius and k nearest neighbors between coords1 and coords2.\n",
      "\n",
      "    Args:\n",
      "        coords1: coordinates of centroid points (N, C)\n",
      "        coords2: coordinates of all points (M, C)\n",
      "        r: radius\n",
      "        k: number of nearest neighbors\n",
      "\n",
      "    Returns:\n",
      "        idxs: indices of neighbors (N, k)\n",
      "        square distances: square distance between pairwise points (N, k)\n",
      "    \"\"\"\n",
      "\n",
      "    # compute kNN.\n",
      "    idxs, square_dists = k_nearest_neighbors(coords1, coords2, k)\n",
      "\n",
      "    # get radius nearest neighbors mask.\n",
      "    radius_masks = square_dists < r ** 2\n",
      "\n",
      "    # radius mask\n",
      "    idxs[radius_masks == False] = len(coords2)\n",
      "    square_dists[radius_masks == False] = -1\n",
      "\n",
      "    return idxs, square_dists\n",
      "\n"
     ]
    }
   ],
   "source": [
    "print(inspect.getsource(radius_and_k_nearest_neighbors))\n"
   ]
  },
  {
   "cell_type": "markdown",
   "metadata": {},
   "source": [
    "In the above implementation, `radius_and_k_nearest_neighbors` returns sample indices of a point cloud. `radius_and_k_nearest_neighbors` process is as follows:\n",
    "1. Compute sorted $k$ neighbors in a point cloud.\n",
    "2. Get masks indicating whether the point is within the radius.\n",
    "3. Assigne ignore indices and distances according to masks\n"
   ]
  },
  {
   "cell_type": "markdown",
   "metadata": {},
   "source": [
    "## kNN with KDTree\n",
    "TODO: add implementation"
   ]
  }
 ],
 "metadata": {
  "interpreter": {
   "hash": "d4d1e4263499bec80672ea0156c357c1ee493ec2b1c70f0acce89fc37c4a6abe"
  },
  "kernelspec": {
   "display_name": "Python 3.7.10 64-bit ('base': conda)",
   "name": "python3"
  },
  "language_info": {
   "codemirror_mode": {
    "name": "ipython",
    "version": 3
   },
   "file_extension": ".py",
   "mimetype": "text/x-python",
   "name": "python",
   "nbconvert_exporter": "python",
   "pygments_lexer": "ipython3",
   "version": "3.8.11"
  },
  "orig_nbformat": 4
 },
 "nbformat": 4,
 "nbformat_minor": 2
}
