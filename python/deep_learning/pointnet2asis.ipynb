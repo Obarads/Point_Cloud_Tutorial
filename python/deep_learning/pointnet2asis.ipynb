{
 "cells": [
  {
   "attachments": {},
   "cell_type": "markdown",
   "metadata": {},
   "source": [
    "# PointNet++ with ASIS (Associatively Segmenting Instances and Semantics)\n",
    "## 概要\n",
    "PointNet++ with ASIS [Wang et al. 2019]は、Instance segmentationとSemantic segmentationで使われる特徴量をお互いの予測に利用し合う機構を取り付けたモデルである。著者らの新規提案そのものはASISと呼ばれるモジュールである。ASISの構造は以下の通り。\n",
    "\n",
    "![asis](img/asis.png)\n",
    "\n",
    "本資料では、S3DISデータセットを利用した場合のSemantic segmentation & Instance segmentationモデルの実装を紹介する。"
   ]
  },
  {
   "attachments": {},
   "cell_type": "markdown",
   "metadata": {},
   "source": [
    "## 処理手順\n",
    "classificationのための処理の手順は以下の通り。\n",
    "\n",
    "1. サンプリング\n",
    "2. PointNet++ (with ASIS)への入力\n",
    "3. PointNet++ (with ASIS)からの出力\n"
   ]
  },
  {
   "attachments": {},
   "cell_type": "markdown",
   "metadata": {},
   "source": [
    "## 本レポジトリ以外の実装例\n",
    "### [WXinlong/ASIS](https://github.com/WXinlong/ASIS)\n",
    "- 本家のtensorflow実装\n"
   ]
  },
  {
   "attachments": {},
   "cell_type": "markdown",
   "metadata": {},
   "source": [
    "## 前処理済みデータの用意\n"
   ]
  },
  {
   "cell_type": "code",
   "execution_count": 1,
   "metadata": {},
   "outputs": [],
   "source": [
    "%load_ext autoreload\n",
    "%autoreload 2"
   ]
  },
  {
   "cell_type": "code",
   "execution_count": null,
   "metadata": {},
   "outputs": [],
   "source": [
    "from path import add_dir_path\n",
    "add_dir_path()\n",
    "from tutlibs.torchlibs.dataset.s3dis import preprocess_s3dis\n",
    "\n",
    "preprocess_data_dir_path = \"../../data/s3dis/preprocessed_data/\"\n",
    "raw_data_dir_path = \"../../data/s3dis/Stanford3dDataset_v1.2_Aligned_Version/\"\n",
    "preprocess_s3dis(raw_data_dir_path, preprocess_data_dir_path, 1.0, 0.5, 4096, 100)"
   ]
  },
  {
   "attachments": {},
   "cell_type": "markdown",
   "metadata": {},
   "source": [
    "## 訓練\n",
    "PointNetを用いた訓練は以下のpointnet.pyを介して実行できる。尚、以下のコードを本ファイルに書き込まない理由は、Jupyter上でのGPUのメモリ解放が厄介であるためである。"
   ]
  },
  {
   "cell_type": "code",
   "execution_count": null,
   "metadata": {},
   "outputs": [],
   "source": [
    "!python pointnet2asis.py --mode train --device 0 --output_dir_path outputs/pointnet2asis/ --dataset_dir_path ../../data/s3dis/preprocessed_data/"
   ]
  },
  {
   "attachments": {},
   "cell_type": "markdown",
   "metadata": {},
   "source": [
    "## テスト\n",
    "PointNetを用いたテストは以下のpointnet.pyを介して実行できる。尚、以下のコードを本ファイルに書き込まない理由は、Jupyter上でのGPUのメモリ解放が厄介であるためである。\n"
   ]
  },
  {
   "cell_type": "code",
   "execution_count": null,
   "metadata": {},
   "outputs": [],
   "source": [
    "# !python pointnet2asis.py --mode=test --device=0 --output_dir_path=outputs/pointnet/ --dataset_dir_path=../../data/modelnet40_ply_hdf5_2048/ --test_model_file_path=outputs/pointnet/model.pth"
   ]
  },
  {
   "attachments": {},
   "cell_type": "markdown",
   "metadata": {},
   "source": [
    "## References\n",
    "- Wang, Xinlong, Shu Liu, Xiaoyong Shen, Chunhua Shen, and Jiaya Jia. 2019. “Associatively Segmenting Instances and Semantics in Point Clouds.” arXiv [cs.CV]. arXiv. http://arxiv.org/abs/1902.09852.\n",
    "- Qi, Charles R., Li Yi, Hao Su, and Leonidas J. Guibas. 2017. “PointNet++: Deep Hierarchical Feature Learning on Point Sets in a Metric Space.” arXiv [cs.CV]. arXiv. http://arxiv.org/abs/1706.02413.\n",
    "- Armeni, Iro, Ozan Sener, Amir R. Zamir, Helen Jiang, Ioannis Brilakis, Martin Fischer, and Silvio Savarese. 2016. “3D Semantic Parsing of Large-Scale Indoor Spaces.” In 2016 IEEE Conference on Computer Vision and Pattern Recognition (CVPR). IEEE. https://doi.org/10.1109/cvpr.2016.170."
   ]
  },
  {
   "attachments": {},
   "cell_type": "markdown",
   "metadata": {},
   "source": []
  }
 ],
 "metadata": {
  "kernelspec": {
   "display_name": ".venv",
   "language": "python",
   "name": "python3"
  },
  "language_info": {
   "codemirror_mode": {
    "name": "ipython",
    "version": 3
   },
   "file_extension": ".py",
   "mimetype": "text/x-python",
   "name": "python",
   "nbconvert_exporter": "python",
   "pygments_lexer": "ipython3",
   "version": "3.10.9"
  },
  "orig_nbformat": 4,
  "vscode": {
   "interpreter": {
    "hash": "6490653605edd79c792c2849986d45a7648e4785b828f3463234ddfef51145fa"
   }
  }
 },
 "nbformat": 4,
 "nbformat_minor": 2
}
