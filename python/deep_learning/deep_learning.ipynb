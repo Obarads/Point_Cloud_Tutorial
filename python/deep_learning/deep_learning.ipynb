{
 "cells": [
  {
   "cell_type": "markdown",
   "metadata": {},
   "source": [
    "# Deep Learning\n",
    "本章では、点群に対する深層学習手法について紹介します。Deep learning is a method of learning optimal features from given data. This method has some limitations, such as the need to prepare data that matches the target task, but if the limitations can be met, it has the potential to achieve better results than other methods. For this reason, methods using this deep learning approach have been actively researched in recent years. \n",
    "点群に対する深層学習手法はクラス分類やセグメンテーション等様々なタスクに対して提案されています。以下の様に、これらの点群の深層学習手法の根幹は、画像に対する深層学習手法等と似ていることが多いです。ただし、画像等と比べて点群が決まった構造を持たない表現であるため、前処理や深層学習のモデルが点群特有である場合があります。本章では、点群深層学習で一般的なタスクであるクラス分類タスクに基づいた深層学習モデルの紹介を行います。\n",
    "\n",
    "本章では、代表的で実装が比較的簡単な手法を紹介します。紹介する手法は以下の通りです。\n",
    "\n",
    "- [VoxNet](voxnet.ipynb)\n",
    "- [PointNet](pointnet.ipynb)\n",
    "- [PointNet++](pointnet2.ipynb)"
   ]
  },
  {
   "cell_type": "markdown",
   "metadata": {},
   "source": [
    "## References\n",
    "- Maturana, Daniel, and Sebastian Scherer. 2015. “VoxNet: A 3D Convolutional Neural Network for Real-Time Object Recognition.” In 2015 IEEE/RSJ International Conference on Intelligent Robots and Systems (IROS). IEEE. https://doi.org/10.1109/iros.2015.7353481.\n",
    "- Qi, Charles R., Hao Su, Kaichun Mo, and Leonidas J. Guibas. 2017. “Pointnet: Deep Learning on Point Sets for 3d Classification and Segmentation.” In Proceedings of the IEEE Conference on Computer Vision and Pattern Recognition, 652–60.\n",
    "- Qi, Charles R., Li Yi, Hao Su, and Leonidas J. Guibas. 2017. “PointNet++: Deep Hierarchical Feature Learning on Point Sets in a Metric Space.” arXiv [cs.CV]. arXiv. http://arxiv.org/abs/1706.02413.\n"
   ]
  },
  {
   "cell_type": "markdown",
   "metadata": {},
   "source": []
  }
 ],
 "metadata": {
  "kernelspec": {
   "display_name": "Python 3.7.11 ('base')",
   "language": "python",
   "name": "python3"
  },
  "language_info": {
   "codemirror_mode": {
    "name": "ipython",
    "version": 3
   },
   "file_extension": ".py",
   "mimetype": "text/x-python",
   "name": "python",
   "nbconvert_exporter": "python",
   "pygments_lexer": "ipython3",
   "version": "3.7.11"
  },
  "vscode": {
   "interpreter": {
    "hash": "d4d1e4263499bec80672ea0156c357c1ee493ec2b1c70f0acce89fc37c4a6abe"
   }
  }
 },
 "nbformat": 4,
 "nbformat_minor": 2
}
