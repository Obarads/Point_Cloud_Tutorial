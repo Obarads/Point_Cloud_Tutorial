{
 "cells": [
  {
   "cell_type": "markdown",
   "metadata": {},
   "source": [
    "# VoxNet\n",
    "VoxNetは占有モデルを入力とするネットワークです。VoxNetでは点群を占有モデルへ変換し、その占有モデルに基づいてクラス分類を行うことができます。アーキテクチャは以下の通りです。\n",
    "\n",
    "![voxnet](img/voxnet.png)\n",
    "\n",
    "Point Cloud -> Occupancy Gridは専有モデルへの変換、Conv(f; d; s)はf filters of size d and at stride sである3D畳み込み層, Pool(m)はpooling層、Full(n)はn出力のfully connected layerを示す。\n",
    "\n",
    "この手法の利点は以下の通りです。\n",
    "\n",
    "- **3DCNNsの利用**: グリッドに沿った表現である占有モデルを利用するため、2DCNNsを拡張した3DCNNsを点群等の立体的な表現へ適用することが可能となります。これにより、2DCNNsの手法の応用が容易となります。\n",
    "- **効率的な計算**: グリッドに沿って近傍情報の畳み込みを行うことが可能となる。グリッドに沿った畳み込みを行わない場合、kNN等を利用して近い点を探す必要があり、処理時間が増える可能性が高い。ダウンサンプリング処理もグリッドに沿って効率的に可能である。\n",
    "\n",
    "本資料では、Classificationモデルの実装を紹介する。VoxNetを用いた訓練は以下のvoxnet.pyを介して実行できる。尚、以下のコードを本ファイルに書き込まない理由は、Jupyter上でのGPUのメモリ解放が厄介であるためである。"
   ]
  },
  {
   "cell_type": "code",
   "execution_count": null,
   "metadata": {},
   "outputs": [],
   "source": [
    "!python voxnet.py --mode=train --device=0 --output_dir_path=outputs/voxnet/ --dataset_dir_path=../../data/3dshapenetscode/"
   ]
  },
  {
   "cell_type": "markdown",
   "metadata": {},
   "source": [
    "テストは以下の通り。"
   ]
  },
  {
   "cell_type": "code",
   "execution_count": null,
   "metadata": {},
   "outputs": [],
   "source": [
    "!python voxnet.py --mode=test --device=0 --output_dir_path=outputs/voxnet/ --dataset_dir_path=../../data/3dshapenetscode/ --test_model_file_path=outputs/voxnet/model.pth"
   ]
  },
  {
   "cell_type": "markdown",
   "metadata": {},
   "source": [
    "## References\n",
    "- Maturana, Daniel, and Sebastian Scherer. 2015. “VoxNet: A 3D Convolutional Neural Network for Real-Time Object Recognition.” In 2015 IEEE/RSJ International Conference on Intelligent Robots and Systems (IROS). IEEE. https://doi.org/10.1109/iros.2015.7353481."
   ]
  },
  {
   "cell_type": "markdown",
   "metadata": {},
   "source": []
  }
 ],
 "metadata": {
  "interpreter": {
   "hash": "d4d1e4263499bec80672ea0156c357c1ee493ec2b1c70f0acce89fc37c4a6abe"
  },
  "kernelspec": {
   "display_name": "Python 3.7.11 ('base')",
   "language": "python",
   "name": "python3"
  },
  "language_info": {
   "codemirror_mode": {
    "name": "ipython",
    "version": 3
   },
   "file_extension": ".py",
   "mimetype": "text/x-python",
   "name": "python",
   "nbconvert_exporter": "python",
   "pygments_lexer": "ipython3",
   "version": "3.7.11"
  },
  "orig_nbformat": 4
 },
 "nbformat": 4,
 "nbformat_minor": 2
}
