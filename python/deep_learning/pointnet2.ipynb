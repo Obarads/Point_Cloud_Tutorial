{
 "cells": [
  {
   "attachments": {},
   "cell_type": "markdown",
   "metadata": {},
   "source": [
    "# PointNet++\n",
    "## 概要\n",
    "PointNet++[Qi et al. 2017b]は、点の局所領域の特徴を抽出する機構を持つネットワークである。PointNet++アーキテクチャは以下の通り。\n",
    "\n",
    "![pointnet2](img/pointnet2.png)\n",
    "\n",
    "\n",
    "PointNet[Qi et al. 2017a]では、点ごとの特徴のみを畳みこんでいたが、本提案では近傍探索手法によって点ごとに近傍点を求め、その近傍点間の関係性を畳みこむ機構を持つ。本提案とPointNetを比較した機構の違いは以下の通り。\n",
    "\n",
    "- **局所領域の畳み込み**: 近傍探索を用いて近傍点とそのクエリの相対位置を用いたプーリングと畳み込みを行う。handcrafted feature等でも利用されていたように、局所領域の関係性は点ごとの識別的な特徴を持つうえで重要とされている。\n",
    "\n",
    "本資料では、図中の下のClassificationモデルの実装を紹介する。"
   ]
  },
  {
   "attachments": {},
   "cell_type": "markdown",
   "metadata": {},
   "source": [
    "## 処理手順\n",
    "classificationのための処理の手順は以下の通り。\n",
    "\n",
    "1. サンプリング\n",
    "2. PointNet++への入力\n",
    "3. PointNet++からの出力\n"
   ]
  },
  {
   "attachments": {},
   "cell_type": "markdown",
   "metadata": {},
   "source": [
    "## 本レポジトリ以外の実装例\n",
    "### [charlesq34/pointnet2](https://github.com/charlesq34/pointnet2)\n",
    "- 本家のtensorflow実装\n",
    "\n",
    "### [yanx27/Pointnet_Pointnet2_pytorch](https://github.com/yanx27/Pointnet_Pointnet2_pytorch)\n",
    "- pytorch実装\n",
    "- リンク先のReadmeのPerformance表には無いが、`PointNet2 (Official)`の欄の結果は、法線情報付きであることに注意(論文参照)。\n",
    "\n",
    "### [erikwijmans/Pointnet2_PyTorch](https://github.com/erikwijmans/Pointnet2_PyTorch)\n",
    "- pytorch実装\n",
    "- Supports Multi-GPU via nn.DataParallel. But Unmaintained."
   ]
  },
  {
   "attachments": {},
   "cell_type": "markdown",
   "metadata": {},
   "source": [
    "## 訓練\n",
    "PointNet++を用いた訓練は以下のpointnet2.pyを介して実行できる。尚、以下のコードを本ファイルに書き込まない理由は、Jupyter上でのGPUのメモリ解放が厄介であるためである。"
   ]
  },
  {
   "cell_type": "code",
   "execution_count": 3,
   "metadata": {},
   "outputs": [
    {
     "name": "stdout",
     "output_type": "stream",
     "text": [
      "train: 100%|████████████| 250/250 [4:07:16<00:00, 59.35s/it]\n"
     ]
    }
   ],
   "source": [
    "!python pointnet2.py --mode=train --device=0 --output_dir_path=outputs/pointnet2/ --dataset_dir_path=../../data/modelnet40_ply_hdf5_2048/"
   ]
  },
  {
   "attachments": {},
   "cell_type": "markdown",
   "metadata": {},
   "source": [
    "## テスト\n",
    "PointNet++を用いたテストは以下のpointnet2.pyを介して実行できる。尚、以下のコードを本ファイルに書き込まない理由は、Jupyter上でのGPUのメモリ解放が厄介であるためである。"
   ]
  },
  {
   "cell_type": "code",
   "execution_count": null,
   "metadata": {},
   "outputs": [],
   "source": [
    "!python pointnet2.py --mode=train --device=0 --output_dir_path=outputs/pointnet2/ --dataset_dir_path=../../data/modelnet40_ply_hdf5_2048/ --test_model_file_path=outputs/pointnet2/model.pth"
   ]
  },
  {
   "attachments": {},
   "cell_type": "markdown",
   "metadata": {},
   "source": [
    "## References\n",
    "- Qi, Charles R., Hao Su, Kaichun Mo, and Leonidas J. Guibas. 2017. “Pointnet: Deep Learning on Point Sets for 3d Classification and Segmentation.” In Proceedings of the IEEE Conference on Computer Vision and Pattern Recognition, 652–60.\n",
    "- Qi, Charles R., Li Yi, Hao Su, and Leonidas J. Guibas. 2017. “PointNet++: Deep Hierarchical Feature Learning on Point Sets in a Metric Space.” arXiv [cs.CV]. arXiv. http://arxiv.org/abs/1706.02413."
   ]
  },
  {
   "attachments": {},
   "cell_type": "markdown",
   "metadata": {},
   "source": []
  }
 ],
 "metadata": {
  "interpreter": {
   "hash": "949777d72b0d2535278d3dc13498b2535136f6dfe0678499012e853ee9abcab1"
  },
  "kernelspec": {
   "display_name": "Python 3 (ipykernel)",
   "language": "python",
   "name": "python3"
  },
  "language_info": {
   "codemirror_mode": {
    "name": "ipython",
    "version": 3
   },
   "file_extension": ".py",
   "mimetype": "text/x-python",
   "name": "python",
   "nbconvert_exporter": "python",
   "pygments_lexer": "ipython3",
   "version": "3.7.11"
  }
 },
 "nbformat": 4,
 "nbformat_minor": 2
}
