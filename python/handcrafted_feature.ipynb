{
 "cells": [
  {
   "cell_type": "markdown",
   "metadata": {},
   "source": [
    "# Handcrafted Feature\n",
    "## Abstract\n",
    "- This section introduces point cloud handcrafted features below.\n",
    "  - PFH (Point Feature Histograms)\n",
    "  - FPFH (Fast Point Feature Histograms)\n",
    "  - PPF (Point Pair Feature)\n"
   ]
  },
  {
   "cell_type": "code",
   "execution_count": 1,
   "metadata": {},
   "outputs": [],
   "source": [
    "%load_ext autoreload\n",
    "%autoreload 2"
   ]
  },
  {
   "cell_type": "markdown",
   "metadata": {},
   "source": [
    "## PFH (Point Feature Histograms)\n",
    "PFH [Rusu et al, 2008]はクエリ点周りにある点を用いて、点間の法線相対角度と点間距離を使ったヒストグラムを表した特徴量である。\n",
    "\n",
    "本subsectionで使用するコードは以下の通り。"
   ]
  },
  {
   "cell_type": "code",
   "execution_count": 2,
   "metadata": {},
   "outputs": [
    {
     "name": "stdout",
     "output_type": "stream",
     "text": [
      "Jupyter environment detected. Enabling Open3D WebVisualizer.\n",
      "[Open3D INFO] WebRTC GUI backend enabled.\n",
      "[Open3D INFO] WebRTCWindowSystem: HTTP handshake server disabled.\n"
     ]
    }
   ],
   "source": [
    "from tutlibs.normal_estimation import normal_estimation\n",
    "from tutlibs.feature import PointFeatureHistograms as pfh\n",
    "from tutlibs.feature import pair_feature\n",
    "\n",
    "from tutlibs.io import Points as io\n",
    "import inspect"
   ]
  },
  {
   "cell_type": "code",
   "execution_count": 3,
   "metadata": {},
   "outputs": [
    {
     "name": "stdout",
     "output_type": "stream",
     "text": [
      "PFH shape: (3000, 125)\n"
     ]
    }
   ],
   "source": [
    "xyz, _, _ = io.read('../data/bunny_pc.ply')\n",
    "normals = normal_estimation(xyz, 15)\n",
    "pfhs = pfh.compute(xyz, normals)\n",
    "print('PFH shape: {}'.format(pfhs.shape))"
   ]
  },
  {
   "cell_type": "markdown",
   "metadata": {},
   "source": [
    "`pfh.compute`関数の出力が、点ごとの125次元PFHを表す。予め点群に法線情報が用意されている場合は法線を推定する必要がないため、`normal_estimation`関数は使わなくても良い。以下`pfh.compute`関数の中身を示す。"
   ]
  },
  {
   "cell_type": "code",
   "execution_count": 4,
   "metadata": {},
   "outputs": [
    {
     "name": "stdout",
     "output_type": "stream",
     "text": [
      "    @staticmethod\n",
      "    def compute(xyz:np.ndarray, normals:np.ndarray, radius=0.03, div:int=5, normalization:bool=True) -> np.ndarray:\n",
      "        \"\"\"Compute Point Feature Histograms.\n",
      "        Note: does not include the distance feature (reason -> https://pcl.readthedocs.io/projects/tutorials/en/latest/pfh_estimation.html#pfh-estimation)\n",
      "\n",
      "        Args:\n",
      "            xyz: xyz coords (N, 3)\n",
      "            normals: normals (N, 3)\n",
      "            radius: radius for nearest neighbor search\n",
      "            div: number of subdivisions of value range for each feature.\n",
      "            normalization: normalize each point histgram.\n",
      "        Return:\n",
      "            point feature histograms: (N, div**3)\n",
      "        \"\"\"\n",
      "        knn_idxs, _, rnn_masks = radius_nearest_neighbors(xyz, xyz, r=radius, k=xyz.shape[0]) # shpae: (N, N), (N, N)\n",
      "\n",
      "        # Get nearest neihobrs (get radius neihbors).\n",
      "        num_pf = len(knn_idxs) # num_pf = N = xyz.shape[0]\n",
      "        knn_xyzs = gather(xyz, knn_idxs) # shape: (N, N, 3)\n",
      "        knn_normals = gather(normals, knn_idxs) # shape: (N, N, 3)\n",
      "\n",
      "        # define PFH list\n",
      "        pfh_list = np.zeros((num_pf, div** 3))\n",
      "\n",
      "        for i in range(num_pf):\n",
      "            # Get point set in radius (R=number of points in radius, R is different for each i.)\n",
      "            rnn_mask = rnn_masks[i] # shape: (N)\n",
      "            rnn_xyz = knn_xyzs[i, rnn_mask] # shape: (R, 3)\n",
      "            rnn_normal = knn_normals[i, rnn_mask] # shape: (R, 3)\n",
      "\n",
      "            if len(rnn_xyz) >= 2:\n",
      "                pair_idxs = np.array(list(itertools.combinations(range(len(rnn_xyz)), 2))) # shape: (T, 2), T=Number of combinations\n",
      "                phi, alpha,  theta, _ = pair_feature(rnn_xyz, rnn_normal, pair_idxs) # shape: (T), (T), (T), (T)\n",
      "\n",
      "                theta_bin_idx = fminmax(np.floor((div * (theta + np.pi)) / (2.0 * np.pi)), 0, div - 1)\n",
      "                alpha_bin_idx = fminmax(np.floor(div * ((alpha + 1.0) * 0.5)), 0, div - 1)\n",
      "                phi_bin_idx = fminmax(np.floor(div * ((phi + 1.0) * 0.5)), 0, div - 1)\n",
      "\n",
      "                histgram_idx = (phi_bin_idx * (div ** 2) + alpha_bin_idx * (div) + theta_bin_idx).astype(np.int32)\n",
      "                histgram = np.bincount(histgram_idx, minlength=div ** 3).astype(np.float32)\n",
      "                if normalization:\n",
      "                    histgram /= (np.sum(rnn_mask) * (np.sum(rnn_mask) - 1) / 2) # ex: np.sum(histgram) = 1\n",
      "            else:\n",
      "                histgram = np.zeros(div ** 3)\n",
      "\n",
      "            pfh_list[i] = histgram\n",
      "\n",
      "        return pfh_list\n",
      "\n"
     ]
    }
   ],
   "source": [
    "print(inspect.getsource(pfh.compute))"
   ]
  },
  {
   "cell_type": "markdown",
   "metadata": {},
   "source": [
    "PFHでは、点ごとに近傍点の座標値と法線を参照して特徴を計算し、その特徴に基づいてヒストグラムを作成する。上記実装では、\n",
    "\n",
    "1. `radius_nearest_neighbors`関数によって、点群の各点と近傍点を取得する。下図の場合、点群の一点をクエリ点(赤点)として、クエリ点とクエリ点から一定距離内(点線の内)の近傍点(青点)を使用する。\n",
    "2. for文で一点ごとにPFH算出を行う。一点のPFH算出には、1で得たクエリ点と近傍点を使用する。\n",
    "   1. クエリ点と近傍点で二点の全組み合わせを作成する。下図では、辺の数だけ組み合わせが存在する。\n",
    "   2. `pair_feature`関数を使用して、組み合わせごとの点間特徴を得る。\n",
    "   3. 点間の特徴をヒストグラムで表現することで、PFHを取得する。ヒストグラムを作成する際は、前処理としてnormalization等を行う。\n",
    "\n",
    "![nn](img/pfh_nn.png)  \n",
    "[Rusu et al, 2009より]\n",
    "\n",
    "次に、特徴を算出する`pair_feature`関数の中身を以下に示す。"
   ]
  },
  {
   "cell_type": "code",
   "execution_count": 5,
   "metadata": {},
   "outputs": [
    {
     "name": "stdout",
     "output_type": "stream",
     "text": [
      "def pair_feature(xyz:np.ndarray, normals:np.ndarray, pair_idxs:np.ndarray):\n",
      "    \"\"\"Compute pair features.\n",
      "\n",
      "    Args:\n",
      "        xyz: xyz coords (M, 3)\n",
      "        normals: normals (M, 3)\n",
      "        pair_idxs: point pair indices (L, 2)\n",
      "    Return:\n",
      "        phi: cosine feature, value range is -1~1 (L)\n",
      "        alpha: cosine feature, value range is -1~1 (L)\n",
      "        theta: angle feature, value range is -pi/2~pi/2 (L)\n",
      "        dists: distance feature (L)\n",
      "    \"\"\"\n",
      "    # Get xyz and normal of points\n",
      "    p1 = xyz[pair_idxs[:, 0]]\n",
      "    n1 = normals[pair_idxs[:, 0]]\n",
      "    p2 = xyz[pair_idxs[:, 1]]\n",
      "    n2 = normals[pair_idxs[:, 1]]\n",
      "\n",
      "    # Get vectors (pp) and distances (dists) between pt and ps\n",
      "    pp = p2 - p1\n",
      "    dists = np.linalg.norm(pp, ord=2, axis=1)\n",
      "\n",
      "    # Get a mask to decide the source and target points.\n",
      "    p1pp_angle = dot(n1, pp) / dists\n",
      "    p2pp_angle = dot(n2, pp) / dists\n",
      "    mask = np.arccos(np.fabs(p1pp_angle)) > np.arccos(np.fabs(p2pp_angle))\n",
      "\n",
      "    # Decide source and target points.\n",
      "    phi = p1pp_angle.copy()\n",
      "    u = n1.copy() # u = ns\n",
      "    nt = n2.copy()\n",
      "    u[mask] = n2[mask].copy()\n",
      "    nt[mask] = n1[mask].copy()\n",
      "    pp[mask] *= -1\n",
      "    phi[mask] = -1 * p2pp_angle[mask]\n",
      "\n",
      "    # Compute v and w\n",
      "    v = normalize(cross(pp, u))\n",
      "    w = cross(u, v)\n",
      "\n",
      "    # Get alpha and theta\n",
      "    alpha = dot(v, nt)\n",
      "    theta = np.arctan2(dot(w, nt), dot(u, nt))\n",
      "\n",
      "    return phi, alpha, theta, dists\n",
      "\n"
     ]
    }
   ],
   "source": [
    "print(inspect.getsource(pair_feature))"
   ]
  },
  {
   "cell_type": "markdown",
   "metadata": {},
   "source": [
    "上記実装では、L個のペアとL個のペアで使用するクエリ点と近傍点のデータを入力する。出力としてPFHで使われるペアごとの特徴(ペア特徴)が出力される。ペア特徴は3つの法線相対角度phi($\\phi$)、alpha($\\alpha$)、theta($\\theta$)と1つの相対距離dists($d$)の4種類である。注意点として、本実装ではPFHへ変換する際に$d$を使用しない。\n",
    "\n",
    "2点をそれぞれ$p_s$、$p_t$として、点の法線と点を結ぶ線の角度が小さい方が$p_s$とする。この時、ペア特徴は以下の通り。\n",
    "\n",
    "![pf](img/pfh_pf.png)  \n",
    "[Rusu et al, 2010より修正]\n",
    "\n",
    "$$\n",
    "\\phi=u \\cdot \\frac{\\left(p_t-p_s\\right)}{d} \\\\\n",
    "\\alpha = v \\cdot n_t \\\\\n",
    "\\theta = \\arctan(w \\cdot n_t, u \\cdot n_t) \\\\\n",
    "d = \\|p_t - p_s \\|_2\n",
    "$$\n",
    "\n"
   ]
  },
  {
   "cell_type": "markdown",
   "metadata": {},
   "source": [
    "## Point Pair Feature (PPF)\n",
    "PFH [Drost et al, 2010]は2点間の相対距離と点間の法線相対角度からなる特徴量である。具体的な処理については論文を参照。\n",
    "\n",
    "本subsectionで使用するコードは以下の通り。"
   ]
  },
  {
   "cell_type": "code",
   "execution_count": 6,
   "metadata": {},
   "outputs": [],
   "source": [
    "from tutlibs.normal_estimation import normal_estimation\n",
    "from tutlibs.feature import PairPointFeature as ppf\n",
    "\n",
    "from tutlibs.io import Points as io"
   ]
  },
  {
   "cell_type": "code",
   "execution_count": null,
   "metadata": {},
   "outputs": [],
   "source": [
    "xyz, rgb, _ = io.read('../data/bunny_pc.ply')\n",
    "normals = normal_estimation(xyz)\n",
    "ppfs = ppf.compute(xyz, normals)\n",
    "print('PPF shape: {}'.format(ppfs.shape))"
   ]
  },
  {
   "cell_type": "markdown",
   "metadata": {},
   "source": [
    "## References\n",
    "- [Rusu, R. B., N. Blodow, Z. C. Marton, and M. Beetz. 2008. “Aligning Point Cloud Views Using Persistent Feature Histograms.” In 2008 IEEE/RSJ International Conference on Intelligent Robots and Systems. IEEE. https://doi.org/10.1109/iros.2008.4650967.](http://citeseerx.ist.psu.edu/viewdoc/download?doi=10.1.1.391.5915&rep=rep1&type=pdf)\n",
    "- [Rusu, Radu Bogdan, Nico Blodow, and Michael Beetz. 2009. “Fast Point Feature Histograms (FPFH) for 3D Registration.” In 2009 IEEE International Conference on Robotics and Automation, 3212–17.](https://www.cvl.iis.u-tokyo.ac.jp/class2016/2016w/papers/6.3DdataProcessing/Rusu_FPFH_ICRA2009.pdf)\n",
    "- [Drost, Bertram, Markus Ulrich, Nassir Navab, and Slobodan Ilic. 2010. “Model Globally, Match Locally: Efficient and Robust 3D Object Recognition.” In 2010 IEEE Computer Society Conference on Computer Vision and Pattern Recognition. IEEE. https://doi.org/10.1109/cvpr.2010.5540108.](http://campar.in.tum.de/pub/drost2010CVPR/drost2010CVPR.pdf)\n",
    "- [Rusu, R.B. Semantic 3D Object Maps for Everyday Manipulation in Human Living Environments. Künstl Intell 24, 345–348 (2010). https://doi.org/10.1007/s13218-010-0059-6](https://link.springer.com/article/10.1007/s13218-010-0059-6#citeas)"
   ]
  },
  {
   "cell_type": "markdown",
   "metadata": {},
   "source": []
  }
 ],
 "metadata": {
  "interpreter": {
   "hash": "d4d1e4263499bec80672ea0156c357c1ee493ec2b1c70f0acce89fc37c4a6abe"
  },
  "kernelspec": {
   "display_name": "Python 3 (ipykernel)",
   "language": "python",
   "name": "python3"
  },
  "language_info": {
   "codemirror_mode": {
    "name": "ipython",
    "version": 3
   },
   "file_extension": ".py",
   "mimetype": "text/x-python",
   "name": "python",
   "nbconvert_exporter": "python",
   "pygments_lexer": "ipython3",
   "version": "3.8.12"
  }
 },
 "nbformat": 4,
 "nbformat_minor": 2
}
