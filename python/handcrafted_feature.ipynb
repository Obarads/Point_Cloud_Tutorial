{
 "metadata": {
  "language_info": {
   "codemirror_mode": {
    "name": "ipython",
    "version": 3
   },
   "file_extension": ".py",
   "mimetype": "text/x-python",
   "name": "python",
   "nbconvert_exporter": "python",
   "pygments_lexer": "ipython3",
   "version": "3.7.10"
  },
  "orig_nbformat": 4,
  "kernelspec": {
   "name": "python3",
   "display_name": "Python 3.7.10 64-bit ('base': conda)"
  },
  "interpreter": {
   "hash": "d4d1e4263499bec80672ea0156c357c1ee493ec2b1c70f0acce89fc37c4a6abe"
  }
 },
 "nbformat": 4,
 "nbformat_minor": 2,
 "cells": [
  {
   "cell_type": "markdown",
   "source": [
    "# Handcrafted Feature\n",
    "## Abstract\n",
    "- Handcrafted featureの実装を行います。具体的には、Open3Dを用いたFast Point Feature Histograms (FPFH)とNumpyによるPoint Pair Feature (PPF)を実装します。\n",
    "\n",
    "## Introduction\n",
    "以下の参考文献で詳細に説明しています。\n",
    "- [How 3D Features work in PCL — Point Cloud Library 0.0 documentation](https://pcl.readthedocs.io/projects/tutorials/en/latest/how_features_work.html#how-3d-features-work)\n",
    "\n"
   ],
   "metadata": {}
  },
  {
   "cell_type": "code",
   "execution_count": 1,
   "source": [
    "%load_ext autoreload\n",
    "%autoreload 2"
   ],
   "outputs": [],
   "metadata": {}
  },
  {
   "cell_type": "markdown",
   "source": [
    "## Point Feature Histograms (PFH)\n",
    "このsubsectionで使うパッケージは以下のとおりです。"
   ],
   "metadata": {}
  },
  {
   "cell_type": "code",
   "execution_count": 1,
   "source": [
    "import numpy as np\n",
    "import itertools # In order to get full connection of points, use itertools.combinations().\n",
    "from tutlibs.nns import radius_nearest_neighbors, k_nearest_neighbors\n",
    "from tutlibs.utils import grouping, angle, normalized_cross\n",
    "from tutlibs.visualization import Points as visualizer\n",
    "from tutlibs.io import Points as io"
   ],
   "outputs": [
    {
     "output_type": "stream",
     "name": "stdout",
     "text": [
      "Jupyter environment detected. Enabling Open3D WebVisualizer.\n",
      "[Open3D INFO] WebRTC GUI backend enabled.\n",
      "[Open3D INFO] WebRTCWindowSystem: HTTP handshake server disabled.\n"
     ]
    },
    {
     "output_type": "stream",
     "name": "stderr",
     "text": [
      "INFO - 2021-09-16 15:45:33,949 - utils - Note: NumExpr detected 16 cores but \"NUMEXPR_MAX_THREADS\" not set, so enforcing safe limit of 8.\n",
      "INFO - 2021-09-16 15:45:33,950 - utils - NumExpr defaulting to 8 threads.\n"
     ]
    }
   ],
   "metadata": {}
  },
  {
   "cell_type": "markdown",
   "source": [
    "コードは以下のとおりです。"
   ],
   "metadata": {}
  },
  {
   "cell_type": "code",
   "execution_count": null,
   "source": [
    "def pair_feature(xyz, normals) -> list:\n",
    "    \"\"\"Compute Point Feature Histograms (PFH).\n",
    "\n",
    "    Args:\n",
    "        xyz: xyz coords (N, 3)\n",
    "        normals: normals (N, 3)\n",
    "    Return:\n",
    "        pair_feature: point feature\n",
    "    \"\"\"\n",
    "    knn_idxs, _, rnn_masks = radius_nearest_neighbors(xyz, xyz, r=0.05, k=30)\n",
    "\n",
    "    num_pf = len(knn_idxs)\n",
    "    knn_xyzs = grouping(xyz, knn_idxs)\n",
    "    knn_normals = grouping(normals, knn_idxs)\n",
    "\n",
    "    pf_list = []\n",
    "    for i in range(pf_list):\n",
    "        # Get point set in radius\n",
    "        rnn_mask = rnn_masks[i]\n",
    "        rnn_xyz = knn_xyzs[i, rnn_mask]\n",
    "        rnn_normal = knn_normals[i, rnn_mask]\n",
    "\n",
    "        # Get pair points in radius, Pair is s and t.\n",
    "        full_connection_idx = list(itertools.combinations(range(len(rnn_xyz))), 2)\n",
    "        # Get point(xyz) and normal of s\n",
    "        ps = rnn_xyz[full_connection_idx[:, 0]]\n",
    "        ns = rnn_normal[full_connection_idx[:, 0]]\n",
    "        # Get point(xyz) and normal of t\n",
    "        pt = rnn_xyz[full_connection_idx[:, 1]]\n",
    "        nt = rnn_normal[full_connection_idx[:, 1]]\n",
    "\n",
    "        pp = ps - pt\n",
    "        u = ns\n",
    "        v = normalized_cross(pp, u)\n",
    "        w = normalized_cross(u, v)\n",
    "\n",
    "        phi = angle(pp, u)\n",
    "        alpha = angle(v, nt)\n",
    "        theta = np.arctan2(angle(w, nt), angle(u, nt))\n",
    "\n",
    "        pf_list.append([alpha, phi, theta, pp])\n",
    "\n",
    "    return pf_list\n",
    "\n",
    "def pfh(xyz, normals):\n",
    "    pf_list = pair_feature(xyz, normals)\n",
    "    \n"
   ],
   "outputs": [],
   "metadata": {}
  },
  {
   "cell_type": "code",
   "execution_count": null,
   "source": [
    "xyz, rgb, _ = io.read('../data/bunny_pc.ply')\n",
    "normals = noraml_estimation_w_o3d(xyz)\n",
    "pfhs = compute_pfh(xyz, normals)\n",
    "\n",
    "print(pfhs.shape)"
   ],
   "outputs": [],
   "metadata": {}
  },
  {
   "cell_type": "markdown",
   "source": [
    "## Fast Point Feature Histograms\n",
    "この項で使うパッケージは以下のとおりです。"
   ],
   "metadata": {}
  },
  {
   "cell_type": "markdown",
   "source": [
    "コードは以下のとおりです。"
   ],
   "metadata": {}
  },
  {
   "cell_type": "markdown",
   "source": [
    "## Point Pair Feature (PPF)\n",
    "使用するパッケージは以下の通りです。"
   ],
   "metadata": {}
  },
  {
   "cell_type": "code",
   "execution_count": 1,
   "source": [
    "import numpy as np\n",
    "from tutlibs.io import Points as io\n",
    "from tutlibs.visualization import Points as visualizer\n",
    "from tutlibs.normals import noraml_estimation_w_o3d\n",
    "from tutlibs.nns import k_nearest_neighbors\n",
    "from tutlibs.utils import grouping"
   ],
   "outputs": [],
   "metadata": {}
  },
  {
   "cell_type": "code",
   "execution_count": 2,
   "source": [
    "def compute_ppf(xyz:np.ndarray, normals:np.ndarray) -> np.ndarray:\n",
    "    idxs, square_dists = k_nearest_neighbors(xyz, xyz, k=2)\n",
    "    F1s = np.sqrt(square_dists[:, 1])\n",
    "\n",
    "    knn_normals = grouping(normals, idxs)\n",
    "    unit_vector_0 = knn_normals[:, 0] / np.linalg.norm(knn_normals[:, 0], axis=1)[:, np.newaxis]\n",
    "    unit_vector_1 = knn_normals[:, 1] / np.linalg.norm(knn_normals[:, 1], axis=1)[:, np.newaxis]\n",
    "\n",
    "    knn_points = grouping(xyz, idxs)\n",
    "    knn_vector = knn_points[:, 0] - knn_points[:, 1]\n",
    "    unit_vector_2 = knn_vector / np.linalg.norm(knn_vector, axis=1)[:, np.newaxis]\n",
    "\n",
    "    F2s = np.arccos(np.matmul(unit_vector_0[:, np.newaxis], unit_vector_2[:, :, np.newaxis])).squeeze(axis=(1,2))\n",
    "    F3s = np.arccos(np.matmul(unit_vector_1[:, np.newaxis], unit_vector_2[:, :, np.newaxis])).squeeze(axis=(1,2))\n",
    "    F4s = np.arccos(np.matmul(unit_vector_0[:, np.newaxis], unit_vector_1[:, :, np.newaxis])).squeeze(axis=(1,2))\n",
    "\n",
    "    ppfs = np.stack([F1s, F2s, F3s, F4s], axis=-1)\n",
    "\n",
    "    return ppfs"
   ],
   "outputs": [],
   "metadata": {}
  },
  {
   "cell_type": "code",
   "execution_count": 3,
   "source": [
    "xyz, rgb, _ = io.read('../data/bunny_pc.ply')\n",
    "normals = noraml_estimation_w_o3d(xyz)\n",
    "ppfs = compute_ppf(xyz, normals)\n",
    "\n",
    "print(ppfs.shape)"
   ],
   "outputs": [
    {
     "output_type": "stream",
     "name": "stdout",
     "text": [
      "(3000, 4)\n"
     ]
    }
   ],
   "metadata": {}
  },
  {
   "cell_type": "code",
   "execution_count": null,
   "source": [],
   "outputs": [],
   "metadata": {}
  },
  {
   "cell_type": "code",
   "execution_count": null,
   "source": [],
   "outputs": [],
   "metadata": {}
  }
 ]
}