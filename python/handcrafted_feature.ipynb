{
 "cells": [
  {
   "cell_type": "markdown",
   "metadata": {},
   "source": [
    "# Handcrafted Feature\n",
    "## Abstract\n",
    "- Handcrafted featureの実装を行います。具体的には、Open3Dを用いたFast Point Feature Histograms (FPFH)とNumpyによるPoint Pair Feature (PPF)を実装します。\n",
    "\n",
    "## Introduction\n",
    "以下の参考文献で詳細に説明しています。\n",
    "- [How 3D Features work in PCL — Point Cloud Library 0.0 documentation](https://pcl.readthedocs.io/projects/tutorials/en/latest/how_features_work.html#how-3d-features-work)\n",
    "\n"
   ]
  },
  {
   "cell_type": "code",
   "execution_count": 1,
   "metadata": {},
   "outputs": [],
   "source": [
    "%load_ext autoreload\n",
    "%autoreload 2"
   ]
  },
  {
   "cell_type": "markdown",
   "metadata": {},
   "source": [
    "## Point Feature Histograms (PFH)\n",
    "このsubsectionで使うパッケージは以下のとおりです。"
   ]
  },
  {
   "cell_type": "code",
   "execution_count": 4,
   "metadata": {},
   "outputs": [],
   "source": [
    "import numpy as np\n",
    "\n",
    "from tutlibs.normal_estimation import normal_estimation\n",
    "from tutlibs.feature import pfh\n",
    "\n",
    "from tutlibs.visualization import Points as visualizer\n",
    "from tutlibs.io import Points as io"
   ]
  },
  {
   "cell_type": "markdown",
   "metadata": {},
   "source": [
    "コードは以下のとおりです。"
   ]
  },
  {
   "cell_type": "code",
   "execution_count": null,
   "metadata": {},
   "outputs": [],
   "source": [
    "xyz, rgb, _ = io.read('../data/bunny_pc.ply')\n",
    "normals = normal_estimation(xyz, 15)\n",
    "pfhs = pfh(xyz, normals)\n",
    "\n",
    "print(pfhs.shape)"
   ]
  },
  {
   "cell_type": "markdown",
   "metadata": {},
   "source": [
    "## Fast Point Feature Histograms\n",
    "この項で使うパッケージは以下のとおりです。"
   ]
  },
  {
   "cell_type": "markdown",
   "metadata": {},
   "source": [
    "コードは以下のとおりです。"
   ]
  },
  {
   "cell_type": "markdown",
   "metadata": {},
   "source": [
    "## Point Pair Feature (PPF)\n",
    "使用するパッケージは以下の通りです。"
   ]
  },
  {
   "cell_type": "code",
   "execution_count": 1,
   "metadata": {},
   "outputs": [],
   "source": [
    "import numpy as np\n",
    "from tutlibs.io import Points as io\n",
    "from tutlibs.visualization import Points as visualizer\n",
    "from tutlibs.normals import noraml_estimation_w_o3d\n",
    "from tutlibs.feature import ppf"
   ]
  },
  {
   "cell_type": "code",
   "execution_count": 3,
   "metadata": {},
   "outputs": [
    {
     "name": "stdout",
     "output_type": "stream",
     "text": [
      "(3000, 4)\n"
     ]
    }
   ],
   "source": [
    "xyz, rgb, _ = io.read('../data/bunny_pc.ply')\n",
    "normals = noraml_estimation_w_o3d(xyz)\n",
    "ppfs = ppf(xyz, normals)\n",
    "\n",
    "print(ppfs.shape)"
   ]
  },
  {
   "cell_type": "code",
   "execution_count": null,
   "metadata": {},
   "outputs": [],
   "source": []
  },
  {
   "cell_type": "code",
   "execution_count": null,
   "metadata": {},
   "outputs": [],
   "source": []
  }
 ],
 "metadata": {
  "interpreter": {
   "hash": "d4d1e4263499bec80672ea0156c357c1ee493ec2b1c70f0acce89fc37c4a6abe"
  },
  "kernelspec": {
   "display_name": "Python 3.7.10 64-bit ('base': conda)",
   "name": "python3"
  },
  "language_info": {
   "codemirror_mode": {
    "name": "ipython",
    "version": 3
   },
   "file_extension": ".py",
   "mimetype": "text/x-python",
   "name": "python",
   "nbconvert_exporter": "python",
   "pygments_lexer": "ipython3",
   "version": "3.8.12"
  },
  "orig_nbformat": 4
 },
 "nbformat": 4,
 "nbformat_minor": 2
}
