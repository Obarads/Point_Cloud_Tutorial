{
 "cells": [
  {
   "cell_type": "markdown",
   "metadata": {},
   "source": [
    "# Competition\n",
    "- [Lyft Motion Prediction for Autonomous Vehicles (2020)](https://www.kaggle.com/c/lyft-motion-prediction-autonomous-vehicles/overview/description)\n",
    "- [The 2021 Waymo Open Dataset Challenges](https://waymo.com/open/challenges)\n",
    "- [The 1st Challenge on Large Scale Point-cloud Analysis for Urban Scenes Understanding (2021)](https://urban3dchallenge.github.io/)\n",
    "- [Lyft 3D Object Detection for Autonomous Vehicles (2019)](kaggle.com/c/3d-object-detection-for-autonomous-vehicles/overview)\n",
    "- [Workshop on autonomous driving (2019)](http://wad.ai/2019/challenge.html)"
   ]
  }
 ],
 "metadata": {
  "language_info": {
   "name": "python"
  },
  "orig_nbformat": 4
 },
 "nbformat": 4,
 "nbformat_minor": 2
}
