{
 "cells": [
  {
   "cell_type": "markdown",
   "source": [
    "# Competition"
   ],
   "metadata": {}
  },
  {
   "cell_type": "markdown",
   "source": [
    "## Abstract\n",
    "- 過去の3D processing Competitionのコードを扱う予定。\n",
    "- 目次は以下の通り。\n",
    "  - [Lyft Motion Prediction for Autonomous Vehicles (2020)](https://www.kaggle.com/c/lyft-motion-prediction-autonomous-vehicles/overview/description)\n",
    "  - [The 2021 Waymo Open Dataset Challenges](https://waymo.com/open/challenges)\n",
    "  - [The 1st Challenge on Large Scale Point-cloud Analysis for Urban Scenes Understanding (2021)](https://urban3dchallenge.github.io/)\n",
    "  - [Lyft 3D Object Detection for Autonomous Vehicles (2019)](kaggle.com/c/3d-object-detection-for-autonomous-vehicles/overview)\n",
    "  - [Workshop on autonomous driving (2019)](http://wad.ai/2019/challenge.html)"
   ],
   "metadata": {}
  },
  {
   "cell_type": "markdown",
   "source": [],
   "metadata": {}
  }
 ],
 "metadata": {
  "orig_nbformat": 4,
  "language_info": {
   "name": "python"
  }
 },
 "nbformat": 4,
 "nbformat_minor": 2
}