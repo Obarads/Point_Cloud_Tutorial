{
 "cells": [
  {
   "cell_type": "markdown",
   "metadata": {},
   "source": [
    "# Downsampling\n",
    "Downsampling reduces point cloud. The reason for using downsampling are as follows:\n",
    "\n",
    "- Saving memory and processing time : When processing a point cloud with many points, a huge amount of memory and calculation time may be required during processing. By performing down-sampling for such point clouds, we can reduce the burden during processing.\n",
    "- Reducing the complexity of point clouds: Some points in a point cloud are redundant for processing. Downsampling can reduce such points.\n",
    "\n",
    "This section introduce the following downsampling methods. \n",
    "- Random Sampling\n",
    "- FPS (Furthest point sampling)\n",
    "- Voxel grid sampling"
   ]
  },
  {
   "cell_type": "code",
   "execution_count": 1,
   "metadata": {},
   "outputs": [],
   "source": [
    "%load_ext autoreload\n",
    "%autoreload 2"
   ]
  },
  {
   "cell_type": "markdown",
   "metadata": {},
   "source": [
    "## Random sampling\n",
    "This sampling method samples $N$ points randomly ($N$ is any number). This subsection use the following code:"
   ]
  },
  {
   "cell_type": "code",
   "execution_count": 2,
   "metadata": {},
   "outputs": [
    {
     "name": "stdout",
     "output_type": "stream",
     "text": [
      "Jupyter environment detected. Enabling Open3D WebVisualizer.\n",
      "[Open3D INFO] WebRTC GUI backend enabled.\n",
      "[Open3D INFO] WebRTCWindowSystem: HTTP handshake server disabled.\n"
     ]
    }
   ],
   "source": [
    "# for random sampling\n",
    "from tutlibs.sampling import random_sampling\n",
    "from tutlibs.operator import gather\n",
    "\n",
    "# for description\n",
    "import numpy as np\n",
    "from tutlibs.io import Points as io\n",
    "from tutlibs.visualization import JupyterVisualizer as jv\n",
    "from tutlibs.transformation import Transformation as tr\n",
    "from tutlibs.utils import single_color\n",
    "import inspect"
   ]
  },
  {
   "cell_type": "code",
   "execution_count": 3,
   "metadata": {},
   "outputs": [
    {
     "data": {
      "application/vnd.jupyter.widget-view+json": {
       "model_id": "9d900c5105044720baa05bf070e49a5c",
       "version_major": 2,
       "version_minor": 0
      },
      "text/plain": [
       "Output()"
      ]
     },
     "metadata": {},
     "output_type": "display_data"
    }
   ],
   "source": [
    "# load point cloud data.\n",
    "coords, _, _ = io.read('../data/bunny_pc.ply')\n",
    "\n",
    "# get sample indices from random sampling function\n",
    "idxs = random_sampling(coords, 500)\n",
    "\n",
    "# get sample points\n",
    "sampled_coords = gather(coords, idxs)\n",
    "\n",
    "# visualize samples and origin.\n",
    "sampled_coords = tr.translation(sampled_coords, np.array([1, 0, 0]))\n",
    "obj_points = jv.point(coords, single_color(\"#ff0000\",len(coords)))\n",
    "obj_sampled_points = jv.point(sampled_coords)\n",
    "jv.display([obj_points, obj_sampled_points])"
   ]
  },
  {
   "cell_type": "markdown",
   "metadata": {},
   "source": [
    "In the above output, red points are original points, blue points are sampled points."
   ]
  },
  {
   "cell_type": "markdown",
   "metadata": {},
   "source": [
    "## FPS (Furthest point sampling)\n",
    "FPS samples iteratively point that are furthest points from sampled points until any number of points. Therefore, FPS is useful if we specify the number of samples and get uniform points in 3D space. This subsection use the following code:"
   ]
  },
  {
   "cell_type": "code",
   "execution_count": 4,
   "metadata": {},
   "outputs": [],
   "source": [
    "# for FPS\n",
    "from tutlibs.sampling import furthest_point_sampling\n",
    "from tutlibs.operator import gather\n",
    "\n",
    "# for description\n",
    "import numpy as np\n",
    "from tutlibs.io import Points as io\n",
    "from tutlibs.visualization import JupyterVisualizer as jv\n",
    "from tutlibs.transformation import Transformation as tr\n",
    "from tutlibs.utils import single_color\n",
    "import inspect"
   ]
  },
  {
   "cell_type": "code",
   "execution_count": 5,
   "metadata": {},
   "outputs": [
    {
     "data": {
      "application/vnd.jupyter.widget-view+json": {
       "model_id": "d4341a00bc774a11806f7c945c5728ba",
       "version_major": 2,
       "version_minor": 0
      },
      "text/plain": [
       "Output()"
      ]
     },
     "metadata": {},
     "output_type": "display_data"
    }
   ],
   "source": [
    "# load point cloud data.\n",
    "coords, _, _ = io.read('../data/bunny_pc.ply')\n",
    "\n",
    "# get sample indices from FPS function\n",
    "idxs = furthest_point_sampling(coords, 500)\n",
    "\n",
    "# get sample points\n",
    "sampled_coords = gather(coords, idxs)\n",
    "\n",
    "# visualize samples and origin.\n",
    "sampled_coords = tr.translation(sampled_coords, np.array([1, 0, 0]))\n",
    "obj_points = jv.point(coords, single_color(\"#ff0000\",len(coords)))\n",
    "obj_sampled_points = jv.point(sampled_coords)\n",
    "jv.display([obj_points, obj_sampled_points])"
   ]
  },
  {
   "cell_type": "markdown",
   "metadata": {},
   "source": [
    "In the above output, red points are original points, blue points are sampled points. The FPS function `furthest_point_sampling` outputs $N$ sample indices corresponding to coordinates of points `coords`.\n",
    "\n",
    "Next, let's look at the contents of the `furtgest_point_sampling`."
   ]
  },
  {
   "cell_type": "code",
   "execution_count": 6,
   "metadata": {},
   "outputs": [
    {
     "name": "stdout",
     "output_type": "stream",
     "text": [
      "def furthest_point_sampling(coords: np.ndarray, num_sample: int) -> np.ndarray:\n",
      "    \"\"\"Furthest point sampling\n",
      "\n",
      "    Args:\n",
      "        coords: xyz coordinates, (N, 3)\n",
      "        num_sample: number of sammple\n",
      "\n",
      "    Returns:\n",
      "        indices: sample indices, (num_sample)\n",
      "    \"\"\"\n",
      "    N, _ = coords.shape\n",
      "\n",
      "    min_square_dists = np.full(N, 2 ** 16 - 1, dtype=np.float32)\n",
      "    sample_indices = np.zeros(num_sample, dtype=np.int32)\n",
      "\n",
      "    # Get first index\n",
      "    sample_indices[0] = 0\n",
      "    for i in range(1, num_sample):\n",
      "        # compute square distances between coords and previous sample.\n",
      "        previous_sample = coords[sample_indices[i - 1]]\n",
      "        relative_coords = coords - previous_sample[np.newaxis, :]  # (N, 3) - (1, 3)\n",
      "        square_dists = np.sum(relative_coords ** 2, axis=1)  # (N)\n",
      "\n",
      "        # update minimum distance between coords and samples.\n",
      "        min_dist_mask = square_dists < min_square_dists\n",
      "        min_square_dists[min_dist_mask] = square_dists[min_dist_mask]\n",
      "\n",
      "        # get new furthest point (sample) index.\n",
      "        sample_indices[i] = np.argmax(min_square_dists)\n",
      "\n",
      "    return sample_indices\n",
      "\n"
     ]
    }
   ],
   "source": [
    "print(inspect.getsource(furthest_point_sampling))"
   ]
  },
  {
   "cell_type": "markdown",
   "metadata": {},
   "source": [
    "\n",
    "In the above implementation, FPS returns sample indices of `coords`.\n",
    "FPS algorithm iterates until it reaches any number of points. The iterative process is as follows:\n",
    "\n",
    "1. Finds the point that is the furthest from all sampling points obtained up to the current iteration. The furthest sample must be a point that is not sampled point yet. \n",
    "2. Add furthest point as a new sampling point.\n"
   ]
  },
  {
   "cell_type": "markdown",
   "metadata": {},
   "source": [
    "## Voxel grid sampling\n",
    "Voxel grid sampling gets average coordinates of points on space subdivided according to the voxel grid. Therefore, samples are points with one point for each grid size.   \n",
    "**Note**: in this subsection, the voxel grid is a 3D space divided into tiny cubes in a grid, and a voxel are the tiny cube.\n",
    "\n",
    "This subsection use the following code:"
   ]
  },
  {
   "cell_type": "code",
   "execution_count": 4,
   "metadata": {},
   "outputs": [],
   "source": [
    "# for voxel grid sampling\n",
    "import numpy as np\n",
    "from tutlibs.sampling import voxel_grid_sampling\n",
    "\n",
    "# for description\n",
    "from tutlibs.io import Points as io\n",
    "from tutlibs.visualization import JupyterVisualizer as jv\n",
    "from tutlibs.transformation import Transformation as tr\n",
    "from tutlibs.utils import single_color\n",
    "import inspect"
   ]
  },
  {
   "cell_type": "code",
   "execution_count": 5,
   "metadata": {},
   "outputs": [
    {
     "data": {
      "application/vnd.jupyter.widget-view+json": {
       "model_id": "f4265844e83e49748a33c3877d418c2e",
       "version_major": 2,
       "version_minor": 0
      },
      "text/plain": [
       "Output()"
      ]
     },
     "metadata": {},
     "output_type": "display_data"
    }
   ],
   "source": [
    "coords, rgb, _ = io.read('../data/bunny_pc.ply')\n",
    "sampled_coords = voxel_grid_sampling(coords, 0.1)\n",
    "\n",
    "# visualization\n",
    "sampled_coords = tr.translation(sampled_coords, np.array([1, 0, 0]))\n",
    "obj_points = jv.point(coords, single_color(\"#ff0000\",len(coords)))\n",
    "obj_sampled_points = jv.point(sampled_coords)\n",
    "jv.display([obj_points, obj_sampled_points])"
   ]
  },
  {
   "cell_type": "markdown",
   "metadata": {},
   "source": [
    "In the above output, red points are original points, blue points are sampled points. The voxel grid sampling function `voxel_grid_sampling` outputs $N$ sample coordinates.\n",
    "\n",
    "Next, let's look at the contents of the `voxel_grid_sampling`."
   ]
  },
  {
   "cell_type": "code",
   "execution_count": 9,
   "metadata": {},
   "outputs": [
    {
     "name": "stdout",
     "output_type": "stream",
     "text": [
      "def voxel_grid_sampling(coords: np.ndarray, voxel_size: float) -> np.ndarray:\n",
      "    \"\"\"Voxel grid sampling\n",
      "\n",
      "    Args:\n",
      "        coords: coords (N, C)\n",
      "        voxel_size: voxel grid size\n",
      "\n",
      "    Returns:\n",
      "        samples: sample coords (M, C)\n",
      "    \"\"\"\n",
      "    N, C = coords.shape\n",
      "    \n",
      "    # get voxel indices.\n",
      "    indices_float = coords / voxel_size\n",
      "    indices = indices_float.astype(np.int32)\n",
      "\n",
      "    # calculate the average coordinate of the point for each voxel.\n",
      "    _, voxel_labels = np.unique(indices, axis=0, return_inverse=True)\n",
      "    df = pd.DataFrame(data=np.concatenate(\n",
      "        [voxel_labels[:, np.newaxis], coords], axis=1), columns=np.arange(C+1))\n",
      "    voxel_mean_df = df.groupby(0).mean()\n",
      "\n",
      "    # use average coordinates as samples.\n",
      "    samples = voxel_mean_df.to_numpy()\n",
      "\n",
      "    return samples\n",
      "\n"
     ]
    }
   ],
   "source": [
    "print(inspect.getsource(voxel_grid_sampling))"
   ]
  },
  {
   "cell_type": "markdown",
   "metadata": {},
   "source": [
    "In the above implementation, `voxel_grid_sampling` returns coordinates of samples. Voxel grid sampling process is as follows:\n",
    "\n",
    "1. Divides each point into voxels. \n",
    "2. For each voxel, calculates the average value of the coordinates of the points in the voxel. This average value becomes the result of sampling."
   ]
  },
  {
   "cell_type": "markdown",
   "metadata": {},
   "source": []
  }
 ],
 "metadata": {
  "interpreter": {
   "hash": "949777d72b0d2535278d3dc13498b2535136f6dfe0678499012e853ee9abcab1"
  },
  "kernelspec": {
   "display_name": "Python 3.8.12 64-bit",
   "language": "python",
   "name": "python3"
  },
  "language_info": {
   "codemirror_mode": {
    "name": "ipython",
    "version": 3
   },
   "file_extension": ".py",
   "mimetype": "text/x-python",
   "name": "python",
   "nbconvert_exporter": "python",
   "pygments_lexer": "ipython3",
   "version": "3.8.11"
  },
  "orig_nbformat": 4
 },
 "nbformat": 4,
 "nbformat_minor": 2
}
