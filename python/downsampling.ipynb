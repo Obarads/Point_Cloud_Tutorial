{
 "cells": [
  {
   "cell_type": "markdown",
   "metadata": {},
   "source": [
    "# Downsampling\n",
    "Downsampling reduces point cloud. The reason for using downsampling are as follows:\n",
    "\n",
    "- Saving memory and processing time : When processing a point cloud with many points, a huge amount of memory and calculation time may be required during processing. By performing down-sampling for such point clouds, we can reduce the burden during processing.\n",
    "- Reducing the complexity of point clouds: Some points in a point cloud are redundant for processing. Downsampling can reduce such points.\n",
    "\n",
    "This section introduce the following downsampling methods. \n",
    "- Random Sampling\n",
    "- FPS (Furthest point sampling)\n",
    "- Voxel grid sampling"
   ]
  },
  {
   "cell_type": "code",
   "execution_count": 1,
   "metadata": {},
   "outputs": [],
   "source": [
    "%load_ext autoreload\n",
    "%autoreload 2"
   ]
  },
  {
   "cell_type": "markdown",
   "metadata": {},
   "source": [
    "## Random sampling\n",
    "Random sampling sample points without"
   ]
  },
  {
   "cell_type": "markdown",
   "metadata": {},
   "source": [
    "## FPS (Furthest point sampling)\n",
    "FPSは反復的にサンプリングを行い、反復時にサンプリングされた点の中から最も遠い点を新たなサンプル点として保存する手法である。この手法では、決められた点の数になるまで点をサンプリングするため、サンプリング点の数を指定しながらも均一な点群を取得したい場合に有用である。\n",
    "\n",
    "本subsectionで使用するコードは以下の通り。"
   ]
  },
  {
   "cell_type": "code",
   "execution_count": 4,
   "metadata": {},
   "outputs": [],
   "source": [
    "# for FPS\n",
    "from tutlibs.sampling import furthest_point_sampling\n",
    "from tutlibs.operator import gather\n",
    "\n",
    "\n",
    "# for description\n",
    "import numpy as np\n",
    "from tutlibs.io import Points as io\n",
    "from tutlibs.visualization import JupyterVisualizer as jv\n",
    "from tutlibs.transformation import Transformation as tr\n",
    "import inspect"
   ]
  },
  {
   "cell_type": "code",
   "execution_count": 5,
   "metadata": {},
   "outputs": [
    {
     "data": {
      "application/vnd.jupyter.widget-view+json": {
       "model_id": "56dca8575d674403a6f7ffd90077e523",
       "version_major": 2,
       "version_minor": 0
      },
      "text/plain": [
       "Output()"
      ]
     },
     "metadata": {},
     "output_type": "display_data"
    }
   ],
   "source": [
    "# load point cloud data.\n",
    "xyz, _, _ = io.read('../data/bunny_pc.ply')\n",
    "\n",
    "# get sample indices from FPS function\n",
    "idxs = furthest_point_sampling(xyz, 500)\n",
    "\n",
    "# get sample points\n",
    "fps_xyz = gather(xyz, idxs)\n",
    "\n",
    "# visualize samples and origin.\n",
    "fps_xyz = tr.translation(fps_xyz, np.array([1, 0, 0]))\n",
    "obj_points = jv.point(xyz)\n",
    "obj_fps_points = jv.point(fps_xyz)\n",
    "jv.display([obj_points, obj_fps_points])"
   ]
  },
  {
   "cell_type": "markdown",
   "metadata": {},
   "source": [
    "上記のコードの出力では、x軸方向に0~1の間にある点群がFPS前の点群、1~2の間にある点群がFPS後の点群を示す。点は指定された数(500個)までダウンサンプリングされている。FPSを実装したfurthest_point_sampling関数では、点群座標値`xyz`とダウンサンプリング数`500`からFPSを介して、`xyz`中のサンプルに対応するインデックス値`idxs`を取得する。\n",
    "\n",
    "次に、アルゴリズムを確認するため、FPS関数の中身を以下に示す。"
   ]
  },
  {
   "cell_type": "code",
   "execution_count": 6,
   "metadata": {},
   "outputs": [
    {
     "name": "stdout",
     "output_type": "stream",
     "text": [
      "def furthest_point_sampling(coords: np.ndarray, num_sample: int) -> np.ndarray:\n",
      "    \"\"\"Furthest point sampling\n",
      "\n",
      "    Args:\n",
      "        coords: coords (N, C)\n",
      "        num_sample: number of sammple\n",
      "\n",
      "    Returns:\n",
      "        indices: sample indices (num_sample)\n",
      "    \"\"\"\n",
      "    N, _ = coords.shape\n",
      "\n",
      "    min_square_dists = np.full(N, 2**16-1, dtype=np.float32)\n",
      "    sample_indices = np.zeros(num_sample, dtype=np.int32)\n",
      "\n",
      "    # Get first index\n",
      "    sample_indices[0] = 0\n",
      "    for i in range(1, num_sample):\n",
      "        # compute square distances between coords and previous sample.\n",
      "        previous_sample = coords[sample_indices[i-1]]\n",
      "        relative_coords = coords - previous_sample[np.newaxis, :]\n",
      "        square_dists = np.sum(relative_coords**2, axis=1)\n",
      "\n",
      "        # update minimum distance between coords and samples.\n",
      "        min_dist_mask = square_dists < min_square_dists\n",
      "        min_square_dists[min_dist_mask] = square_dists[min_dist_mask]\n",
      "\n",
      "        # get new furthest point (sample) index.\n",
      "        sample_indices[i] = np.argmax(min_square_dists)\n",
      "\n",
      "    return sample_indices\n",
      "\n"
     ]
    }
   ],
   "source": [
    "print(inspect.getsource(furthest_point_sampling))"
   ]
  },
  {
   "cell_type": "markdown",
   "metadata": {},
   "source": [
    "上記実装では、返り値がFPSのサンプル(`coords`のインデックス配列)となる。\n",
    "アルゴリズムとしては、指定された点の数だけ点をサンプリングするまで反復処理を行う。反復処理は以下の通り。\n",
    "\n",
    "1. 現在の反復までで得た全てのサンプリング点のいづれからも最遠である点を探す。探す点は、まだサンプリング点として割り当てられていない点である必要がある。\n",
    "   1. 点群の点ごとに最も近いサンプル点との距離を保存する距離配列`min_square_dists`の中で最も距離のある点を探す。\n",
    "2. 最遠である点を新たなサンプリング点として追加する。\n",
    "   1. 追加先は`sample_indices`\n"
   ]
  },
  {
   "cell_type": "markdown",
   "metadata": {},
   "source": [
    "## Voxel grid sampling\n",
    "Voxel grid samplingは点群からボクセルグリッドに従った点をサンプリングするための手法である。この手法では、ボクセルグリッドに沿った点をサンプリングするため、点間距離が等間隔に近い点群を取得することができる。"
   ]
  },
  {
   "cell_type": "code",
   "execution_count": 7,
   "metadata": {},
   "outputs": [],
   "source": [
    "# for voxel grid sampling\n",
    "import numpy as np\n",
    "from tutlibs.sampling import voxel_grid_sampling\n",
    "\n",
    "# for description\n",
    "from tutlibs.io import Points as io\n",
    "from tutlibs.visualization import JupyterVisualizer as jv\n",
    "from tutlibs.transformation import Transformation as tr\n",
    "import inspect"
   ]
  },
  {
   "cell_type": "markdown",
   "metadata": {},
   "source": [
    "コードは以下のとおりです。"
   ]
  },
  {
   "cell_type": "code",
   "execution_count": 8,
   "metadata": {},
   "outputs": [
    {
     "data": {
      "application/vnd.jupyter.widget-view+json": {
       "model_id": "4c4d84c0c8c846988f6d72ff4da81bfc",
       "version_major": 2,
       "version_minor": 0
      },
      "text/plain": [
       "Output()"
      ]
     },
     "metadata": {},
     "output_type": "display_data"
    }
   ],
   "source": [
    "xyz, rgb, _ = io.read('../data/bunny_pc.ply')\n",
    "vgs_xyz = voxel_grid_sampling(xyz, 0.1)\n",
    "\n",
    "# visualization\n",
    "vgs_xyz = tr.translation(vgs_xyz, np.array([1, 0, 0]))\n",
    "obj_points = jv.point(xyz)\n",
    "obj_vgs_points = jv.point(vgs_xyz)\n",
    "jv.display([obj_points, obj_vgs_points])"
   ]
  },
  {
   "cell_type": "markdown",
   "metadata": {},
   "source": [
    "上記のコードの出力では、x軸方向に0~1の間にある点群がVoxel grid sampling前の点群、1~2の間にある点群がVoxel grid sampling後の点群を示す。Voxel grid samplingを実装したvoxel_grid_sampling関数では、点群座標値`xyz`とボクセルサイズ`0.1`からVoxel grid samplingを介して、サンプリングされた新たな点群`vgs_xyz`を取得する。\n",
    "\n",
    "次に、アルゴリズムを確認するため、Voxel_grid_sampling関数の中身を以下に示す。"
   ]
  },
  {
   "cell_type": "code",
   "execution_count": 9,
   "metadata": {},
   "outputs": [
    {
     "name": "stdout",
     "output_type": "stream",
     "text": [
      "def voxel_grid_sampling(coords: np.ndarray, voxel_size: float) -> np.ndarray:\n",
      "    \"\"\"Voxel grid sampling\n",
      "\n",
      "    Args:\n",
      "        coords: coords (N, C)\n",
      "        voxel_size: voxel grid size\n",
      "\n",
      "    Returns:\n",
      "        samples: sample coords (M, C)\n",
      "    \"\"\"\n",
      "    N, C = coords.shape\n",
      "    \n",
      "    # get voxel indices.\n",
      "    indices_float = coords / voxel_size\n",
      "    indices = indices_float.astype(np.int32)\n",
      "\n",
      "    # calculate the average coordinate of the point for each voxel.\n",
      "    _, voxel_labels = np.unique(indices, axis=0, return_inverse=True)\n",
      "    df = pd.DataFrame(data=np.concatenate(\n",
      "        [voxel_labels[:, np.newaxis], coords], axis=1), columns=np.arange(C+1))\n",
      "    voxel_mean_df = df.groupby(0).mean()\n",
      "\n",
      "    # use average coordinates as samples.\n",
      "    samples = voxel_mean_df.to_numpy()\n",
      "\n",
      "    return samples\n",
      "\n"
     ]
    }
   ],
   "source": [
    "print(inspect.getsource(voxel_grid_sampling))"
   ]
  },
  {
   "cell_type": "markdown",
   "metadata": {},
   "source": [
    "上記実装では、返り値がvoxel grid samplingされたサンプルの座標値配列`samples`となる。処理フローは以下の通り。\n",
    "\n",
    "1. ボクセルサイズに従って、各点をどのボクセルに属するか分ける。所属するボクセルをインデックスとここでは呼ぶ。\n",
    "2. インデックスごとに点の座標平均値を求める。この平均値がサンプリングの結果となる。"
   ]
  }
 ],
 "metadata": {
  "interpreter": {
   "hash": "949777d72b0d2535278d3dc13498b2535136f6dfe0678499012e853ee9abcab1"
  },
  "kernelspec": {
   "display_name": "Python 3.8.12 64-bit",
   "language": "python",
   "name": "python3"
  },
  "language_info": {
   "codemirror_mode": {
    "name": "ipython",
    "version": 3
   },
   "file_extension": ".py",
   "mimetype": "text/x-python",
   "name": "python",
   "nbconvert_exporter": "python",
   "pygments_lexer": "ipython3",
   "version": "3.8.12"
  },
  "orig_nbformat": 4
 },
 "nbformat": 4,
 "nbformat_minor": 2
}
