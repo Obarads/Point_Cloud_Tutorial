{
 "cells": [
  {
   "cell_type": "markdown",
   "metadata": {},
   "source": [
    "# Constructing\n",
    "In order to process input data easly, We may want to construct the 3D representation from input data. For example, we can create a point cloud from a depth image to apply point cloud processing such as filtering and ICP. This section introduce method to construct 3D and 2.5D representations from other representations. \n",
    "\n",
    "The section use methods as following:\n",
    "- To a point cloud\n",
    "  - From triangle meshes\n",
    "  - From a depth image\n",
    "  - From voxels\n",
    "- To voxels\n",
    "  - From a point cloud\n",
    "  - From triangle meshes\n",
    "- To triangle meshes\n",
    "  - From voxels\n"
   ]
  },
  {
   "cell_type": "code",
   "execution_count": 1,
   "metadata": {},
   "outputs": [],
   "source": [
    "%load_ext autoreload\n",
    "%autoreload 2"
   ]
  },
  {
   "cell_type": "markdown",
   "metadata": {},
   "source": [
    "## To a point cloud"
   ]
  },
  {
   "cell_type": "markdown",
   "metadata": {},
   "source": [
    "### From triangle meshes\n",
    "\n",
    "This subsection intorduce a method to sample a point cloud from a triangle meshes. The subsection tutorial use following code:"
   ]
  },
  {
   "cell_type": "code",
   "execution_count": 2,
   "metadata": {},
   "outputs": [
    {
     "name": "stdout",
     "output_type": "stream",
     "text": [
      "Jupyter environment detected. Enabling Open3D WebVisualizer.\n",
      "[Open3D INFO] WebRTC GUI backend enabled.\n",
      "[Open3D INFO] WebRTCWindowSystem: HTTP handshake server disabled.\n"
     ]
    }
   ],
   "source": [
    "from tutlibs.constructing import mesh_to_point\n",
    "from tutlibs.io import Mesh\n",
    "from tutlibs.visualization import JupyterVisualizer as jv"
   ]
  },
  {
   "cell_type": "code",
   "execution_count": 5,
   "metadata": {},
   "outputs": [
    {
     "data": {
      "application/vnd.jupyter.widget-view+json": {
       "model_id": "8b269ecc97174de582c747568a366df0",
       "version_major": 2,
       "version_minor": 0
      },
      "text/plain": [
       "Output()"
      ]
     },
     "metadata": {},
     "output_type": "display_data"
    }
   ],
   "source": [
    "vertices, triangles, data = Mesh.read(\"../data/bunny_tm.ply\")\n",
    "point_cloud = mesh_to_point(vertices, triangles, 2000)\n",
    "obj_points = jv.point(point_cloud, point_size=0.005)\n",
    "jv.display([obj_points])"
   ]
  },
  {
   "cell_type": "markdown",
   "metadata": {},
   "source": [
    "This output show a point cloud sampled from triangle meshs."
   ]
  },
  {
   "cell_type": "markdown",
   "metadata": {},
   "source": [
    "### From a depth image\n",
    "This subsection intorduce a method to construct a point cloud from a depth image. The subsection tutorial use following code:"
   ]
  },
  {
   "cell_type": "code",
   "execution_count": 6,
   "metadata": {},
   "outputs": [],
   "source": [
    "import cv2\n",
    "from tutlibs.constructing import depth_to_point\n",
    "from tutlibs.visualization import JupyterVisualizer as jv"
   ]
  },
  {
   "cell_type": "code",
   "execution_count": 7,
   "metadata": {},
   "outputs": [
    {
     "data": {
      "application/vnd.jupyter.widget-view+json": {
       "model_id": "0fadfa4caf4f43be9a1324de05be09f0",
       "version_major": 2,
       "version_minor": 0
      },
      "text/plain": [
       "Output()"
      ]
     },
     "metadata": {},
     "output_type": "display_data"
    }
   ],
   "source": [
    "fx = fy = 525\n",
    "cx = 319.5\n",
    "cy = 239.5\n",
    "\n",
    "depth_image = cv2.imread(\"../data/redwood_3dscan_depth.png\", -1)\n",
    "point_cloud, _ = depth_to_point(depth_image, fx, fy, cx, cy)\n",
    "obj_points = jv.point(point_cloud)\n",
    "jv.display([obj_points])"
   ]
  },
  {
   "cell_type": "markdown",
   "metadata": {},
   "source": [
    "This output show a point cloud constructed from a depth image."
   ]
  },
  {
   "cell_type": "markdown",
   "metadata": {},
   "source": [
    "### From voxels\n",
    "This subsection intorduce a method to construct a point cloud from voxels. The subsection tutorial use following code:"
   ]
  },
  {
   "cell_type": "code",
   "execution_count": 36,
   "metadata": {},
   "outputs": [],
   "source": [
    "import numpy as np\n",
    "from tutlibs.constructing import voxel_to_point\n",
    "from tutlibs.visualization import JupyterVisualizer as jv"
   ]
  },
  {
   "cell_type": "code",
   "execution_count": 38,
   "metadata": {},
   "outputs": [
    {
     "data": {
      "application/vnd.jupyter.widget-view+json": {
       "model_id": "76993504473043908ee9e10b899fb99b",
       "version_major": 2,
       "version_minor": 0
      },
      "text/plain": [
       "Output()"
      ]
     },
     "metadata": {},
     "output_type": "display_data"
    }
   ],
   "source": [
    "voxels = np.load(\"../data/bunny_vox.npy\")\n",
    "point_cloud = voxel_to_point(voxels)\n",
    "obj_points = jv.point(point_cloud, point_size=0.5)\n",
    "jv.display([obj_points])"
   ]
  },
  {
   "cell_type": "markdown",
   "metadata": {},
   "source": [
    "This output show a point cloud constructed from voxels."
   ]
  },
  {
   "cell_type": "markdown",
   "metadata": {},
   "source": [
    "## To voxels\n",
    "### From a point cloud\n",
    "This subsection intorduce a method to construct voxels from a point cloud. The subsection tutorial use following code:"
   ]
  },
  {
   "cell_type": "code",
   "execution_count": 32,
   "metadata": {},
   "outputs": [
    {
     "name": "stdout",
     "output_type": "stream",
     "text": [
      "Jupyter environment detected. Enabling Open3D WebVisualizer.\n",
      "[Open3D INFO] WebRTC GUI backend enabled.\n",
      "[Open3D INFO] WebRTCWindowSystem: HTTP handshake server disabled.\n"
     ]
    }
   ],
   "source": [
    "import numpy as np\n",
    "from tutlibs.io import Points\n",
    "from tutlibs.constructing import point_to_voxel\n",
    "from tutlibs.visualization import JupyterVisualizer as jv"
   ]
  },
  {
   "cell_type": "code",
   "execution_count": 33,
   "metadata": {},
   "outputs": [
    {
     "data": {
      "application/vnd.jupyter.widget-view+json": {
       "model_id": "faf0dc6c862a4283b97b684936e8b195",
       "version_major": 2,
       "version_minor": 0
      },
      "text/plain": [
       "Output()"
      ]
     },
     "metadata": {},
     "output_type": "display_data"
    }
   ],
   "source": [
    "coords, _, _ = Points.read(\"../data/bunny_pc.ply\")\n",
    "voxels = point_to_voxel(coords, 0.05)\n",
    "obj_voxels = jv.voxel(voxels)\n",
    "jv.display([obj_voxels])"
   ]
  },
  {
   "cell_type": "markdown",
   "metadata": {},
   "source": [
    "This output show voxels constructed from a point cloud."
   ]
  },
  {
   "cell_type": "markdown",
   "metadata": {},
   "source": [
    "## To triangle meshes\n",
    "### From voxels\n",
    "This subsection intorduce a method to construct triangle meshes from a point cloud. The subsection tutorial use following code:"
   ]
  },
  {
   "cell_type": "code",
   "execution_count": 52,
   "metadata": {},
   "outputs": [],
   "source": [
    "from tutlibs.constructing import marching_cubes\n",
    "\n",
    "import numpy as np\n",
    "from tutlibs.transformation import Transformation as tr\n",
    "from tutlibs.visualization import JupyterVisualizer as jv"
   ]
  },
  {
   "cell_type": "code",
   "execution_count": 72,
   "metadata": {},
   "outputs": [
    {
     "name": "stderr",
     "output_type": "stream",
     "text": [
      "/home/obarads/anaconda3/envs/pct/lib/python3.8/site-packages/traittypes/traittypes.py:97: UserWarning: Given trait value dtype \"float64\" does not match required type \"float32\". A coerced copy has been created.\n",
      "  warnings.warn(\n",
      "/home/obarads/anaconda3/envs/pct/lib/python3.8/site-packages/traittypes/traittypes.py:97: UserWarning: Given trait value dtype \"int64\" does not match required type \"uint32\". A coerced copy has been created.\n",
      "  warnings.warn(\n"
     ]
    },
    {
     "data": {
      "application/vnd.jupyter.widget-view+json": {
       "model_id": "dccb8d25e32d40a8a3e473f2b8f6ef0a",
       "version_major": 2,
       "version_minor": 0
      },
      "text/plain": [
       "Output()"
      ]
     },
     "metadata": {},
     "output_type": "display_data"
    }
   ],
   "source": [
    "voxels = np.load(\"../data/bunny_vox.npy\")\n",
    "N, _, _ = voxels.shape\n",
    "\n",
    "new_voxels = np.zeros((N+2, N+2, N+2))\n",
    "new_voxels[1:N+1, 1:N+1, 1:N+1] = voxels\n",
    "\n",
    "# TODO tell surface\n",
    "vertices, triangles = marching_cubes(new_voxels)\n",
    "\n",
    "vertices = tr.translation(vertices, np.array([N-1, 0-1, 0-1]))\n",
    "obj_voxels = jv.voxel(voxels)\n",
    "obj_meshes = jv.mesh(vertices, triangles)\n",
    "jv.display([obj_voxels, obj_meshes])"
   ]
  },
  {
   "cell_type": "markdown",
   "metadata": {},
   "source": []
  }
 ],
 "metadata": {
  "interpreter": {
   "hash": "4c91531a0e2e4561d1cac2e06dfc843726192e7f538df43fb5db11aeeb53424a"
  },
  "kernelspec": {
   "display_name": "Python 3",
   "language": "python",
   "name": "python3"
  },
  "language_info": {
   "codemirror_mode": {
    "name": "ipython",
    "version": 3
   },
   "file_extension": ".py",
   "mimetype": "text/x-python",
   "name": "python",
   "nbconvert_exporter": "python",
   "pygments_lexer": "ipython3",
   "version": "3.8.12"
  }
 },
 "nbformat": 4,
 "nbformat_minor": 2
}
