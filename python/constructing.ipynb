{
 "cells": [
  {
   "cell_type": "markdown",
   "metadata": {},
   "source": [
    "# Constructing\n",
    "In order to process input data easly, We may want to construct the 3D representation from input data. For example, we can create a point cloud from a depth image to apply point cloud processing such as filtering and ICP. This section introduce method to construct 3D and 2.5D representations from other representations. \n",
    "\n",
    "The section use methods as following:\n",
    "- To a point cloud\n",
    "  - From triangle meshs\n",
    "  - From a depth image\n",
    "  - From voxels\n",
    "- To voxels\n",
    "  - From a point cloud\n",
    "  - From triangle meshs\n"
   ]
  },
  {
   "cell_type": "code",
   "execution_count": 1,
   "metadata": {},
   "outputs": [],
   "source": [
    "%load_ext autoreload\n",
    "%autoreload 2"
   ]
  },
  {
   "cell_type": "markdown",
   "metadata": {},
   "source": [
    "## To a point cloud"
   ]
  },
  {
   "cell_type": "markdown",
   "metadata": {},
   "source": [
    "### From triangle meshs\n",
    "\n",
    "This subsection intorduce a method to sample a point cloud from a triangle meshs. The subsection tutorial use following code:"
   ]
  },
  {
   "cell_type": "code",
   "execution_count": 2,
   "metadata": {},
   "outputs": [
    {
     "name": "stdout",
     "output_type": "stream",
     "text": [
      "Jupyter environment detected. Enabling Open3D WebVisualizer.\n",
      "[Open3D INFO] WebRTC GUI backend enabled.\n",
      "[Open3D INFO] WebRTCWindowSystem: HTTP handshake server disabled.\n"
     ]
    }
   ],
   "source": [
    "from tutlibs.constructing import mesh_to_point\n",
    "from tutlibs.io import Mesh\n",
    "from tutlibs.visualization import JupyterVisualizer as jv"
   ]
  },
  {
   "cell_type": "code",
   "execution_count": 5,
   "metadata": {},
   "outputs": [
    {
     "data": {
      "application/vnd.jupyter.widget-view+json": {
       "model_id": "8b269ecc97174de582c747568a366df0",
       "version_major": 2,
       "version_minor": 0
      },
      "text/plain": [
       "Output()"
      ]
     },
     "metadata": {},
     "output_type": "display_data"
    }
   ],
   "source": [
    "vertices, triangles, data = Mesh.read(\"../data/bunny_tm.ply\")\n",
    "point_cloud = mesh_to_point(vertices, triangles, 2000)\n",
    "obj_points = jv.point(point_cloud, point_size=0.005)\n",
    "jv.display([obj_points])"
   ]
  },
  {
   "cell_type": "markdown",
   "metadata": {},
   "source": [
    "This output show a point cloud sampled from triangle meshs."
   ]
  },
  {
   "cell_type": "markdown",
   "metadata": {},
   "source": [
    "### From a depth image\n",
    "This subsection intorduce a method to construct a point cloud from a depth image. The subsection tutorial use following code:"
   ]
  },
  {
   "cell_type": "code",
   "execution_count": 6,
   "metadata": {},
   "outputs": [],
   "source": [
    "import cv2\n",
    "from tutlibs.constructing import depth_to_point\n",
    "from tutlibs.visualization import JupyterVisualizer as jv"
   ]
  },
  {
   "cell_type": "code",
   "execution_count": 7,
   "metadata": {},
   "outputs": [
    {
     "data": {
      "application/vnd.jupyter.widget-view+json": {
       "model_id": "0fadfa4caf4f43be9a1324de05be09f0",
       "version_major": 2,
       "version_minor": 0
      },
      "text/plain": [
       "Output()"
      ]
     },
     "metadata": {},
     "output_type": "display_data"
    }
   ],
   "source": [
    "fx = fy = 525\n",
    "cx = 319.5\n",
    "cy = 239.5\n",
    "\n",
    "depth_image = cv2.imread(\"../data/redwood_3dscan_depth.png\", -1)\n",
    "point_cloud, _ = depth_to_point(depth_image, fx, fy, cx, cy)\n",
    "obj_points = jv.point(point_cloud)\n",
    "jv.display([obj_points])"
   ]
  },
  {
   "cell_type": "markdown",
   "metadata": {},
   "source": [
    "This output show a point cloud constructed from a depth image."
   ]
  },
  {
   "cell_type": "markdown",
   "metadata": {},
   "source": [
    "### From voxels\n",
    "This subsection intorduce a method to construct a point cloud from voxels. The subsection tutorial use following code:"
   ]
  },
  {
   "cell_type": "code",
   "execution_count": 8,
   "metadata": {},
   "outputs": [],
   "source": [
    "import numpy as np\n",
    "from tutlibs.constructing import voxel_to_point\n",
    "from tutlibs.visualization import JupyterVisualizer as jv"
   ]
  },
  {
   "cell_type": "code",
   "execution_count": 11,
   "metadata": {},
   "outputs": [
    {
     "data": {
      "application/vnd.jupyter.widget-view+json": {
       "model_id": "3241d1f5472848bb94ad52b9a22679ca",
       "version_major": 2,
       "version_minor": 0
      },
      "text/plain": [
       "Output()"
      ]
     },
     "metadata": {},
     "output_type": "display_data"
    }
   ],
   "source": [
    "voxels = np.load(\"../data/bunny_vox.npy\")\n",
    "point_cloud = voxel_to_point(voxels)\n",
    "obj_points = jv.point(point_cloud, point_size=0.5)\n",
    "jv.display([obj_points])"
   ]
  },
  {
   "cell_type": "markdown",
   "metadata": {},
   "source": [
    "This output show a point cloud constructed from voxels."
   ]
  },
  {
   "cell_type": "markdown",
   "metadata": {},
   "source": [
    "## To voxels\n",
    "### From a point cloud\n",
    "This subsection intorduce a method to construct voxels from a point cloud. The subsection tutorial use following code:"
   ]
  },
  {
   "cell_type": "code",
   "execution_count": 2,
   "metadata": {},
   "outputs": [
    {
     "name": "stdout",
     "output_type": "stream",
     "text": [
      "Jupyter environment detected. Enabling Open3D WebVisualizer.\n",
      "[Open3D INFO] WebRTC GUI backend enabled.\n",
      "[Open3D INFO] WebRTCWindowSystem: HTTP handshake server disabled.\n"
     ]
    }
   ],
   "source": [
    "import numpy as np\n",
    "from tutlibs.io import Points\n",
    "from tutlibs.constructing import point_to_voxel\n",
    "from tutlibs.visualization import JupyterVisualizer as jv"
   ]
  },
  {
   "cell_type": "code",
   "execution_count": 5,
   "metadata": {},
   "outputs": [
    {
     "data": {
      "application/vnd.jupyter.widget-view+json": {
       "model_id": "be00327f1a934d409392bf6e1b2b2155",
       "version_major": 2,
       "version_minor": 0
      },
      "text/plain": [
       "Output()"
      ]
     },
     "metadata": {},
     "output_type": "display_data"
    }
   ],
   "source": [
    "coords, _, _ = Points.read(\"../data/bunny_pc.ply\")\n",
    "voxels = point_to_voxel(coords, 0.05)\n",
    "obj_voxels = jv.voxel(voxels)\n",
    "jv.display([obj_voxels])"
   ]
  },
  {
   "cell_type": "markdown",
   "metadata": {},
   "source": [
    "This output show voxels constructed from a point cloud."
   ]
  },
  {
   "cell_type": "markdown",
   "metadata": {},
   "source": []
  }
 ],
 "metadata": {
  "interpreter": {
   "hash": "4c91531a0e2e4561d1cac2e06dfc843726192e7f538df43fb5db11aeeb53424a"
  },
  "kernelspec": {
   "display_name": "Python 3",
   "language": "python",
   "name": "python3"
  },
  "language_info": {
   "codemirror_mode": {
    "name": "ipython",
    "version": 3
   },
   "file_extension": ".py",
   "mimetype": "text/x-python",
   "name": "python",
   "nbconvert_exporter": "python",
   "pygments_lexer": "ipython3",
   "version": "3.8.11"
  }
 },
 "nbformat": 4,
 "nbformat_minor": 2
}
