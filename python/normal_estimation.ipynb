{
 "cells": [
  {
   "cell_type": "markdown",
   "metadata": {},
   "source": [
    "# Normal Estimation\n",
    "There are cases where normal information is used in point cloud processing.\n",
    "1. to generate handcrafted features such as PFH, the normal information of each point is required.\n",
    "2. we compute normals to create 3D object surface information from a scanned point cloud.\n",
    "\n",
    "If points have only coordinates, we need to estimate normals from points and other information. In this section, we introduce methods to estimate normals from coordinates of points.\n",
    "\n",
    "This section introduce the following normal estimation methods. \n",
    "- Estimation with covariance matrix\n",
    "- Normal re-orientation method"
   ]
  },
  {
   "cell_type": "code",
   "execution_count": 1,
   "metadata": {},
   "outputs": [],
   "source": [
    "%load_ext autoreload\n",
    "%autoreload 2"
   ]
  },
  {
   "cell_type": "markdown",
   "metadata": {},
   "source": [
    "## Estimation with PCA\n",
    "In this subsection, we introduce a simple method that estimates normals for each point. This method calculates the third principal component via PCA (Principal Component Analysis) from neighbors of a point.\n",
    "\n",
    "The code for normal estimation is as follows."
   ]
  },
  {
   "cell_type": "code",
   "execution_count": 2,
   "metadata": {},
   "outputs": [
    {
     "name": "stdout",
     "output_type": "stream",
     "text": [
      "Jupyter environment detected. Enabling Open3D WebVisualizer.\n",
      "[Open3D INFO] WebRTC GUI backend enabled.\n",
      "[Open3D INFO] WebRTCWindowSystem: HTTP handshake server disabled.\n"
     ]
    }
   ],
   "source": [
    "# for normal estimation\n",
    "import numpy as np\n",
    "from tutlibs.normal_estimation import normal_estimation, normal_orientation\n",
    "\n",
    "# for description\n",
    "from tutlibs.io import Points as io\n",
    "from tutlibs.transformation import Transformation as tr\n",
    "from tutlibs.visualization import JupyterVisualizer as jv\n",
    "import inspect\n"
   ]
  },
  {
   "cell_type": "code",
   "execution_count": 3,
   "metadata": {},
   "outputs": [
    {
     "data": {
      "application/vnd.jupyter.widget-view+json": {
       "model_id": "d75393a8a9e6422ca5dece05d2f45bf7",
       "version_major": 2,
       "version_minor": 0
      },
      "text/plain": [
       "Output()"
      ]
     },
     "metadata": {},
     "output_type": "display_data"
    }
   ],
   "source": [
    "# Load a point cloud\n",
    "xyz, _, data = io.read(\"../data/bunny_pc.ply\")\n",
    "\n",
    "# Estimate normals\n",
    "k = 15\n",
    "estimation_normals = normal_estimation(xyz, k=k)\n",
    "\n",
    "# Get GT normals\n",
    "gt_normals = np.stack([data[\"nx\"], data[\"ny\"], data[\"nz\"]], axis=-1)\n",
    "\n",
    "# Visualizaiton\n",
    "obj_gt_points = jv.point(\n",
    "    tr.translation(xyz, np.array([1, 0, 0])),  # translation for comparing\n",
    "    gt_normals,\n",
    "    color_range=[-1, 1],\n",
    "    point_size=0.02,\n",
    ")\n",
    "obj_estimation_points = jv.point(\n",
    "    xyz, estimation_normals, color_range=[-1, 1], point_size=0.02\n",
    ")\n",
    "jv.display([obj_gt_points, obj_estimation_points])\n"
   ]
  },
  {
   "cell_type": "markdown",
   "metadata": {},
   "source": [
    "In the above output, the point cloud between 0~1 in the x-axis is a normal estimation result, and the point cloud between 1~2 has GT normals. Points are colored by the normal map.\n",
    "The normal map of estimation result is speckled because the calculation cannot estimate the sign of the normal. In later subsection (Normal re-orientation method), we will introduce how to align the signs of the normals.\n",
    "\n",
    "Next, we look at the contents of the `normal_estimation` function."
   ]
  },
  {
   "cell_type": "code",
   "execution_count": 4,
   "metadata": {},
   "outputs": [
    {
     "name": "stdout",
     "output_type": "stream",
     "text": [
      "def normal_estimation(coords: np.ndarray, k: int = 10) -> np.ndarray:\n",
      "    \"\"\"Estimate normals each point with eigenvector of covariance matrix.\n",
      "    This function use k nearest neighbor (kNN) to get covariance matrixs.\n",
      "\n",
      "    Args:\n",
      "        coords: coordinates of points, (N, 3)\n",
      "        k: number of neighbor for kNN\n",
      "\n",
      "    Returns\n",
      "        normals: estimated normals (N, 3)\n",
      "    \"\"\"\n",
      "    # Get neighbor points. (TODO: add radius)\n",
      "    idxs, _ = k_nearest_neighbors(coords, coords, k)\n",
      "    knn_points = gather(coords, idxs)\n",
      "\n",
      "    # Get covariance matrix of each point.\n",
      "    knn_mean_points = np.mean(knn_points, axis=-2, keepdims=True)\n",
      "    deviation = knn_points - knn_mean_points\n",
      "    deviation_t = deviation.transpose(0, 2, 1)\n",
      "    covariance_matrixs = np.matmul(deviation_t, deviation) / k  # (N, 3, 3)\n",
      "\n",
      "    # Get eigenvector and eigenvalue of each point\n",
      "    w, v = np.linalg.eig(covariance_matrixs.transpose(0, 2, 1))\n",
      "    # w, v = np.linalg.eig(covariance_matrixs)\n",
      "    w_min_idxs = np.argmin(w, axis=1)\n",
      "\n",
      "    # Get normal of each point (1)\n",
      "    normals = np.take_along_axis(v, w_min_idxs[:, np.newaxis, np.newaxis], axis=2)\n",
      "    normals = normals.squeeze(2)  # (N, normal_vector, 1) -> (N, normal_vector)\n",
      "\n",
      "    return normals\n",
      "\n"
     ]
    }
   ],
   "source": [
    "print(inspect.getsource(normal_estimation))\n"
   ]
  },
  {
   "cell_type": "markdown",
   "metadata": {},
   "source": [
    "In the above implementation, `normal_estimation` returns normals by point. The definition of normal estimation in the above implementation is as follows: given a point cloud $P=[p_1, p_2, ..., p_m, ..., p_M]$ have $M$ points with XYZ coordinates, we estimate normals $N=[n_1, n_2, ..., n_M]$ of points.\n",
    "\n",
    "The estimation process is as follows:\n",
    "\n",
    "1. `Get neighbor points.`: 法線を最近傍手法(本subsectionではkNN)を用いて、点群中の各点$p_m$は近傍点$p'_m=[p'_{m_1}, p'_{m_2}, ..., p'_{m_K}]$($p_m$を含む)を取得する。点群中の全ての点の近傍点は$P'=[p'_1, p'_2, ..., p'_m, ..., p'_M]$となる。\n",
    "2. `Get covariance matrix of each point.`: $p_m$ごとに$p'_m$の点の分布を取得するため、Covariance Matrixを求める。$\\overline{p}$を$p'_m$の平均座標値としたとき、Convariance Matrix $c_m$の式は次の通り:\n",
    "    $$\n",
    "    \\mathcal{C_m}=\\frac{1}{K} \\sum_{i=1}^{K} \\left(\\boldsymbol{p}'_{m_i}-\\overline{\\boldsymbol{p}}\\right) \\cdot\\left(\\boldsymbol{p}'_{m_i}-\\overline{\\boldsymbol{p}}\\right)^{T}\n",
    "    $$\n",
    "    $c$はM個あるため、$c_1, c_2, ..., c_m, ..., c_M$を取得する。\n",
    "3. `Get eigenvector and eigenvalue of each point`: 点が最も広がっていない方向を算出するため、$c_m$から固有値と固有ベクトルを取得する。最も低い固有値は点が最も広がっていない方向を指す固有ベクトルに対応する。\n",
    "4. `Get normal of each point`: 最も低い固有値に対応する固有ベクトルを法線として、法線を割り振る。\n"
   ]
  },
  {
   "cell_type": "markdown",
   "metadata": {},
   "source": [
    "## Normal re-orientation method\n",
    "Estimated normals may not be aligned because the above simple method cannot estimate the sign of the normal. In this subsection, we introduce normal re-orientation method to align direction of normal."
   ]
  },
  {
   "cell_type": "markdown",
   "metadata": {},
   "source": [
    "### Minimum spanning tree method\n",
    "One way to deal with this problem is to use the tree structure of the minimum-wide tree for orientation. We align the normals of points in order, depending on the tree structure.\n",
    "\n",
    "The code for the method is as follows."
   ]
  },
  {
   "cell_type": "code",
   "execution_count": 4,
   "metadata": {},
   "outputs": [],
   "source": [
    "# for normal estimation\n",
    "import numpy as np\n",
    "from tutlibs.normal_estimation import normal_estimation, normal_orientation\n",
    "\n",
    "# for description\n",
    "from tutlibs.io import Points as io\n",
    "\n",
    "# from tutlibs.constructing import depth_to_point\n",
    "from tutlibs.transformation import Transformation as tr\n",
    "from tutlibs.visualization import JupyterVisualizer as jv\n",
    "import inspect\n"
   ]
  },
  {
   "cell_type": "code",
   "execution_count": 5,
   "metadata": {},
   "outputs": [
    {
     "data": {
      "application/vnd.jupyter.widget-view+json": {
       "model_id": "f1fccfae78bc4c3e920bd9fda2da08e2",
       "version_major": 2,
       "version_minor": 0
      },
      "text/plain": [
       "Output()"
      ]
     },
     "metadata": {},
     "output_type": "display_data"
    }
   ],
   "source": [
    "# Load a point cloud\n",
    "xyz, _, data = io.read(\"../data/bunny_pc.ply\")\n",
    "\n",
    "# Estimate normals\n",
    "k = 15\n",
    "estimation_normals = normal_estimation(xyz, k=k)\n",
    "\n",
    "# with Orientation\n",
    "ori_estimation_normals = normal_orientation(xyz, estimation_normals)\n",
    "\n",
    "# Get GT normals\n",
    "gt_normals = np.stack([data[\"nx\"], data[\"ny\"], data[\"nz\"]], axis=-1)\n",
    "\n",
    "# visualization\n",
    "obj_gt_points = jv.point(\n",
    "    tr.translation(xyz, np.array([2, 0, 0])),  # translation for comparing\n",
    "    gt_normals,\n",
    "    color_range=[-1, 1],\n",
    "    point_size=0.02,\n",
    ")\n",
    "obj_estimation_points = jv.point(\n",
    "    xyz, estimation_normals, color_range=[-1, 1], point_size=0.02\n",
    ")\n",
    "obj_ori_estimation_points = jv.point(\n",
    "    tr.translation(xyz, np.array([1, 0, 0])),  # translation for comparing\n",
    "    ori_estimation_normals,\n",
    "    color_range=[-1, 1],\n",
    "    point_size=0.02,\n",
    ")\n",
    "jv.display([obj_gt_points, obj_estimation_points, obj_ori_estimation_points])\n"
   ]
  },
  {
   "cell_type": "markdown",
   "metadata": {},
   "source": [
    "In the above output, the point cloud between 0~1 in the x-axis is a normal estimation result, 1~2 is the re-orienteand points, and 2~3 has GT normals. The re-orientation method is done by the `normal_orientation` function.\n"
   ]
  },
  {
   "cell_type": "markdown",
   "metadata": {},
   "source": [
    "### Re-orientation with Viewpoint direction\n",
    "When acquiring a point cloud from a single viewpoint, it is possible to align the direction of the normal by referring to the viewpoint direction.\n",
    "\n",
    "Given the viewpoint position $\\mathrm{v}_{p}$ and the normal $\\overrightarrow{\\boldsymbol{n}}_{i}$ of a point $\\boldsymbol{p}_{i}$, the new normal $\\overrightarrow{\\boldsymbol{n'}}_{i}$ is as follows:\n",
    "<!-- 視点位置vpと点pの法線nがあるとき、新しい法線niは以下の通り。 -->\n",
    "\n",
    "$$\n",
    "f(x) = \\left\\{\n",
    "\\begin{array}{ll}\n",
    "1 & (x \\leqq 0)\\\\\n",
    "-1 & (x > 0)\n",
    "\\end{array}\n",
    "\\right.\n",
    "$$\n",
    "\n",
    "$$\n",
    "\\overrightarrow{\\boldsymbol{n'}}_{i} = \\overrightarrow{\\boldsymbol{n}}_{i} f(\\overrightarrow{\\boldsymbol{n}}_{i} \\cdot\\left(\\mathrm{v}_{p}-\\boldsymbol{p}_{i}\\right))\n",
    "$$"
   ]
  },
  {
   "cell_type": "code",
   "execution_count": 2,
   "metadata": {},
   "outputs": [
    {
     "name": "stdout",
     "output_type": "stream",
     "text": [
      "Jupyter environment detected. Enabling Open3D WebVisualizer.\n",
      "[Open3D INFO] WebRTC GUI backend enabled.\n",
      "[Open3D INFO] WebRTCWindowSystem: HTTP handshake server disabled.\n"
     ]
    }
   ],
   "source": [
    "# for normal estimation\n",
    "import numpy as np\n",
    "from tutlibs.normal_estimation import (\n",
    "    normal_estimation,\n",
    "    normal_orientation_with_viewpoint,\n",
    ")\n",
    "\n",
    "# for description\n",
    "from tutlibs.io import Points as io\n",
    "from tutlibs.transformation import Transformation as tr\n",
    "from tutlibs.visualization import JupyterVisualizer as jv\n",
    "import inspect\n"
   ]
  },
  {
   "cell_type": "code",
   "execution_count": 5,
   "metadata": {},
   "outputs": [
    {
     "data": {
      "application/vnd.jupyter.widget-view+json": {
       "model_id": "847802bf819e4ed89709d0aaaa8dc1b3",
       "version_major": 2,
       "version_minor": 0
      },
      "text/plain": [
       "Output()"
      ]
     },
     "metadata": {},
     "output_type": "display_data"
    }
   ],
   "source": [
    "# Load a point cloud\n",
    "coords, _, data = io.read(\"../data/bunny_pc.ply\")\n",
    "coords = coords - (np.max(coords, axis=0) - np.min(coords, axis=0)) / 2\n",
    "coords = tr.translation(coords, np.array([0, 0, 1]))\n",
    "\n",
    "from tutlibs.visualization import JupyterVisualizerUtils as jvu\n",
    "\n",
    "# Estimate normals\n",
    "k = 15\n",
    "estimation_normals = normal_estimation(coords, k=k)\n",
    "\n",
    "# with Orientation\n",
    "ori_estimation_normals = normal_orientation_with_viewpoint(\n",
    "    coords, estimation_normals, np.array([0, 0, 0])\n",
    ")\n",
    "\n",
    "# Get GT normals\n",
    "gt_normals = np.stack([data[\"nx\"], data[\"ny\"], data[\"nz\"]], axis=-1)\n",
    "\n",
    "# visualization\n",
    "obj_gt_points = jv.point(\n",
    "    tr.translation(coords, np.array([1, 0, 0])),  # translation for comparing\n",
    "    gt_normals,\n",
    "    color_range=[-1, 1],\n",
    "    point_size=0.02,\n",
    ")\n",
    "obj_estimation_points = jv.point(\n",
    "    tr.translation(coords, np.array([-1, 0, 0])),  # translation for comparing\n",
    "    estimation_normals,\n",
    "    color_range=[-1, 1],\n",
    "    point_size=0.02,\n",
    ")\n",
    "obj_ori_estimation_points = jv.point(\n",
    "    coords,\n",
    "    ori_estimation_normals,\n",
    "    color_range=[-1, 1],\n",
    "    point_size=0.02,\n",
    ")\n",
    "jv.display([obj_gt_points, obj_estimation_points, obj_ori_estimation_points])\n"
   ]
  },
  {
   "cell_type": "markdown",
   "metadata": {},
   "source": [
    "In the above output, a left point cloud in the x-axis is a normal estimation result, a center point cloud is the re-orienteand points, and a right point cloud has GT normals. The re-orientation method is done by the `normal_orientation_with_viewpoint` function. A viewpoint is (0, 0, 0) coordinates.\n",
    "Note that normal estimation for other side of the object from the viewpoint is not correct.\n"
   ]
  },
  {
   "cell_type": "markdown",
   "metadata": {},
   "source": [
    "## References"
   ]
  },
  {
   "cell_type": "code",
   "execution_count": null,
   "metadata": {},
   "outputs": [],
   "source": []
  },
  {
   "cell_type": "markdown",
   "metadata": {},
   "source": []
  }
 ],
 "metadata": {
  "interpreter": {
   "hash": "949777d72b0d2535278d3dc13498b2535136f6dfe0678499012e853ee9abcab1"
  },
  "kernelspec": {
   "display_name": "Python 3.8.12 64-bit",
   "name": "python3"
  },
  "language_info": {
   "codemirror_mode": {
    "name": "ipython",
    "version": 3
   },
   "file_extension": ".py",
   "mimetype": "text/x-python",
   "name": "python",
   "nbconvert_exporter": "python",
   "pygments_lexer": "ipython3",
   "version": "3.8.11"
  },
  "orig_nbformat": 4
 },
 "nbformat": 4,
 "nbformat_minor": 2
}
