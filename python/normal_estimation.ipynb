{
 "cells": [
  {
   "cell_type": "markdown",
   "metadata": {},
   "source": [
    "# Normal Estimation\n",
    "## Abstract\n",
    "- 本章では、点群の法線推定について説明する。\n",
    "\n",
    "## Introduction\n",
    "点群では法線情報を使う場合があり、その様な場面として以下の例が挙げられる。\n",
    "1. PFH等のHandcrafted featureを生成するため、点ごとの法線情報が必要となる。\n",
    "2. スキャンした点群から表面情報を持つ3Dオブジェクトデータを作成するため、法線情報を使用する。\n",
    "\n",
    "しかしながら、法線を取得したい点群自身が座標値のみしか持ってない場合も考えられる。この様に点群が法線情報を持っていない状況には、点群の座標値を参照して法線を推定する方法が解決策になる可能性がある。\n",
    "本sectionでは、法線情報を持たない点群が与えられた場合に、その法線を推定する方法について紹介する。\n",
    "\n",
    "本チュートリアルの説明の流れは以下の通りである。\n",
    "- (1) 座標値XYZのみを持つ点群に対して法線を推定する。内容は以下のsubsectionごとにまとめられる。\n",
    "  - Estimation with Covariance Matrix\n",
    "- (2) single viewから取得した座標値のみを持つ点群の法線を推定する。内容は以下のsubsectionごとにまとめられる。\n",
    "  - Estimation with Covariance Matrix and Single View\n",
    "- (3) 他のパッケージを利用して法線推定する\n",
    "  - Use of Open3D\n"
   ]
  },
  {
   "cell_type": "code",
   "execution_count": 1,
   "metadata": {},
   "outputs": [],
   "source": [
    "%load_ext autoreload\n",
    "%autoreload 2"
   ]
  },
  {
   "cell_type": "markdown",
   "metadata": {},
   "source": [
    "## Estimation with Covariance Matrix \n",
    "\n",
    "このsubsectionでは、Covariance Matrixを用いたシンプルな手法で、座標値XYZのみを持つ点群に対して点ごとの法線を推定する。この方法では、ある点の近傍点がどの様に分布しているか計算し、点が広がっていない方向を法線として推定する。これは、点群がオブジェクト表面からサンプリングされており、点の分布形状を表面とみなすことができるためである。この点の分布を把握するため、Covariance Matrixを利用する。\n",
    "\n",
    "本subsectionで利用するモジュールは以下の通り:"
   ]
  },
  {
   "cell_type": "code",
   "execution_count": 2,
   "metadata": {},
   "outputs": [
    {
     "name": "stdout",
     "output_type": "stream",
     "text": [
      "Jupyter environment detected. Enabling Open3D WebVisualizer.\n",
      "[Open3D INFO] WebRTC GUI backend enabled.\n",
      "[Open3D INFO] WebRTCWindowSystem: HTTP handshake server disabled.\n"
     ]
    }
   ],
   "source": [
    "# for normal estimation\n",
    "import numpy as np\n",
    "from tutlibs.normals import normal_estimation, normal_orientation\n",
    "\n",
    "# for description\n",
    "from tutlibs.io import Points as io\n",
    "from tutlibs.transformation import translation\n",
    "from tutlibs.visualization import Points as visualizer\n",
    "from tutlibs.visualization import Line\n",
    "import inspect"
   ]
  },
  {
   "cell_type": "markdown",
   "metadata": {},
   "source": [
    "法線推定のコードは以下の通り:"
   ]
  },
  {
   "cell_type": "code",
   "execution_count": 3,
   "metadata": {},
   "outputs": [
    {
     "name": "stderr",
     "output_type": "stream",
     "text": [
      "/usr/local/pip-global/traittypes/traittypes.py:97: UserWarning: Given trait value dtype \"float64\" does not match required type \"float32\". A coerced copy has been created.\n",
      "  warnings.warn(\n"
     ]
    }
   ],
   "source": [
    "# Load a point cloud\n",
    "xyz, _, data = io.read('../data/bunny_pc.ply')\n",
    "\n",
    "# Estimate normals\n",
    "k = 15\n",
    "estimated_normals = normal_estimation(xyz, k=k)\n",
    "\n",
    "# Get GT normals\n",
    "gt_normals = np.stack([data['nx'], data['ny'], data['nz']], axis=-1)\n",
    "gt_xyz = translation(xyz, np.array([1, 0, 0]))\n",
    "\n",
    "\n",
    "# lines = np.concatenate([xyz[:, np.newaxis], (xyz+estimated_normals*0.1)[:, np.newaxis]], axis=1)\n",
    "# plot = Line.plot(lines)\n",
    "# visualizer.k3d(\n",
    "#     np.vstack([xyz, gt_xyz]), \n",
    "#     np.vstack([estimated_normals, gt_normals]),\n",
    "#     color_range=[-1, 1],\n",
    "#     plot=plot\n",
    "# )\n",
    "vis_xyz = np.vstack([xyz, gt_xyz])\n",
    "vis_color = np.vstack([estimated_normals, gt_normals])\n",
    "io.write('outputs/r1.ply', vis_xyz, vis_color)"
   ]
  },
  {
   "cell_type": "markdown",
   "metadata": {},
   "source": [
    "上記の推定では、x軸方向に0~1の間にある点群が法線推定を施した点群(法線推定点群)、1~2の間にある点群がMeshから直接取得した法線を持つ点群(GT法線点群)である。法線は法線マップと呼ばれる色合いによって示されている。\n",
    "この実装と結果については以下の２つに分けて説明する。\n",
    "\n",
    "1. Implementation: 法線推定を行う関数の中身について説明\n",
    "2. Analysis: GT法線点群と違い、法線マップがまだらである理由とその対処\n"
   ]
  },
  {
   "cell_type": "markdown",
   "metadata": {},
   "source": [
    "### Implementation\n",
    "上記コードでは、`normal_estimation`関数に法線推定ほ実装している。この関数の中身は以下の通り:\n"
   ]
  },
  {
   "cell_type": "code",
   "execution_count": 39,
   "metadata": {},
   "outputs": [
    {
     "name": "stdout",
     "output_type": "stream",
     "text": [
      "def normal_estimation(coords:np.ndarray, k:int=10) -> np.ndarray:\n",
      "    \"\"\"Estimate normals each point with eigenvector of covariance matrix.\n",
      "    This function use k nearest neighbor (kNN) to get covariance matrixs.\n",
      "\n",
      "    Args:\n",
      "        coords: coordinates of points, (N, 3)\n",
      "        k: number of neighbor for kNN\n",
      "\n",
      "    Returns\n",
      "        normals: estimated normals (N, 3)\n",
      "    \"\"\"\n",
      "    # Get neighbor points. (TODO: add radius)\n",
      "    idxs, _  = k_nearest_neighbors(coords, coords, k)\n",
      "    knn_points = grouping(coords, idxs)\n",
      "\n",
      "    # Get covariance matrix of each point.\n",
      "    knn_mean_points = np.mean(knn_points, axis=-2, keepdims=True)\n",
      "    deviation = knn_points - knn_mean_points\n",
      "    deviation_t = deviation.transpose(0, 2, 1)\n",
      "    covariance_matrixs = np.matmul(deviation_t, deviation) / k # (N, 3, 3)\n",
      "\n",
      "    # Get eigenvector and eigenvalue of each point\n",
      "    w, v = np.linalg.eig(covariance_matrixs.transpose(0, 2, 1))\n",
      "    # w, v = np.linalg.eig(covariance_matrixs)\n",
      "    w_min_idxs = np.argmin(w, axis=1)\n",
      "\n",
      "    # Get normal of each point (1)\n",
      "    normals = np.take_along_axis(v, w_min_idxs[:, np.newaxis, np.newaxis], axis=2)\n",
      "    normals = normals.squeeze(2) # (N, normal_vector, 1) -> (N, normal_vector)\n",
      "\n",
      "    return normals\n",
      "\n"
     ]
    }
   ],
   "source": [
    "print(inspect.getsource(normal_estimation))"
   ]
  },
  {
   "cell_type": "markdown",
   "metadata": {},
   "source": [
    "上記実装をコメントで各段分けて説明する。\n",
    "\n",
    "上記実装で解く問題の定義は次の通り: 点$p=[x, y, z]$を$M$個持つ点群$P=[p_1, p_2, ..., p_m, ..., p_M]$がある時、点群の各点の法線ベクトル$n$を推定する。推定するすべての点の法線を$N=[n_1, n_2, ..., n_M]$とする。\n",
    "\n",
    "プロセスは次の通り:\n",
    "\n",
    "1. `Get neighbor points.`: 法線を最近傍手法(本subsectionではkNN)を用いて、点群中の各点$p_m$は近傍点$p'_m=[p'_{m_1}, p'_{m_2}, ..., p'_{m_K}]$($p_m$を含む)を取得する。点群中の全ての点の近傍点は$P'=[p'_1, p'_2, ..., p'_m, ..., p'_M]$となる。\n",
    "2. `Get covariance matrix of each point.`: $p_m$ごとに$p'_m$の点の分布を取得するため、Covariance Matrixを求める。$\\overline{p}$を$p'_m$の平均座標値としたとき、Convariance Matrix $c$の式は次の通り:\n",
    "    $$\n",
    "    \\mathcal{C}=\\frac{1}{K} \\sum_{i=1}^{K} \\left(\\boldsymbol{p}'_{i}-\\overline{\\boldsymbol{p}}\\right) \\cdot\\left(\\boldsymbol{p}'_{i}-\\overline{\\boldsymbol{p}}\\right)^{T}\n",
    "    $$\n",
    "    ([PCLのEstimating Surface Normals in a PointCloud[1]](https://pcl.readthedocs.io/projects/tutorials/en/pcl-1.12.0-rc1/normal_estimation.html)より)  \n",
    "    $c$はM個あるため、$c_1, c_2, ..., c_m, ..., c_M$を取得する。\n",
    "3. `Get eigenvector and eigenvalue of each point`: 点が最も広がっていない方向を算出するため、$c_m$から固有値と固有ベクトルを取得する。最も低い固有値は点が最も広がっていない方向を指す固有ベクトルに対応する。\n",
    "4. `Get normal of each point`: 最も低い固有値に対応する固有ベクトルを法線として、法線を割り振る。\n"
   ]
  },
  {
   "cell_type": "markdown",
   "metadata": {},
   "source": [
    "### Analysis\n",
    "推定された法線の中には、本来の法線の向きとは真逆のものがある。これは、Convariance Matrixを使用して算出された法線の符号を解く術がないからである[1]。この問題に対処する方法の一つとして最小全域木の木構造を用いた方向付が挙げられる。方向付けは以下のコードの通り。\n"
   ]
  },
  {
   "cell_type": "code",
   "execution_count": 12,
   "metadata": {},
   "outputs": [
    {
     "data": {
      "application/vnd.jupyter.widget-view+json": {
       "model_id": "79f8094e49864e969c67d02646a1ad2f",
       "version_major": 2,
       "version_minor": 0
      },
      "text/plain": [
       "Output()"
      ]
     },
     "metadata": {},
     "output_type": "display_data"
    }
   ],
   "source": [
    "# Load a point cloud\n",
    "xyz, _, data = io.read('../data/bunny_pc.ply')\n",
    "\n",
    "# Estimate normals\n",
    "k = 15\n",
    "estimated_normals = normal_estimation(xyz, k=k)\n",
    "\n",
    "# with Orientation\n",
    "ori_estimated_normals = normal_orientation(xyz, estimated_normals)\n",
    "ori_xyz = translation(xyz, np.array([1, 0, 0]))\n",
    "\n",
    "# Get GT normals\n",
    "gt_normals = np.stack([data['nx'], data['ny'], data['nz']], axis=-1)\n",
    "gt_xyz = translation(xyz, np.array([2, 0, 0]))\n",
    "\n",
    "# visualization\n",
    "# lines = np.concatenate([xyz[:, np.newaxis], (xyz+estimated_normals*0.1)[:, np.newaxis]], axis=1)\n",
    "# plot = Line.plot(lines)\n",
    "visualizer.k3d(\n",
    "    np.vstack([xyz, ori_xyz, gt_xyz]), \n",
    "    np.vstack([estimated_normals, ori_estimated_normals, gt_normals]),\n",
    "    color_range=[-1, 1],\n",
    "    point_size=0.05\n",
    "    # plot=plot\n",
    ")"
   ]
  },
  {
   "cell_type": "markdown",
   "metadata": {},
   "source": [
    "出力はx=0~1の点群が法線推定点群、1~2が法線推定点群に方向付を適用したもの、2~3がGT法線点群である。方向付け方法は`normal_orientation`関数によって行われる。\n"
   ]
  },
  {
   "cell_type": "markdown",
   "metadata": {},
   "source": [
    "## Estimation with Covariance Matrix and Single View\n",
    "更新予定\n"
   ]
  },
  {
   "cell_type": "markdown",
   "metadata": {},
   "source": [
    "## Use of Open3D\n",
    "\n",
    "ここで使用するパッケージは以下の通りである。"
   ]
  },
  {
   "cell_type": "code",
   "execution_count": 6,
   "metadata": {},
   "outputs": [],
   "source": [
    "import open3d as o3d\n",
    "import numpy as np\n",
    "from tutlibs.visualization import Points as visualizer\n",
    "from tutlibs.visualization import Line\n",
    "from tutlibs.io import Points as io\n",
    "from tutlibs.transformation import translation"
   ]
  },
  {
   "cell_type": "markdown",
   "metadata": {},
   "source": [
    "コードは以下の通り。これらのコードは[こちら[2]](http://www.open3d.org/docs/release/tutorial/geometry/pointcloud.html#Vertex-normal-estimation)を参考に作成している。"
   ]
  },
  {
   "cell_type": "code",
   "execution_count": 5,
   "metadata": {},
   "outputs": [],
   "source": [
    "# Load a point cloud\n",
    "xyz, _, data = io.read('../data/bunny_pc.ply')\n",
    "\n",
    "# numpy to o3d format\n",
    "pc = o3d.geometry.PointCloud()\n",
    "pc.points = o3d.utility.Vector3dVector(xyz)\n",
    "\n",
    "# Estimate normals and convert to numpy\n",
    "pc.estimate_normals(search_param=o3d.geometry.KDTreeSearchParamHybrid(radius=0.1, max_nn=30))\n",
    "estimated_normals = np.asarray(pc.normals)\n",
    "\n",
    "# Get GT normals\n",
    "gt_normals = np.stack([data['nx'], data['ny'], data['nz']], axis=-1)\n",
    "gt_xyz = translation(xyz, np.array([1, 0, 0]))\n",
    "\n",
    "# Visualization\n",
    "lines = np.concatenate([xyz[:, np.newaxis], (xyz+estimated_normals*0.1)[:, np.newaxis]], axis=1)\n",
    "plot = Line.plot(lines)\n",
    "visualizer.k3d(\n",
    "    np.vstack([xyz, gt_xyz]), \n",
    "    np.vstack([estimated_normals, gt_normals]),\n",
    "    color_range=[-1, 1],\n",
    "    plot=plot\n",
    ")"
   ]
  },
  {
   "cell_type": "markdown",
   "metadata": {},
   "source": [
    "## References\n",
    "1. [Point Cloud Library. \"Estimating Surface Normals in a PointCloud — Point Cloud Library 0.0 documentation\" URL:https://pcl.readthedocs.io/projects/tutorials/en/pcl-1.12.0-rc1/normal_estimation.html. (access:2021/10/08)](https://pcl.readthedocs.io/projects/tutorials/en/pcl-1.12.0-rc1/normal_estimation.html)\n",
    "2. [Open3D. \"Point cloud — Open3D 0.13.0 documentation\" URL:http://www.open3d.org/docs/release/tutorial/geometry/pointcloud.html#Vertex-normal-estimation (access:2021/10/09)](http://www.open3d.org/docs/release/tutorial/geometry/pointcloud.html#Vertex-normal-estimation)"
   ]
  },
  {
   "cell_type": "markdown",
   "metadata": {},
   "source": []
  }
 ],
 "metadata": {
  "interpreter": {
   "hash": "949777d72b0d2535278d3dc13498b2535136f6dfe0678499012e853ee9abcab1"
  },
  "kernelspec": {
   "display_name": "Python 3.8.12 64-bit",
   "name": "python3"
  },
  "language_info": {
   "codemirror_mode": {
    "name": "ipython",
    "version": 3
   },
   "file_extension": ".py",
   "mimetype": "text/x-python",
   "name": "python",
   "nbconvert_exporter": "python",
   "pygments_lexer": "ipython3",
   "version": "3.8.12"
  },
  "orig_nbformat": 4
 },
 "nbformat": 4,
 "nbformat_minor": 2
}
