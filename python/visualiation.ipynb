{
 "cells": [
  {
   "cell_type": "code",
   "execution_count": 1,
   "metadata": {},
   "outputs": [],
   "source": [
    "%load_ext autoreload\n",
    "%autoreload 2"
   ]
  },
  {
   "cell_type": "code",
   "execution_count": 2,
   "metadata": {},
   "outputs": [
    {
     "name": "stdout",
     "output_type": "stream",
     "text": [
      "Jupyter environment detected. Enabling Open3D WebVisualizer.\n",
      "[Open3D INFO] WebRTC GUI backend enabled.\n",
      "[Open3D INFO] WebRTCWindowSystem: HTTP handshake server disabled.\n"
     ]
    }
   ],
   "source": [
    "# for normal estimation\n",
    "import numpy as np\n",
    "from tutlibs.normals import normal_estimation\n",
    "\n",
    "# for description\n",
    "from tutlibs.io import Points as io\n",
    "from tutlibs.transformation import translation\n",
    "from tutlibs.visualization import Points as visualizer\n",
    "from tutlibs.visualization import Line\n",
    "import inspect\n",
    "import k3d"
   ]
  },
  {
   "cell_type": "code",
   "execution_count": 28,
   "metadata": {},
   "outputs": [
    {
     "data": {
      "application/vnd.jupyter.widget-view+json": {
       "model_id": "4fb42ffb2d784be59f5c4ae50bd7a75d",
       "version_major": 2,
       "version_minor": 0
      },
      "text/plain": [
       "Output()"
      ]
     },
     "metadata": {},
     "output_type": "display_data"
    }
   ],
   "source": [
    "# Load a point cloud\n",
    "xyz, _, data = io.read('../data/bunny_pc.ply')\n",
    "\n",
    "# Estimate normals\n",
    "k = 15\n",
    "estimated_normals = normal_estimation(xyz, k=k)\n",
    "\n",
    "# Get GT normals\n",
    "gt_normals = np.stack([data['nx'], data['ny'], data['nz']], axis=-1)\n",
    "gt_xyz = translation(xyz, np.array([1, 0, 0]))\n",
    "\n",
    "\n",
    "lines = np.concatenate([xyz[:, np.newaxis], (xyz+estimated_normals*0.1)[:, np.newaxis]], axis=1)\n",
    "plot = Line.plot(lines)\n",
    "visualizer.k3d(\n",
    "    np.vstack([xyz, gt_xyz]), \n",
    "    np.vstack([estimated_normals, gt_normals]),\n",
    "    color_range=[-1, 1],\n",
    "    plot=plot\n",
    ")"
   ]
  },
  {
   "cell_type": "code",
   "execution_count": 25,
   "metadata": {},
   "outputs": [
    {
     "data": {
      "application/vnd.jupyter.widget-view+json": {
       "model_id": "d4b33c35bdac402995a978ab3faf83da",
       "version_major": 2,
       "version_minor": 0
      },
      "text/plain": [
       "Output()"
      ]
     },
     "metadata": {},
     "output_type": "display_data"
    }
   ],
   "source": [
    "arr = np.arange(1, 24, 0.1).reshape(-1, 1)\n",
    "arr = np.tile(arr, (1, 3))\n",
    "\n",
    "arr[::5] = np.nan\n",
    "arr[3] = np.array([3, 3, 3])\n",
    "arr[2] = np.array([3, 3, 5])\n",
    "# print(arr)\n",
    "\n",
    "k3d.line(arr, width=0.05)\n",
    "\n",
    "# phi = np.linspace(0,6*np.pi,250).astype(np.float32)\n",
    "# phi[::5] = np.nan\n",
    "# k3d.line( np.stack([np.cos(phi),np.sin(phi),0.1*phi]).T ) "
   ]
  },
  {
   "cell_type": "code",
   "execution_count": null,
   "metadata": {},
   "outputs": [],
   "source": []
  }
 ],
 "metadata": {
  "interpreter": {
   "hash": "949777d72b0d2535278d3dc13498b2535136f6dfe0678499012e853ee9abcab1"
  },
  "kernelspec": {
   "display_name": "Python 3.8.12 64-bit",
   "name": "python3"
  },
  "language_info": {
   "codemirror_mode": {
    "name": "ipython",
    "version": 3
   },
   "file_extension": ".py",
   "mimetype": "text/x-python",
   "name": "python",
   "nbconvert_exporter": "python",
   "pygments_lexer": "ipython3",
   "version": "3.8.12"
  },
  "orig_nbformat": 4
 },
 "nbformat": 4,
 "nbformat_minor": 2
}
